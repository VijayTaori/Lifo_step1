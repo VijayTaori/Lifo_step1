{
  "nbformat": 4,
  "nbformat_minor": 0,
  "metadata": {
    "colab": {
      "provenance": []
    },
    "kernelspec": {
      "name": "python3",
      "display_name": "Python 3"
    },
    "language_info": {
      "name": "python"
    }
  },
  "cells": [
    {
      "cell_type": "code",
      "execution_count": 2,
      "metadata": {
        "id": "Xphvg7WZm3TJ"
      },
      "outputs": [],
      "source": [
        "import pandas as pd\n",
        "import numpy as np\n",
        "import datetime as dt"
      ]
    },
    {
      "cell_type": "code",
      "source": [
        "df_open = pd.read_csv('/content/et_crypto_open_eur_rate.csv')\n",
        "df_close = pd.read_csv('/content/et_crypto_close_eur_rate.csv')"
      ],
      "metadata": {
        "id": "B2ZsxXJsnHDo"
      },
      "execution_count": 3,
      "outputs": []
    },
    {
      "cell_type": "code",
      "source": [
        "df_open_unix = pd.read_csv('/content/crypto_et_open_unixTstm.csv')\n",
        "df_close_unix = pd.read_csv('/content/crypto_et_close_unixTstm.csv')"
      ],
      "metadata": {
        "id": "hXyIVIb5B7d6"
      },
      "execution_count": 5,
      "outputs": []
    },
    {
      "cell_type": "code",
      "source": [
        "df_open['Open Datetime'] = pd.to_datetime(df_open['Open Datetime'],dayfirst=True)\n",
        "df_open['Open Date'] = pd.to_datetime(df_open['Open Date'],dayfirst=True)\n",
        "df_close['Close Datetime'] = pd.to_datetime(df_close['Close Datetime'],dayfirst=True)\n",
        "df_close['Close Date'] = pd.to_datetime(df_close['Close Date'],dayfirst=True)"
      ],
      "metadata": {
        "id": "-_4CK1RksWB8"
      },
      "execution_count": 4,
      "outputs": []
    },
    {
      "cell_type": "code",
      "source": [
        "df_open.columns"
      ],
      "metadata": {
        "colab": {
          "base_uri": "https://localhost:8080/"
        },
        "id": "GtysqBnUCnCX",
        "outputId": "7c5f76aa-5f23-40de-aec0-1eed5708a4a3"
      },
      "execution_count": 6,
      "outputs": [
        {
          "output_type": "execute_result",
          "data": {
            "text/plain": [
              "Index(['Open_Position ID', 'Open Datetime', 'Open Date', 'Open Action',\n",
              "       'Open Units', 'Open Amount_Eur', 'Open Rate_Eur'],\n",
              "      dtype='object')"
            ]
          },
          "metadata": {},
          "execution_count": 6
        }
      ]
    },
    {
      "cell_type": "code",
      "source": [
        "df_open_unix.columns"
      ],
      "metadata": {
        "colab": {
          "base_uri": "https://localhost:8080/"
        },
        "id": "pf4CbFrwFXmq",
        "outputId": "b26de4a1-8fa4-464f-972c-418aba16c609"
      },
      "execution_count": 11,
      "outputs": [
        {
          "output_type": "execute_result",
          "data": {
            "text/plain": [
              "Index(['Open_Position ID', 'Action', 'Amount', 'Units', 'Open Date',\n",
              "       'Open Rate', 'Date', 'open_unix_timestamp'],\n",
              "      dtype='object')"
            ]
          },
          "metadata": {},
          "execution_count": 11
        }
      ]
    },
    {
      "cell_type": "code",
      "source": [
        "df_close.columns"
      ],
      "metadata": {
        "colab": {
          "base_uri": "https://localhost:8080/"
        },
        "id": "ZKpNmAP0RfGu",
        "outputId": "a7524887-cb96-498f-ab7e-8de4a7adf50d"
      },
      "execution_count": 21,
      "outputs": [
        {
          "output_type": "execute_result",
          "data": {
            "text/plain": [
              "Index(['Close Position ID', 'Close Datetime', 'Close Date', 'Close Action',\n",
              "       'Close Units', 'Close Amount_Eur', 'Close Rate_Eur'],\n",
              "      dtype='object')"
            ]
          },
          "metadata": {},
          "execution_count": 21
        }
      ]
    },
    {
      "cell_type": "code",
      "source": [
        "df_close_unix.columns"
      ],
      "metadata": {
        "colab": {
          "base_uri": "https://localhost:8080/"
        },
        "id": "oh8MYVe5Rttm",
        "outputId": "8b0416bd-c234-480a-ead1-96e9c1692aa3"
      },
      "execution_count": 22,
      "outputs": [
        {
          "output_type": "execute_result",
          "data": {
            "text/plain": [
              "Index(['Position ID', 'Action', 'Units', 'Close Date', 'Spread', 'Profit',\n",
              "       'Close Rate', 'Date', 'close_unix_timestamp'],\n",
              "      dtype='object')"
            ]
          },
          "metadata": {},
          "execution_count": 22
        }
      ]
    },
    {
      "cell_type": "code",
      "source": [
        "df_open_unix.rename(columns={'Position ID':'Open_Position ID'}, inplace=True)"
      ],
      "metadata": {
        "id": "xFLRqf9yCt2S"
      },
      "execution_count": 8,
      "outputs": []
    },
    {
      "cell_type": "code",
      "source": [
        "df_close_unix.rename(columns={'Position ID':'Close Position ID'}, inplace=True)"
      ],
      "metadata": {
        "id": "_1xWJUFVR2PJ"
      },
      "execution_count": 23,
      "outputs": []
    },
    {
      "cell_type": "code",
      "source": [
        "df_open_unix['Open_Position ID'].nunique()"
      ],
      "metadata": {
        "colab": {
          "base_uri": "https://localhost:8080/"
        },
        "id": "AyyWusKsEogP",
        "outputId": "cd12fd51-6266-45d2-e629-83c17b89de37"
      },
      "execution_count": 9,
      "outputs": [
        {
          "output_type": "execute_result",
          "data": {
            "text/plain": [
              "810"
            ]
          },
          "metadata": {},
          "execution_count": 9
        }
      ]
    },
    {
      "cell_type": "code",
      "source": [
        "df_close_unix.nunique()"
      ],
      "metadata": {
        "colab": {
          "base_uri": "https://localhost:8080/"
        },
        "id": "sgiY7GLuSCwk",
        "outputId": "e0da4e21-3248-41ad-bdc7-765daba94695"
      },
      "execution_count": 24,
      "outputs": [
        {
          "output_type": "execute_result",
          "data": {
            "text/plain": [
              "Close Position ID       810\n",
              "Action                   24\n",
              "Units                   802\n",
              "Close Date              291\n",
              "Spread                  512\n",
              "Profit                  749\n",
              "Close Rate              427\n",
              "Date                    116\n",
              "close_unix_timestamp    578\n",
              "dtype: int64"
            ]
          },
          "metadata": {},
          "execution_count": 24
        }
      ]
    },
    {
      "cell_type": "code",
      "source": [
        "df_close.nunique()"
      ],
      "metadata": {
        "colab": {
          "base_uri": "https://localhost:8080/"
        },
        "id": "Xovv4uDWSPr2",
        "outputId": "b07119bb-5548-401e-bb68-940d8095a65c"
      },
      "execution_count": 25,
      "outputs": [
        {
          "output_type": "execute_result",
          "data": {
            "text/plain": [
              "Close Position ID    810\n",
              "Close Datetime       291\n",
              "Close Date           116\n",
              "Close Action          24\n",
              "Close Units          802\n",
              "Close Amount_Eur     809\n",
              "Close Rate_Eur       447\n",
              "dtype: int64"
            ]
          },
          "metadata": {},
          "execution_count": 25
        }
      ]
    },
    {
      "cell_type": "code",
      "source": [
        "df_open_ut = pd.merge(df_open,df_open_unix,on='Open_Position ID')"
      ],
      "metadata": {
        "id": "a-p_xNZZCYlt"
      },
      "execution_count": 15,
      "outputs": []
    },
    {
      "cell_type": "code",
      "source": [
        "df_close_ut = pd.merge(df_close,df_close_unix,on='Close Position ID')"
      ],
      "metadata": {
        "id": "lVZiE4Z4Slcl"
      },
      "execution_count": 26,
      "outputs": []
    },
    {
      "cell_type": "code",
      "source": [
        "df_open_ut.columns"
      ],
      "metadata": {
        "colab": {
          "base_uri": "https://localhost:8080/"
        },
        "id": "_dcw3-oLH9bU",
        "outputId": "27f5d1db-72cf-4dff-c2ab-55195af17ebc"
      },
      "execution_count": 16,
      "outputs": [
        {
          "output_type": "execute_result",
          "data": {
            "text/plain": [
              "Index(['Open_Position ID', 'Open Datetime', 'Open Date_x', 'Open Action',\n",
              "       'Open Units', 'Open Amount_Eur', 'Open Rate_Eur', 'Action', 'Amount',\n",
              "       'Units', 'Open Date_y', 'Open Rate', 'Date', 'open_unix_timestamp'],\n",
              "      dtype='object')"
            ]
          },
          "metadata": {},
          "execution_count": 16
        }
      ]
    },
    {
      "cell_type": "code",
      "source": [
        "df_open_ut.nunique()"
      ],
      "metadata": {
        "colab": {
          "base_uri": "https://localhost:8080/"
        },
        "id": "CVFynuG-MPN4",
        "outputId": "5364f5a8-c325-41de-d793-e243f87bd883"
      },
      "execution_count": 19,
      "outputs": [
        {
          "output_type": "execute_result",
          "data": {
            "text/plain": [
              "Open_Position ID       810\n",
              "Open Datetime          660\n",
              "Open Date_x            221\n",
              "Open Action             24\n",
              "Open Units             802\n",
              "Open Amount_Eur        471\n",
              "Open Rate_Eur          741\n",
              "open_unix_timestamp    768\n",
              "dtype: int64"
            ]
          },
          "metadata": {},
          "execution_count": 19
        }
      ]
    },
    {
      "cell_type": "code",
      "source": [
        "df_close_ut.columns"
      ],
      "metadata": {
        "colab": {
          "base_uri": "https://localhost:8080/"
        },
        "id": "mCBYgz2oSwn2",
        "outputId": "bb02edc5-9bf1-4edb-c193-c1ca99c0d5bd"
      },
      "execution_count": 28,
      "outputs": [
        {
          "output_type": "execute_result",
          "data": {
            "text/plain": [
              "Index(['Close Position ID', 'Close Datetime', 'Close Date_x', 'Close Action',\n",
              "       'Close Units', 'Close Amount_Eur', 'Close Rate_Eur', 'Action', 'Units',\n",
              "       'Close Date_y', 'Spread', 'Profit', 'Close Rate', 'Date',\n",
              "       'close_unix_timestamp'],\n",
              "      dtype='object')"
            ]
          },
          "metadata": {},
          "execution_count": 28
        }
      ]
    },
    {
      "cell_type": "code",
      "source": [
        "df_open_ut.drop(['Action', 'Amount',\n",
        "                 'Units', 'Open Date_y',\n",
        "                 'Open Rate', 'Date',],axis=1,inplace=True)"
      ],
      "metadata": {
        "id": "olw99_tHQ0Gj"
      },
      "execution_count": 18,
      "outputs": []
    },
    {
      "cell_type": "code",
      "source": [
        "df_close_ut.drop(['Action', 'Units',\n",
        "                  'Close Date_y', 'Spread',\n",
        "                  'Profit', 'Close Rate',\n",
        "                  'Date'],axis=1,inplace=True)"
      ],
      "metadata": {
        "id": "Nu93TqlZTWLo"
      },
      "execution_count": 30,
      "outputs": []
    },
    {
      "cell_type": "code",
      "source": [
        "df_close_ut.nunique()"
      ],
      "metadata": {
        "colab": {
          "base_uri": "https://localhost:8080/"
        },
        "id": "7J8fuV7OTLsN",
        "outputId": "18c23cf8-92d9-4d7d-cb86-e8d801f58958"
      },
      "execution_count": 31,
      "outputs": [
        {
          "output_type": "execute_result",
          "data": {
            "text/plain": [
              "Close Position ID       810\n",
              "Close Datetime          291\n",
              "Close Date_x            116\n",
              "Close Action             24\n",
              "Close Units             802\n",
              "Close Amount_Eur        809\n",
              "Close Rate_Eur          447\n",
              "close_unix_timestamp    578\n",
              "dtype: int64"
            ]
          },
          "metadata": {},
          "execution_count": 31
        }
      ]
    },
    {
      "cell_type": "code",
      "source": [
        "df_close_ut.to_csv('crypto_et_close_ut.csv',index=False)\n",
        "df_open_ut.to_csv('crypto_et_open_ut.csv',index=False)"
      ],
      "metadata": {
        "id": "oPgo_wV_Yud7"
      },
      "execution_count": 53,
      "outputs": []
    },
    {
      "cell_type": "code",
      "source": [
        "data = {}"
      ],
      "metadata": {
        "id": "rviE8bxDrCyh"
      },
      "execution_count": 34,
      "outputs": []
    },
    {
      "cell_type": "code",
      "source": [
        "data_btc = {}"
      ],
      "metadata": {
        "id": "Opi6dWacw0ud"
      },
      "execution_count": 35,
      "outputs": []
    },
    {
      "cell_type": "code",
      "source": [
        "df_close_ut.columns"
      ],
      "metadata": {
        "colab": {
          "base_uri": "https://localhost:8080/"
        },
        "id": "nFIKM24xVB-l",
        "outputId": "d69c83db-9d45-4a17-d11e-322c234d1707"
      },
      "execution_count": 36,
      "outputs": [
        {
          "output_type": "execute_result",
          "data": {
            "text/plain": [
              "Index(['Close Position ID', 'Close Datetime', 'Close Date_x', 'Close Action',\n",
              "       'Close Units', 'Close Amount_Eur', 'Close Rate_Eur',\n",
              "       'close_unix_timestamp'],\n",
              "      dtype='object')"
            ]
          },
          "metadata": {},
          "execution_count": 36
        }
      ]
    },
    {
      "cell_type": "code",
      "source": [
        "df_open_ut.columns"
      ],
      "metadata": {
        "colab": {
          "base_uri": "https://localhost:8080/"
        },
        "id": "LnSigG49VJbg",
        "outputId": "e5ffc2ca-6f6c-4275-d5fe-1f8a6f2db266"
      },
      "execution_count": 37,
      "outputs": [
        {
          "output_type": "execute_result",
          "data": {
            "text/plain": [
              "Index(['Open_Position ID', 'Open Datetime', 'Open Date_x', 'Open Action',\n",
              "       'Open Units', 'Open Amount_Eur', 'Open Rate_Eur',\n",
              "       'open_unix_timestamp'],\n",
              "      dtype='object')"
            ]
          },
          "metadata": {},
          "execution_count": 37
        }
      ]
    },
    {
      "cell_type": "code",
      "source": [
        "df_lifo = pd.DataFrame(data, columns=['Open_Position ID', 'Open Datetime', 'Open Date_x', 'Open Action',\n",
        "       'Open Units', 'Open Amount_Eur', 'Open Rate_Eur',\n",
        "       'open_unix_timestamp','Close Position ID', 'Close Datetime', 'Close Date_x', 'Close Action',\n",
        "       'Close Units', 'Close Amount_Eur', 'Close Rate_Eur',\n",
        "       'close_unix_timestamp'])"
      ],
      "metadata": {
        "id": "nuH0LFfYrL1Y"
      },
      "execution_count": 38,
      "outputs": []
    },
    {
      "cell_type": "code",
      "source": [
        "df_lifo_btc = pd.DataFrame(data_btc, columns=['Open_Position ID', 'Open Datetime', 'Open Date_x', 'Open Action',\n",
        "       'Open Units', 'Open Amount_Eur', 'Open Rate_Eur',\n",
        "       'open_unix_timestamp','Close Position ID', 'Close Datetime', 'Close Date_x', 'Close Action',\n",
        "       'Close Units', 'Close Amount_Eur', 'Close Rate_Eur',\n",
        "       'close_unix_timestamp'])"
      ],
      "metadata": {
        "id": "UN_kubvTw5H-"
      },
      "execution_count": 39,
      "outputs": []
    },
    {
      "cell_type": "code",
      "source": [
        "df_lifo"
      ],
      "metadata": {
        "colab": {
          "base_uri": "https://localhost:8080/",
          "height": 148
        },
        "id": "l1sgeS4PrxIh",
        "outputId": "5d0e3316-2e52-4835-a8c2-8c1aeb79c9ac"
      },
      "execution_count": 40,
      "outputs": [
        {
          "output_type": "execute_result",
          "data": {
            "text/plain": [
              "Empty DataFrame\n",
              "Columns: [Open_Position ID, Open Datetime, Open Date_x, Open Action, Open Units, Open Amount_Eur, Open Rate_Eur, open_unix_timestamp, Close Position ID, Close Datetime, Close Date_x, Close Action, Close Units, Close Amount_Eur, Close Rate_Eur, close_unix_timestamp]\n",
              "Index: []"
            ],
            "text/html": [
              "\n",
              "  <div id=\"df-fccfb8ae-7516-4939-a7a5-e01127218a43\">\n",
              "    <div class=\"colab-df-container\">\n",
              "      <div>\n",
              "<style scoped>\n",
              "    .dataframe tbody tr th:only-of-type {\n",
              "        vertical-align: middle;\n",
              "    }\n",
              "\n",
              "    .dataframe tbody tr th {\n",
              "        vertical-align: top;\n",
              "    }\n",
              "\n",
              "    .dataframe thead th {\n",
              "        text-align: right;\n",
              "    }\n",
              "</style>\n",
              "<table border=\"1\" class=\"dataframe\">\n",
              "  <thead>\n",
              "    <tr style=\"text-align: right;\">\n",
              "      <th></th>\n",
              "      <th>Open_Position ID</th>\n",
              "      <th>Open Datetime</th>\n",
              "      <th>Open Date_x</th>\n",
              "      <th>Open Action</th>\n",
              "      <th>Open Units</th>\n",
              "      <th>Open Amount_Eur</th>\n",
              "      <th>Open Rate_Eur</th>\n",
              "      <th>open_unix_timestamp</th>\n",
              "      <th>Close Position ID</th>\n",
              "      <th>Close Datetime</th>\n",
              "      <th>Close Date_x</th>\n",
              "      <th>Close Action</th>\n",
              "      <th>Close Units</th>\n",
              "      <th>Close Amount_Eur</th>\n",
              "      <th>Close Rate_Eur</th>\n",
              "      <th>close_unix_timestamp</th>\n",
              "    </tr>\n",
              "  </thead>\n",
              "  <tbody>\n",
              "  </tbody>\n",
              "</table>\n",
              "</div>\n",
              "      <button class=\"colab-df-convert\" onclick=\"convertToInteractive('df-fccfb8ae-7516-4939-a7a5-e01127218a43')\"\n",
              "              title=\"Convert this dataframe to an interactive table.\"\n",
              "              style=\"display:none;\">\n",
              "        \n",
              "  <svg xmlns=\"http://www.w3.org/2000/svg\" height=\"24px\"viewBox=\"0 0 24 24\"\n",
              "       width=\"24px\">\n",
              "    <path d=\"M0 0h24v24H0V0z\" fill=\"none\"/>\n",
              "    <path d=\"M18.56 5.44l.94 2.06.94-2.06 2.06-.94-2.06-.94-.94-2.06-.94 2.06-2.06.94zm-11 1L8.5 8.5l.94-2.06 2.06-.94-2.06-.94L8.5 2.5l-.94 2.06-2.06.94zm10 10l.94 2.06.94-2.06 2.06-.94-2.06-.94-.94-2.06-.94 2.06-2.06.94z\"/><path d=\"M17.41 7.96l-1.37-1.37c-.4-.4-.92-.59-1.43-.59-.52 0-1.04.2-1.43.59L10.3 9.45l-7.72 7.72c-.78.78-.78 2.05 0 2.83L4 21.41c.39.39.9.59 1.41.59.51 0 1.02-.2 1.41-.59l7.78-7.78 2.81-2.81c.8-.78.8-2.07 0-2.86zM5.41 20L4 18.59l7.72-7.72 1.47 1.35L5.41 20z\"/>\n",
              "  </svg>\n",
              "      </button>\n",
              "      \n",
              "  <style>\n",
              "    .colab-df-container {\n",
              "      display:flex;\n",
              "      flex-wrap:wrap;\n",
              "      gap: 12px;\n",
              "    }\n",
              "\n",
              "    .colab-df-convert {\n",
              "      background-color: #E8F0FE;\n",
              "      border: none;\n",
              "      border-radius: 50%;\n",
              "      cursor: pointer;\n",
              "      display: none;\n",
              "      fill: #1967D2;\n",
              "      height: 32px;\n",
              "      padding: 0 0 0 0;\n",
              "      width: 32px;\n",
              "    }\n",
              "\n",
              "    .colab-df-convert:hover {\n",
              "      background-color: #E2EBFA;\n",
              "      box-shadow: 0px 1px 2px rgba(60, 64, 67, 0.3), 0px 1px 3px 1px rgba(60, 64, 67, 0.15);\n",
              "      fill: #174EA6;\n",
              "    }\n",
              "\n",
              "    [theme=dark] .colab-df-convert {\n",
              "      background-color: #3B4455;\n",
              "      fill: #D2E3FC;\n",
              "    }\n",
              "\n",
              "    [theme=dark] .colab-df-convert:hover {\n",
              "      background-color: #434B5C;\n",
              "      box-shadow: 0px 1px 3px 1px rgba(0, 0, 0, 0.15);\n",
              "      filter: drop-shadow(0px 1px 2px rgba(0, 0, 0, 0.3));\n",
              "      fill: #FFFFFF;\n",
              "    }\n",
              "  </style>\n",
              "\n",
              "      <script>\n",
              "        const buttonEl =\n",
              "          document.querySelector('#df-fccfb8ae-7516-4939-a7a5-e01127218a43 button.colab-df-convert');\n",
              "        buttonEl.style.display =\n",
              "          google.colab.kernel.accessAllowed ? 'block' : 'none';\n",
              "\n",
              "        async function convertToInteractive(key) {\n",
              "          const element = document.querySelector('#df-fccfb8ae-7516-4939-a7a5-e01127218a43');\n",
              "          const dataTable =\n",
              "            await google.colab.kernel.invokeFunction('convertToInteractive',\n",
              "                                                     [key], {});\n",
              "          if (!dataTable) return;\n",
              "\n",
              "          const docLinkHtml = 'Like what you see? Visit the ' +\n",
              "            '<a target=\"_blank\" href=https://colab.research.google.com/notebooks/data_table.ipynb>data table notebook</a>'\n",
              "            + ' to learn more about interactive tables.';\n",
              "          element.innerHTML = '';\n",
              "          dataTable['output_type'] = 'display_data';\n",
              "          await google.colab.output.renderOutput(dataTable, element);\n",
              "          const docLink = document.createElement('div');\n",
              "          docLink.innerHTML = docLinkHtml;\n",
              "          element.appendChild(docLink);\n",
              "        }\n",
              "      </script>\n",
              "    </div>\n",
              "  </div>\n",
              "  "
            ]
          },
          "metadata": {},
          "execution_count": 40
        }
      ]
    },
    {
      "cell_type": "code",
      "source": [
        "df_lifo_btc"
      ],
      "metadata": {
        "colab": {
          "base_uri": "https://localhost:8080/",
          "height": 148
        },
        "id": "kllpfBzBxAsV",
        "outputId": "ac6d0d94-2aba-45e6-99b8-00e574be6443"
      },
      "execution_count": 41,
      "outputs": [
        {
          "output_type": "execute_result",
          "data": {
            "text/plain": [
              "Empty DataFrame\n",
              "Columns: [Open_Position ID, Open Datetime, Open Date_x, Open Action, Open Units, Open Amount_Eur, Open Rate_Eur, open_unix_timestamp, Close Position ID, Close Datetime, Close Date_x, Close Action, Close Units, Close Amount_Eur, Close Rate_Eur, close_unix_timestamp]\n",
              "Index: []"
            ],
            "text/html": [
              "\n",
              "  <div id=\"df-3b755bd1-56da-4695-870f-7893b04922a4\">\n",
              "    <div class=\"colab-df-container\">\n",
              "      <div>\n",
              "<style scoped>\n",
              "    .dataframe tbody tr th:only-of-type {\n",
              "        vertical-align: middle;\n",
              "    }\n",
              "\n",
              "    .dataframe tbody tr th {\n",
              "        vertical-align: top;\n",
              "    }\n",
              "\n",
              "    .dataframe thead th {\n",
              "        text-align: right;\n",
              "    }\n",
              "</style>\n",
              "<table border=\"1\" class=\"dataframe\">\n",
              "  <thead>\n",
              "    <tr style=\"text-align: right;\">\n",
              "      <th></th>\n",
              "      <th>Open_Position ID</th>\n",
              "      <th>Open Datetime</th>\n",
              "      <th>Open Date_x</th>\n",
              "      <th>Open Action</th>\n",
              "      <th>Open Units</th>\n",
              "      <th>Open Amount_Eur</th>\n",
              "      <th>Open Rate_Eur</th>\n",
              "      <th>open_unix_timestamp</th>\n",
              "      <th>Close Position ID</th>\n",
              "      <th>Close Datetime</th>\n",
              "      <th>Close Date_x</th>\n",
              "      <th>Close Action</th>\n",
              "      <th>Close Units</th>\n",
              "      <th>Close Amount_Eur</th>\n",
              "      <th>Close Rate_Eur</th>\n",
              "      <th>close_unix_timestamp</th>\n",
              "    </tr>\n",
              "  </thead>\n",
              "  <tbody>\n",
              "  </tbody>\n",
              "</table>\n",
              "</div>\n",
              "      <button class=\"colab-df-convert\" onclick=\"convertToInteractive('df-3b755bd1-56da-4695-870f-7893b04922a4')\"\n",
              "              title=\"Convert this dataframe to an interactive table.\"\n",
              "              style=\"display:none;\">\n",
              "        \n",
              "  <svg xmlns=\"http://www.w3.org/2000/svg\" height=\"24px\"viewBox=\"0 0 24 24\"\n",
              "       width=\"24px\">\n",
              "    <path d=\"M0 0h24v24H0V0z\" fill=\"none\"/>\n",
              "    <path d=\"M18.56 5.44l.94 2.06.94-2.06 2.06-.94-2.06-.94-.94-2.06-.94 2.06-2.06.94zm-11 1L8.5 8.5l.94-2.06 2.06-.94-2.06-.94L8.5 2.5l-.94 2.06-2.06.94zm10 10l.94 2.06.94-2.06 2.06-.94-2.06-.94-.94-2.06-.94 2.06-2.06.94z\"/><path d=\"M17.41 7.96l-1.37-1.37c-.4-.4-.92-.59-1.43-.59-.52 0-1.04.2-1.43.59L10.3 9.45l-7.72 7.72c-.78.78-.78 2.05 0 2.83L4 21.41c.39.39.9.59 1.41.59.51 0 1.02-.2 1.41-.59l7.78-7.78 2.81-2.81c.8-.78.8-2.07 0-2.86zM5.41 20L4 18.59l7.72-7.72 1.47 1.35L5.41 20z\"/>\n",
              "  </svg>\n",
              "      </button>\n",
              "      \n",
              "  <style>\n",
              "    .colab-df-container {\n",
              "      display:flex;\n",
              "      flex-wrap:wrap;\n",
              "      gap: 12px;\n",
              "    }\n",
              "\n",
              "    .colab-df-convert {\n",
              "      background-color: #E8F0FE;\n",
              "      border: none;\n",
              "      border-radius: 50%;\n",
              "      cursor: pointer;\n",
              "      display: none;\n",
              "      fill: #1967D2;\n",
              "      height: 32px;\n",
              "      padding: 0 0 0 0;\n",
              "      width: 32px;\n",
              "    }\n",
              "\n",
              "    .colab-df-convert:hover {\n",
              "      background-color: #E2EBFA;\n",
              "      box-shadow: 0px 1px 2px rgba(60, 64, 67, 0.3), 0px 1px 3px 1px rgba(60, 64, 67, 0.15);\n",
              "      fill: #174EA6;\n",
              "    }\n",
              "\n",
              "    [theme=dark] .colab-df-convert {\n",
              "      background-color: #3B4455;\n",
              "      fill: #D2E3FC;\n",
              "    }\n",
              "\n",
              "    [theme=dark] .colab-df-convert:hover {\n",
              "      background-color: #434B5C;\n",
              "      box-shadow: 0px 1px 3px 1px rgba(0, 0, 0, 0.15);\n",
              "      filter: drop-shadow(0px 1px 2px rgba(0, 0, 0, 0.3));\n",
              "      fill: #FFFFFF;\n",
              "    }\n",
              "  </style>\n",
              "\n",
              "      <script>\n",
              "        const buttonEl =\n",
              "          document.querySelector('#df-3b755bd1-56da-4695-870f-7893b04922a4 button.colab-df-convert');\n",
              "        buttonEl.style.display =\n",
              "          google.colab.kernel.accessAllowed ? 'block' : 'none';\n",
              "\n",
              "        async function convertToInteractive(key) {\n",
              "          const element = document.querySelector('#df-3b755bd1-56da-4695-870f-7893b04922a4');\n",
              "          const dataTable =\n",
              "            await google.colab.kernel.invokeFunction('convertToInteractive',\n",
              "                                                     [key], {});\n",
              "          if (!dataTable) return;\n",
              "\n",
              "          const docLinkHtml = 'Like what you see? Visit the ' +\n",
              "            '<a target=\"_blank\" href=https://colab.research.google.com/notebooks/data_table.ipynb>data table notebook</a>'\n",
              "            + ' to learn more about interactive tables.';\n",
              "          element.innerHTML = '';\n",
              "          dataTable['output_type'] = 'display_data';\n",
              "          await google.colab.output.renderOutput(dataTable, element);\n",
              "          const docLink = document.createElement('div');\n",
              "          docLink.innerHTML = docLinkHtml;\n",
              "          element.appendChild(docLink);\n",
              "        }\n",
              "      </script>\n",
              "    </div>\n",
              "  </div>\n",
              "  "
            ]
          },
          "metadata": {},
          "execution_count": 41
        }
      ]
    },
    {
      "cell_type": "code",
      "source": [
        "'''\n",
        "df_lifo['Open Datetime'] = pd.to_datetime(df_lifo['Open Datetime'],dayfirst=True)\n",
        "df_lifo['Open Date'] = pd.to_datetime(df_lifo['Open Date'],dayfirst=True)\n",
        "df_lifo['Close Datetime'] = pd.to_datetime(df_lifo['Close Datetime'],dayfirst=True)\n",
        "df_lifo['Close Date'] = pd.to_datetime(df_lifo['Close Date'],dayfirst=True)\n",
        "'''"
      ],
      "metadata": {
        "id": "bGxqMKTltAaa"
      },
      "execution_count": null,
      "outputs": []
    },
    {
      "cell_type": "code",
      "source": [
        "df_open_ut.columns"
      ],
      "metadata": {
        "colab": {
          "base_uri": "https://localhost:8080/"
        },
        "id": "ReS3SUUinIWr",
        "outputId": "5013ef71-85cd-4864-f2f3-a1a7220fa27d"
      },
      "execution_count": 32,
      "outputs": [
        {
          "output_type": "execute_result",
          "data": {
            "text/plain": [
              "Index(['Open_Position ID', 'Open Datetime', 'Open Date_x', 'Open Action',\n",
              "       'Open Units', 'Open Amount_Eur', 'Open Rate_Eur',\n",
              "       'open_unix_timestamp'],\n",
              "      dtype='object')"
            ]
          },
          "metadata": {},
          "execution_count": 32
        }
      ]
    },
    {
      "cell_type": "code",
      "source": [
        "df_close_ut.columns"
      ],
      "metadata": {
        "colab": {
          "base_uri": "https://localhost:8080/"
        },
        "id": "Xtzc1Qe_nId_",
        "outputId": "b5b5c38b-a755-40eb-f377-ba6c1df5b8e7"
      },
      "execution_count": 33,
      "outputs": [
        {
          "output_type": "execute_result",
          "data": {
            "text/plain": [
              "Index(['Close Position ID', 'Close Datetime', 'Close Date_x', 'Close Action',\n",
              "       'Close Units', 'Close Amount_Eur', 'Close Rate_Eur',\n",
              "       'close_unix_timestamp'],\n",
              "      dtype='object')"
            ]
          },
          "metadata": {},
          "execution_count": 33
        }
      ]
    },
    {
      "cell_type": "code",
      "source": [
        "df_close_ut_btc = df_close_ut[df_close_ut['Close Action']=='Buy Bitcoin']"
      ],
      "metadata": {
        "id": "Jo4D1DJLvXyA"
      },
      "execution_count": 42,
      "outputs": []
    },
    {
      "cell_type": "code",
      "source": [
        "#df_close_ut_btc.reset_index(inplace=True)\n",
        "df_close_ut_btc.rename(columns={'index':'Close_index'},inplace=True)\n",
        "df_close_ut_btc"
      ],
      "metadata": {
        "colab": {
          "base_uri": "https://localhost:8080/",
          "height": 554
        },
        "id": "bviSdvk1uQlb",
        "outputId": "87a5909e-6ae5-4991-85d1-b449f93b8375"
      },
      "execution_count": 46,
      "outputs": [
        {
          "output_type": "stream",
          "name": "stderr",
          "text": [
            "/usr/local/lib/python3.8/dist-packages/pandas/core/frame.py:5039: SettingWithCopyWarning: \n",
            "A value is trying to be set on a copy of a slice from a DataFrame\n",
            "\n",
            "See the caveats in the documentation: https://pandas.pydata.org/pandas-docs/stable/user_guide/indexing.html#returning-a-view-versus-a-copy\n",
            "  return super().rename(\n"
          ]
        },
        {
          "output_type": "execute_result",
          "data": {
            "text/plain": [
              "     Close_index  Close Position ID      Close Datetime Close Date_x  \\\n",
              "0              0          599996081 2020-05-01 11:44:00   2020-05-01   \n",
              "1              1          610187469 2020-05-01 20:55:00   2020-05-01   \n",
              "2              2          610190271 2020-05-01 20:56:00   2020-05-01   \n",
              "3              3          609940706 2020-05-01 20:57:00   2020-05-01   \n",
              "4              4          609941239 2020-05-01 20:57:00   2020-05-01   \n",
              "..           ...                ...                 ...          ...   \n",
              "199          804         1165132120 2022-05-12 09:16:00   2022-05-12   \n",
              "200          805         1361963252 2022-05-12 09:16:00   2022-05-12   \n",
              "201          806         1353186945 2022-05-12 09:16:00   2022-05-12   \n",
              "202          807         1283235754 2022-05-12 09:16:00   2022-05-12   \n",
              "203          808         1370705010 2022-05-12 09:16:00   2022-05-12   \n",
              "\n",
              "    Close Action  Close Units  Close Amount_Eur  Close Rate_Eur  \\\n",
              "0    Buy Bitcoin     0.014149        115.062682     8194.258482   \n",
              "1    Buy Bitcoin     0.058647        458.884862     7884.243731   \n",
              "2    Buy Bitcoin     0.058881        461.070130     7890.334733   \n",
              "3    Buy Bitcoin     0.118959        932.284501     7896.906842   \n",
              "4    Buy Bitcoin     0.112364        881.648237     7906.338364   \n",
              "..           ...          ...               ...             ...   \n",
              "199  Buy Bitcoin     0.013298        344.769082    26469.346380   \n",
              "200  Buy Bitcoin     0.001490         38.527932    26401.130130   \n",
              "201  Buy Bitcoin     0.001611         41.680601    26417.027940   \n",
              "202  Buy Bitcoin     0.042603       1104.091794    26458.424940   \n",
              "203  Buy Bitcoin     0.006407        166.055431    26460.970110   \n",
              "\n",
              "     close_unix_timestamp  \n",
              "0              1588333464  \n",
              "1              1588366545  \n",
              "2              1588366565  \n",
              "3              1588366624  \n",
              "4              1588366674  \n",
              "..                    ...  \n",
              "199            1652346960  \n",
              "200            1652346992  \n",
              "201            1652346989  \n",
              "202            1652346973  \n",
              "203            1652346987  \n",
              "\n",
              "[204 rows x 9 columns]"
            ],
            "text/html": [
              "\n",
              "  <div id=\"df-ddd1194c-ac5f-4edd-a405-11c30a1c89c4\">\n",
              "    <div class=\"colab-df-container\">\n",
              "      <div>\n",
              "<style scoped>\n",
              "    .dataframe tbody tr th:only-of-type {\n",
              "        vertical-align: middle;\n",
              "    }\n",
              "\n",
              "    .dataframe tbody tr th {\n",
              "        vertical-align: top;\n",
              "    }\n",
              "\n",
              "    .dataframe thead th {\n",
              "        text-align: right;\n",
              "    }\n",
              "</style>\n",
              "<table border=\"1\" class=\"dataframe\">\n",
              "  <thead>\n",
              "    <tr style=\"text-align: right;\">\n",
              "      <th></th>\n",
              "      <th>Close_index</th>\n",
              "      <th>Close Position ID</th>\n",
              "      <th>Close Datetime</th>\n",
              "      <th>Close Date_x</th>\n",
              "      <th>Close Action</th>\n",
              "      <th>Close Units</th>\n",
              "      <th>Close Amount_Eur</th>\n",
              "      <th>Close Rate_Eur</th>\n",
              "      <th>close_unix_timestamp</th>\n",
              "    </tr>\n",
              "  </thead>\n",
              "  <tbody>\n",
              "    <tr>\n",
              "      <th>0</th>\n",
              "      <td>0</td>\n",
              "      <td>599996081</td>\n",
              "      <td>2020-05-01 11:44:00</td>\n",
              "      <td>2020-05-01</td>\n",
              "      <td>Buy Bitcoin</td>\n",
              "      <td>0.014149</td>\n",
              "      <td>115.062682</td>\n",
              "      <td>8194.258482</td>\n",
              "      <td>1588333464</td>\n",
              "    </tr>\n",
              "    <tr>\n",
              "      <th>1</th>\n",
              "      <td>1</td>\n",
              "      <td>610187469</td>\n",
              "      <td>2020-05-01 20:55:00</td>\n",
              "      <td>2020-05-01</td>\n",
              "      <td>Buy Bitcoin</td>\n",
              "      <td>0.058647</td>\n",
              "      <td>458.884862</td>\n",
              "      <td>7884.243731</td>\n",
              "      <td>1588366545</td>\n",
              "    </tr>\n",
              "    <tr>\n",
              "      <th>2</th>\n",
              "      <td>2</td>\n",
              "      <td>610190271</td>\n",
              "      <td>2020-05-01 20:56:00</td>\n",
              "      <td>2020-05-01</td>\n",
              "      <td>Buy Bitcoin</td>\n",
              "      <td>0.058881</td>\n",
              "      <td>461.070130</td>\n",
              "      <td>7890.334733</td>\n",
              "      <td>1588366565</td>\n",
              "    </tr>\n",
              "    <tr>\n",
              "      <th>3</th>\n",
              "      <td>3</td>\n",
              "      <td>609940706</td>\n",
              "      <td>2020-05-01 20:57:00</td>\n",
              "      <td>2020-05-01</td>\n",
              "      <td>Buy Bitcoin</td>\n",
              "      <td>0.118959</td>\n",
              "      <td>932.284501</td>\n",
              "      <td>7896.906842</td>\n",
              "      <td>1588366624</td>\n",
              "    </tr>\n",
              "    <tr>\n",
              "      <th>4</th>\n",
              "      <td>4</td>\n",
              "      <td>609941239</td>\n",
              "      <td>2020-05-01 20:57:00</td>\n",
              "      <td>2020-05-01</td>\n",
              "      <td>Buy Bitcoin</td>\n",
              "      <td>0.112364</td>\n",
              "      <td>881.648237</td>\n",
              "      <td>7906.338364</td>\n",
              "      <td>1588366674</td>\n",
              "    </tr>\n",
              "    <tr>\n",
              "      <th>...</th>\n",
              "      <td>...</td>\n",
              "      <td>...</td>\n",
              "      <td>...</td>\n",
              "      <td>...</td>\n",
              "      <td>...</td>\n",
              "      <td>...</td>\n",
              "      <td>...</td>\n",
              "      <td>...</td>\n",
              "      <td>...</td>\n",
              "    </tr>\n",
              "    <tr>\n",
              "      <th>199</th>\n",
              "      <td>804</td>\n",
              "      <td>1165132120</td>\n",
              "      <td>2022-05-12 09:16:00</td>\n",
              "      <td>2022-05-12</td>\n",
              "      <td>Buy Bitcoin</td>\n",
              "      <td>0.013298</td>\n",
              "      <td>344.769082</td>\n",
              "      <td>26469.346380</td>\n",
              "      <td>1652346960</td>\n",
              "    </tr>\n",
              "    <tr>\n",
              "      <th>200</th>\n",
              "      <td>805</td>\n",
              "      <td>1361963252</td>\n",
              "      <td>2022-05-12 09:16:00</td>\n",
              "      <td>2022-05-12</td>\n",
              "      <td>Buy Bitcoin</td>\n",
              "      <td>0.001490</td>\n",
              "      <td>38.527932</td>\n",
              "      <td>26401.130130</td>\n",
              "      <td>1652346992</td>\n",
              "    </tr>\n",
              "    <tr>\n",
              "      <th>201</th>\n",
              "      <td>806</td>\n",
              "      <td>1353186945</td>\n",
              "      <td>2022-05-12 09:16:00</td>\n",
              "      <td>2022-05-12</td>\n",
              "      <td>Buy Bitcoin</td>\n",
              "      <td>0.001611</td>\n",
              "      <td>41.680601</td>\n",
              "      <td>26417.027940</td>\n",
              "      <td>1652346989</td>\n",
              "    </tr>\n",
              "    <tr>\n",
              "      <th>202</th>\n",
              "      <td>807</td>\n",
              "      <td>1283235754</td>\n",
              "      <td>2022-05-12 09:16:00</td>\n",
              "      <td>2022-05-12</td>\n",
              "      <td>Buy Bitcoin</td>\n",
              "      <td>0.042603</td>\n",
              "      <td>1104.091794</td>\n",
              "      <td>26458.424940</td>\n",
              "      <td>1652346973</td>\n",
              "    </tr>\n",
              "    <tr>\n",
              "      <th>203</th>\n",
              "      <td>808</td>\n",
              "      <td>1370705010</td>\n",
              "      <td>2022-05-12 09:16:00</td>\n",
              "      <td>2022-05-12</td>\n",
              "      <td>Buy Bitcoin</td>\n",
              "      <td>0.006407</td>\n",
              "      <td>166.055431</td>\n",
              "      <td>26460.970110</td>\n",
              "      <td>1652346987</td>\n",
              "    </tr>\n",
              "  </tbody>\n",
              "</table>\n",
              "<p>204 rows × 9 columns</p>\n",
              "</div>\n",
              "      <button class=\"colab-df-convert\" onclick=\"convertToInteractive('df-ddd1194c-ac5f-4edd-a405-11c30a1c89c4')\"\n",
              "              title=\"Convert this dataframe to an interactive table.\"\n",
              "              style=\"display:none;\">\n",
              "        \n",
              "  <svg xmlns=\"http://www.w3.org/2000/svg\" height=\"24px\"viewBox=\"0 0 24 24\"\n",
              "       width=\"24px\">\n",
              "    <path d=\"M0 0h24v24H0V0z\" fill=\"none\"/>\n",
              "    <path d=\"M18.56 5.44l.94 2.06.94-2.06 2.06-.94-2.06-.94-.94-2.06-.94 2.06-2.06.94zm-11 1L8.5 8.5l.94-2.06 2.06-.94-2.06-.94L8.5 2.5l-.94 2.06-2.06.94zm10 10l.94 2.06.94-2.06 2.06-.94-2.06-.94-.94-2.06-.94 2.06-2.06.94z\"/><path d=\"M17.41 7.96l-1.37-1.37c-.4-.4-.92-.59-1.43-.59-.52 0-1.04.2-1.43.59L10.3 9.45l-7.72 7.72c-.78.78-.78 2.05 0 2.83L4 21.41c.39.39.9.59 1.41.59.51 0 1.02-.2 1.41-.59l7.78-7.78 2.81-2.81c.8-.78.8-2.07 0-2.86zM5.41 20L4 18.59l7.72-7.72 1.47 1.35L5.41 20z\"/>\n",
              "  </svg>\n",
              "      </button>\n",
              "      \n",
              "  <style>\n",
              "    .colab-df-container {\n",
              "      display:flex;\n",
              "      flex-wrap:wrap;\n",
              "      gap: 12px;\n",
              "    }\n",
              "\n",
              "    .colab-df-convert {\n",
              "      background-color: #E8F0FE;\n",
              "      border: none;\n",
              "      border-radius: 50%;\n",
              "      cursor: pointer;\n",
              "      display: none;\n",
              "      fill: #1967D2;\n",
              "      height: 32px;\n",
              "      padding: 0 0 0 0;\n",
              "      width: 32px;\n",
              "    }\n",
              "\n",
              "    .colab-df-convert:hover {\n",
              "      background-color: #E2EBFA;\n",
              "      box-shadow: 0px 1px 2px rgba(60, 64, 67, 0.3), 0px 1px 3px 1px rgba(60, 64, 67, 0.15);\n",
              "      fill: #174EA6;\n",
              "    }\n",
              "\n",
              "    [theme=dark] .colab-df-convert {\n",
              "      background-color: #3B4455;\n",
              "      fill: #D2E3FC;\n",
              "    }\n",
              "\n",
              "    [theme=dark] .colab-df-convert:hover {\n",
              "      background-color: #434B5C;\n",
              "      box-shadow: 0px 1px 3px 1px rgba(0, 0, 0, 0.15);\n",
              "      filter: drop-shadow(0px 1px 2px rgba(0, 0, 0, 0.3));\n",
              "      fill: #FFFFFF;\n",
              "    }\n",
              "  </style>\n",
              "\n",
              "      <script>\n",
              "        const buttonEl =\n",
              "          document.querySelector('#df-ddd1194c-ac5f-4edd-a405-11c30a1c89c4 button.colab-df-convert');\n",
              "        buttonEl.style.display =\n",
              "          google.colab.kernel.accessAllowed ? 'block' : 'none';\n",
              "\n",
              "        async function convertToInteractive(key) {\n",
              "          const element = document.querySelector('#df-ddd1194c-ac5f-4edd-a405-11c30a1c89c4');\n",
              "          const dataTable =\n",
              "            await google.colab.kernel.invokeFunction('convertToInteractive',\n",
              "                                                     [key], {});\n",
              "          if (!dataTable) return;\n",
              "\n",
              "          const docLinkHtml = 'Like what you see? Visit the ' +\n",
              "            '<a target=\"_blank\" href=https://colab.research.google.com/notebooks/data_table.ipynb>data table notebook</a>'\n",
              "            + ' to learn more about interactive tables.';\n",
              "          element.innerHTML = '';\n",
              "          dataTable['output_type'] = 'display_data';\n",
              "          await google.colab.output.renderOutput(dataTable, element);\n",
              "          const docLink = document.createElement('div');\n",
              "          docLink.innerHTML = docLinkHtml;\n",
              "          element.appendChild(docLink);\n",
              "        }\n",
              "      </script>\n",
              "    </div>\n",
              "  </div>\n",
              "  "
            ]
          },
          "metadata": {},
          "execution_count": 46
        }
      ]
    },
    {
      "cell_type": "code",
      "source": [
        "df_close_ut_btc.nunique()"
      ],
      "metadata": {
        "colab": {
          "base_uri": "https://localhost:8080/"
        },
        "id": "cYZh472QWSLQ",
        "outputId": "df8f31ba-0919-4873-bc6d-dae2776ea5fe"
      },
      "execution_count": 47,
      "outputs": [
        {
          "output_type": "execute_result",
          "data": {
            "text/plain": [
              "Close_index             204\n",
              "Close Position ID       204\n",
              "Close Datetime           66\n",
              "Close Date_x             34\n",
              "Close Action              1\n",
              "Close Units             203\n",
              "Close Amount_Eur        204\n",
              "Close Rate_Eur          135\n",
              "close_unix_timestamp    134\n",
              "dtype: int64"
            ]
          },
          "metadata": {},
          "execution_count": 47
        }
      ]
    },
    {
      "cell_type": "code",
      "source": [
        "df_open_ut_btc = df_open[df_open['Open Action']=='Buy Bitcoin']"
      ],
      "metadata": {
        "id": "ZWkkWMVNwCY7"
      },
      "execution_count": 48,
      "outputs": []
    },
    {
      "cell_type": "code",
      "source": [
        "#df_open_ut_btc.reset_index(inplace=True)\n",
        "df_open_ut_btc.rename(columns={'index':'Open_index'},inplace=True)\n",
        "df_open_ut_btc"
      ],
      "metadata": {
        "colab": {
          "base_uri": "https://localhost:8080/",
          "height": 510
        },
        "id": "SLKoc0-S_FG7",
        "outputId": "0e0665e5-9290-4366-c3e9-4cd93140a764"
      },
      "execution_count": 52,
      "outputs": [
        {
          "output_type": "stream",
          "name": "stderr",
          "text": [
            "/usr/local/lib/python3.8/dist-packages/pandas/core/frame.py:5039: SettingWithCopyWarning: \n",
            "A value is trying to be set on a copy of a slice from a DataFrame\n",
            "\n",
            "See the caveats in the documentation: https://pandas.pydata.org/pandas-docs/stable/user_guide/indexing.html#returning-a-view-versus-a-copy\n",
            "  return super().rename(\n"
          ]
        },
        {
          "output_type": "execute_result",
          "data": {
            "text/plain": [
              "     Open_index  Open_Position ID       Open Datetime  Open Date  Open Action  \\\n",
              "0             0         599295474 2020-04-17 13:09:00 2020-04-17  Buy Bitcoin   \n",
              "1             2         599996081 2020-04-17 18:42:00 2020-04-17  Buy Bitcoin   \n",
              "2             3         600052383 2020-04-18 13:49:00 2020-04-18  Buy Bitcoin   \n",
              "3             4         600057583 2020-04-18 16:48:00 2020-04-18  Buy Bitcoin   \n",
              "4             6         600061986 2020-04-18 21:07:00 2020-04-18  Buy Bitcoin   \n",
              "..          ...               ...                 ...        ...          ...   \n",
              "199         778        1353186945 2021-10-18 21:47:00 2021-10-18  Buy Bitcoin   \n",
              "200         780        1354684971 2021-10-19 20:54:00 2021-10-19  Buy Bitcoin   \n",
              "201         790        1361963252 2021-10-25 19:00:00 2021-10-25  Buy Bitcoin   \n",
              "202         798        1368128599 2021-10-29 09:51:00 2021-10-29  Buy Bitcoin   \n",
              "203         800        1370705010 2021-11-01 11:59:00 2021-11-01  Buy Bitcoin   \n",
              "\n",
              "     Open Units  Open Amount_Eur  Open Rate_Eur  \n",
              "0      0.014029        92.484010    6592.389676  \n",
              "1      0.014149        92.484010    6536.362863  \n",
              "2      0.103664       693.630071    6691.116356  \n",
              "3      0.020751       138.726014    6685.280615  \n",
              "4      0.004376        29.419163    6723.069581  \n",
              "..          ...              ...            ...  \n",
              "199    0.001611        86.408019   53648.207030  \n",
              "200    0.006812       377.664548   55444.520400  \n",
              "201    0.001490        81.400745   54648.528540  \n",
              "202    0.012804       677.735938   52932.721790  \n",
              "203    0.006407       344.142212   53714.903330  \n",
              "\n",
              "[204 rows x 8 columns]"
            ],
            "text/html": [
              "\n",
              "  <div id=\"df-231a94c0-d03c-4719-a61d-177d24adf4f8\">\n",
              "    <div class=\"colab-df-container\">\n",
              "      <div>\n",
              "<style scoped>\n",
              "    .dataframe tbody tr th:only-of-type {\n",
              "        vertical-align: middle;\n",
              "    }\n",
              "\n",
              "    .dataframe tbody tr th {\n",
              "        vertical-align: top;\n",
              "    }\n",
              "\n",
              "    .dataframe thead th {\n",
              "        text-align: right;\n",
              "    }\n",
              "</style>\n",
              "<table border=\"1\" class=\"dataframe\">\n",
              "  <thead>\n",
              "    <tr style=\"text-align: right;\">\n",
              "      <th></th>\n",
              "      <th>Open_index</th>\n",
              "      <th>Open_Position ID</th>\n",
              "      <th>Open Datetime</th>\n",
              "      <th>Open Date</th>\n",
              "      <th>Open Action</th>\n",
              "      <th>Open Units</th>\n",
              "      <th>Open Amount_Eur</th>\n",
              "      <th>Open Rate_Eur</th>\n",
              "    </tr>\n",
              "  </thead>\n",
              "  <tbody>\n",
              "    <tr>\n",
              "      <th>0</th>\n",
              "      <td>0</td>\n",
              "      <td>599295474</td>\n",
              "      <td>2020-04-17 13:09:00</td>\n",
              "      <td>2020-04-17</td>\n",
              "      <td>Buy Bitcoin</td>\n",
              "      <td>0.014029</td>\n",
              "      <td>92.484010</td>\n",
              "      <td>6592.389676</td>\n",
              "    </tr>\n",
              "    <tr>\n",
              "      <th>1</th>\n",
              "      <td>2</td>\n",
              "      <td>599996081</td>\n",
              "      <td>2020-04-17 18:42:00</td>\n",
              "      <td>2020-04-17</td>\n",
              "      <td>Buy Bitcoin</td>\n",
              "      <td>0.014149</td>\n",
              "      <td>92.484010</td>\n",
              "      <td>6536.362863</td>\n",
              "    </tr>\n",
              "    <tr>\n",
              "      <th>2</th>\n",
              "      <td>3</td>\n",
              "      <td>600052383</td>\n",
              "      <td>2020-04-18 13:49:00</td>\n",
              "      <td>2020-04-18</td>\n",
              "      <td>Buy Bitcoin</td>\n",
              "      <td>0.103664</td>\n",
              "      <td>693.630071</td>\n",
              "      <td>6691.116356</td>\n",
              "    </tr>\n",
              "    <tr>\n",
              "      <th>3</th>\n",
              "      <td>4</td>\n",
              "      <td>600057583</td>\n",
              "      <td>2020-04-18 16:48:00</td>\n",
              "      <td>2020-04-18</td>\n",
              "      <td>Buy Bitcoin</td>\n",
              "      <td>0.020751</td>\n",
              "      <td>138.726014</td>\n",
              "      <td>6685.280615</td>\n",
              "    </tr>\n",
              "    <tr>\n",
              "      <th>4</th>\n",
              "      <td>6</td>\n",
              "      <td>600061986</td>\n",
              "      <td>2020-04-18 21:07:00</td>\n",
              "      <td>2020-04-18</td>\n",
              "      <td>Buy Bitcoin</td>\n",
              "      <td>0.004376</td>\n",
              "      <td>29.419163</td>\n",
              "      <td>6723.069581</td>\n",
              "    </tr>\n",
              "    <tr>\n",
              "      <th>...</th>\n",
              "      <td>...</td>\n",
              "      <td>...</td>\n",
              "      <td>...</td>\n",
              "      <td>...</td>\n",
              "      <td>...</td>\n",
              "      <td>...</td>\n",
              "      <td>...</td>\n",
              "      <td>...</td>\n",
              "    </tr>\n",
              "    <tr>\n",
              "      <th>199</th>\n",
              "      <td>778</td>\n",
              "      <td>1353186945</td>\n",
              "      <td>2021-10-18 21:47:00</td>\n",
              "      <td>2021-10-18</td>\n",
              "      <td>Buy Bitcoin</td>\n",
              "      <td>0.001611</td>\n",
              "      <td>86.408019</td>\n",
              "      <td>53648.207030</td>\n",
              "    </tr>\n",
              "    <tr>\n",
              "      <th>200</th>\n",
              "      <td>780</td>\n",
              "      <td>1354684971</td>\n",
              "      <td>2021-10-19 20:54:00</td>\n",
              "      <td>2021-10-19</td>\n",
              "      <td>Buy Bitcoin</td>\n",
              "      <td>0.006812</td>\n",
              "      <td>377.664548</td>\n",
              "      <td>55444.520400</td>\n",
              "    </tr>\n",
              "    <tr>\n",
              "      <th>201</th>\n",
              "      <td>790</td>\n",
              "      <td>1361963252</td>\n",
              "      <td>2021-10-25 19:00:00</td>\n",
              "      <td>2021-10-25</td>\n",
              "      <td>Buy Bitcoin</td>\n",
              "      <td>0.001490</td>\n",
              "      <td>81.400745</td>\n",
              "      <td>54648.528540</td>\n",
              "    </tr>\n",
              "    <tr>\n",
              "      <th>202</th>\n",
              "      <td>798</td>\n",
              "      <td>1368128599</td>\n",
              "      <td>2021-10-29 09:51:00</td>\n",
              "      <td>2021-10-29</td>\n",
              "      <td>Buy Bitcoin</td>\n",
              "      <td>0.012804</td>\n",
              "      <td>677.735938</td>\n",
              "      <td>52932.721790</td>\n",
              "    </tr>\n",
              "    <tr>\n",
              "      <th>203</th>\n",
              "      <td>800</td>\n",
              "      <td>1370705010</td>\n",
              "      <td>2021-11-01 11:59:00</td>\n",
              "      <td>2021-11-01</td>\n",
              "      <td>Buy Bitcoin</td>\n",
              "      <td>0.006407</td>\n",
              "      <td>344.142212</td>\n",
              "      <td>53714.903330</td>\n",
              "    </tr>\n",
              "  </tbody>\n",
              "</table>\n",
              "<p>204 rows × 8 columns</p>\n",
              "</div>\n",
              "      <button class=\"colab-df-convert\" onclick=\"convertToInteractive('df-231a94c0-d03c-4719-a61d-177d24adf4f8')\"\n",
              "              title=\"Convert this dataframe to an interactive table.\"\n",
              "              style=\"display:none;\">\n",
              "        \n",
              "  <svg xmlns=\"http://www.w3.org/2000/svg\" height=\"24px\"viewBox=\"0 0 24 24\"\n",
              "       width=\"24px\">\n",
              "    <path d=\"M0 0h24v24H0V0z\" fill=\"none\"/>\n",
              "    <path d=\"M18.56 5.44l.94 2.06.94-2.06 2.06-.94-2.06-.94-.94-2.06-.94 2.06-2.06.94zm-11 1L8.5 8.5l.94-2.06 2.06-.94-2.06-.94L8.5 2.5l-.94 2.06-2.06.94zm10 10l.94 2.06.94-2.06 2.06-.94-2.06-.94-.94-2.06-.94 2.06-2.06.94z\"/><path d=\"M17.41 7.96l-1.37-1.37c-.4-.4-.92-.59-1.43-.59-.52 0-1.04.2-1.43.59L10.3 9.45l-7.72 7.72c-.78.78-.78 2.05 0 2.83L4 21.41c.39.39.9.59 1.41.59.51 0 1.02-.2 1.41-.59l7.78-7.78 2.81-2.81c.8-.78.8-2.07 0-2.86zM5.41 20L4 18.59l7.72-7.72 1.47 1.35L5.41 20z\"/>\n",
              "  </svg>\n",
              "      </button>\n",
              "      \n",
              "  <style>\n",
              "    .colab-df-container {\n",
              "      display:flex;\n",
              "      flex-wrap:wrap;\n",
              "      gap: 12px;\n",
              "    }\n",
              "\n",
              "    .colab-df-convert {\n",
              "      background-color: #E8F0FE;\n",
              "      border: none;\n",
              "      border-radius: 50%;\n",
              "      cursor: pointer;\n",
              "      display: none;\n",
              "      fill: #1967D2;\n",
              "      height: 32px;\n",
              "      padding: 0 0 0 0;\n",
              "      width: 32px;\n",
              "    }\n",
              "\n",
              "    .colab-df-convert:hover {\n",
              "      background-color: #E2EBFA;\n",
              "      box-shadow: 0px 1px 2px rgba(60, 64, 67, 0.3), 0px 1px 3px 1px rgba(60, 64, 67, 0.15);\n",
              "      fill: #174EA6;\n",
              "    }\n",
              "\n",
              "    [theme=dark] .colab-df-convert {\n",
              "      background-color: #3B4455;\n",
              "      fill: #D2E3FC;\n",
              "    }\n",
              "\n",
              "    [theme=dark] .colab-df-convert:hover {\n",
              "      background-color: #434B5C;\n",
              "      box-shadow: 0px 1px 3px 1px rgba(0, 0, 0, 0.15);\n",
              "      filter: drop-shadow(0px 1px 2px rgba(0, 0, 0, 0.3));\n",
              "      fill: #FFFFFF;\n",
              "    }\n",
              "  </style>\n",
              "\n",
              "      <script>\n",
              "        const buttonEl =\n",
              "          document.querySelector('#df-231a94c0-d03c-4719-a61d-177d24adf4f8 button.colab-df-convert');\n",
              "        buttonEl.style.display =\n",
              "          google.colab.kernel.accessAllowed ? 'block' : 'none';\n",
              "\n",
              "        async function convertToInteractive(key) {\n",
              "          const element = document.querySelector('#df-231a94c0-d03c-4719-a61d-177d24adf4f8');\n",
              "          const dataTable =\n",
              "            await google.colab.kernel.invokeFunction('convertToInteractive',\n",
              "                                                     [key], {});\n",
              "          if (!dataTable) return;\n",
              "\n",
              "          const docLinkHtml = 'Like what you see? Visit the ' +\n",
              "            '<a target=\"_blank\" href=https://colab.research.google.com/notebooks/data_table.ipynb>data table notebook</a>'\n",
              "            + ' to learn more about interactive tables.';\n",
              "          element.innerHTML = '';\n",
              "          dataTable['output_type'] = 'display_data';\n",
              "          await google.colab.output.renderOutput(dataTable, element);\n",
              "          const docLink = document.createElement('div');\n",
              "          docLink.innerHTML = docLinkHtml;\n",
              "          element.appendChild(docLink);\n",
              "        }\n",
              "      </script>\n",
              "    </div>\n",
              "  </div>\n",
              "  "
            ]
          },
          "metadata": {},
          "execution_count": 52
        }
      ]
    },
    {
      "cell_type": "code",
      "source": [],
      "metadata": {
        "id": "3ojWkQSIYUNG"
      },
      "execution_count": null,
      "outputs": []
    },
    {
      "cell_type": "code",
      "source": [
        "zeroth_close_units_btc = df_close_ut_btc.loc[0,'Close Units']"
      ],
      "metadata": {
        "id": "ajP85pnTnIOt"
      },
      "execution_count": null,
      "outputs": []
    },
    {
      "cell_type": "code",
      "source": [
        "zeroth_close_datetime_btc = df_close.loc[0,'Close Datetime']\n",
        "zeroth_close_datetime_btc"
      ],
      "metadata": {
        "colab": {
          "base_uri": "https://localhost:8080/"
        },
        "id": "yrV2gpn-uErw",
        "outputId": "ed311a44-a518-4160-f9da-e900528ca9fe"
      },
      "execution_count": null,
      "outputs": [
        {
          "output_type": "execute_result",
          "data": {
            "text/plain": [
              "Timestamp('2020-05-01 11:44:00')"
            ]
          },
          "metadata": {},
          "execution_count": 37
        }
      ]
    },
    {
      "cell_type": "code",
      "source": [
        "lifo_last_open_datetime = df_open_btc['Open Datetime'][df_open_btc['Open Datetime'] < zeroth_close_datetime_btc]"
      ],
      "metadata": {
        "id": "YmLVco-RnIom"
      },
      "execution_count": null,
      "outputs": []
    },
    {
      "cell_type": "code",
      "source": [
        "lifo_last_open_datetime"
      ],
      "metadata": {
        "colab": {
          "base_uri": "https://localhost:8080/"
        },
        "id": "fiN6yzkNnIsh",
        "outputId": "ba927fce-b73c-4518-f741-1e2bfdbc7459"
      },
      "execution_count": null,
      "outputs": [
        {
          "output_type": "execute_result",
          "data": {
            "text/plain": [
              "0    2020-04-17 13:09:00\n",
              "2    2020-04-17 18:42:00\n",
              "3    2020-04-18 13:49:00\n",
              "4    2020-04-18 16:48:00\n",
              "6    2020-04-18 21:07:00\n",
              "8    2020-04-18 21:37:00\n",
              "10   2020-04-22 20:35:00\n",
              "13   2020-04-23 18:50:00\n",
              "15   2020-04-24 16:01:00\n",
              "21   2020-04-25 13:22:00\n",
              "22   2020-04-26 12:51:00\n",
              "28   2020-04-29 07:56:00\n",
              "30   2020-04-29 11:16:00\n",
              "31   2020-04-29 17:24:00\n",
              "32   2020-04-29 17:32:00\n",
              "33   2020-04-29 17:33:00\n",
              "34   2020-04-29 17:44:00\n",
              "35   2020-04-29 17:44:00\n",
              "36   2020-04-29 17:47:00\n",
              "37   2020-04-29 20:13:00\n",
              "38   2020-04-29 22:03:00\n",
              "39   2020-04-29 22:11:00\n",
              "40   2020-04-29 22:13:00\n",
              "42   2020-04-30 04:00:00\n",
              "43   2020-04-30 04:01:00\n",
              "44   2020-04-30 04:02:00\n",
              "45   2020-04-30 04:07:00\n",
              "46   2020-04-30 04:08:00\n",
              "47   2020-04-30 04:08:00\n",
              "48   2020-04-30 04:13:00\n",
              "49   2020-04-30 04:14:00\n",
              "52   2020-04-30 10:04:00\n",
              "54   2020-04-30 19:14:00\n",
              "Name: Open Datetime, dtype: datetime64[ns]"
            ]
          },
          "metadata": {},
          "execution_count": 67
        }
      ]
    },
    {
      "cell_type": "code",
      "source": [],
      "metadata": {
        "id": "FNJONAeyza3x"
      },
      "execution_count": null,
      "outputs": []
    },
    {
      "cell_type": "code",
      "source": [
        "open_datetime_CU = df"
      ],
      "metadata": {
        "id": "TwuG8mhpnIj7"
      },
      "execution_count": null,
      "outputs": []
    }
  ]
}