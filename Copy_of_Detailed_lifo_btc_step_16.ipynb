{
  "nbformat": 4,
  "nbformat_minor": 0,
  "metadata": {
    "colab": {
      "provenance": [],
      "authorship_tag": "ABX9TyOB8rPLh9EG3YPESeMxGvm9",
      "include_colab_link": true
    },
    "kernelspec": {
      "name": "python3",
      "display_name": "Python 3"
    },
    "language_info": {
      "name": "python"
    }
  },
  "cells": [
    {
      "cell_type": "markdown",
      "metadata": {
        "id": "view-in-github",
        "colab_type": "text"
      },
      "source": [
        "<a href=\"https://colab.research.google.com/github/VijayTaori/Lifo_step1/blob/main/Copy_of_Detailed_lifo_btc_step_16.ipynb\" target=\"_parent\"><img src=\"https://colab.research.google.com/assets/colab-badge.svg\" alt=\"Open In Colab\"/></a>"
      ]
    },
    {
      "cell_type": "code",
      "execution_count": null,
      "metadata": {
        "id": "vXH86TYwSNtL"
      },
      "outputs": [],
      "source": [
        "import pandas as pd\n",
        "import numpy as np\n",
        "import datetime as dt\n",
        "import time\n",
        "import calendar\n",
        "df_open = pd.read_csv('/content/et_open_alldata.csv')\n",
        "df_close = pd.read_csv('/content/et_close_alldata.csv')\n",
        "df_close['Close Datetime'] = pd.to_datetime(df_close['Close_unix_timestamp'],dayfirst=True,unit='s')\n",
        "df_open['Open Datetime'] = pd.to_datetime(df_open['Open_unix_timestamp'],dayfirst=True,unit='s')\n",
        "df_close_btc = df_close[df_close['Close Action'] =='Buy Bitcoin']\n",
        "df_open_btc = df_open[df_open['Open Action'] =='Buy Bitcoin']\n",
        "df_close_btc_original = df_close_btc\n",
        "df_open_btc_original = df_open_btc\n",
        "df_close_btc.reset_index(inplace=True)\n",
        "df_close_btc = df_close_btc.drop('index', axis=1)\n",
        "df_close_btc.reset_index(inplace=True)\n",
        "df_close_btc.rename(columns={'index':'Original_Close_index'},inplace=True)\n",
        "df_open_btc.reset_index(inplace=True)\n",
        "df_open_btc = df_open_btc.drop('index', axis=1)\n",
        "df_open_btc.reset_index(inplace=True)\n",
        "df_open_btc.rename(columns={'index':'Original_Open_index'},inplace=True)\n",
        "data_btc = {}\n",
        "df_lifo_btc = pd.DataFrame(data_btc, \n",
        "                           columns=['Original_Open_index','Original_Close_index',\n",
        "                                    'Open Position ID', 'Close Position ID',\n",
        "                                    'Open Units','Close Units','Spread_Eur',\n",
        "                                    'Open Amount_Eur','Amount_close_Eur',\n",
        "                                    'Open Datetime', 'Close Datetime',\n",
        "                                    'Open Rate_Eur', 'Close Rate_Eur',\n",
        "                                    'Open Action', 'Close Action', \n",
        "                                    'Open Amount','Close Rate', 'Open Rate',\n",
        "                                    'Close Spread', 'Close Profit USD',\n",
        "                                    'Close_Date','Open_Date',\n",
        "                                    'Close_unix_timestamp','EurOpen_y', \n",
        "                                    'EurHigh_y','EurLow_y', 'EurClose_y',\n",
        "                                    'EurWeekday_y', 'Open_unix_timestamp',\n",
        "                                    'EurOpen_x', 'EurHigh_x','EurLow_x', \n",
        "                                    'EurClose_x','EurWeekday_x'\n",
        "                                    ]\n",
        "                           )\n",
        "# Let's build a index selector for df_close_btc\n",
        "close_unit_index = 0\n",
        "value_close_units = df_close_btc.loc[close_unit_index, 'Close Units']\n",
        "final_close_unit_index = df_open_btc.shape[0]\n",
        "serial_number_for_loop = 0\n",
        "serial_number_if_loop = 0\n",
        "serial_number_elif_loop_1 = 0\n",
        "serial_number_elif_loop_2 = 0\n",
        "serial_number_else_loop = 0\n",
        "while close_unit_index < final_close_unit_index:\n",
        "  serial_number_for_loop = serial_number_for_loop + 1\n",
        "  print('For loop run number:',serial_number_for_loop)\n",
        "  i = 0\n",
        "  print('i =',i)\n",
        "  value_close_units = df_close_btc.loc[close_unit_index, 'Close Units']\n",
        "  # How to set up an upper limit on this variable?? use df.shape[0]\n",
        "  # Choosing first row from df_close_btc where the units are = values_of_units\n",
        "  # Assign it as new DF\n",
        "  # change the reset the index and the drop the 'index' column\n",
        "  df_latest_row_from_close = df_close_btc[close_unit_index:(close_unit_index+1)]\n",
        "  df_latest_row_from_close.reset_index(inplace=True)\n",
        "  current_close_index = df_latest_row_from_close.at[0,'index']\n",
        "  df_latest_row_from_close = df_latest_row_from_close.drop('index',axis=1)\n",
        "  # Get the datetime value from the df_latest_row_from_close\n",
        "  close_unit_datetime = df_close_btc.loc[close_unit_index,'Close Datetime']\n",
        "  print('close_unit_datetime:',close_unit_datetime)\n",
        "  # find all the transaction datetimes from df_open that were opened before the close_unit_datetime\n",
        "  open_datetimes_b4 = df_open_btc['Open Datetime'][df_open_btc['Open Datetime'] < close_unit_datetime]\n",
        "  #Latest datetime beofore close datetime\n",
        "  open_datetime_lifo = open_datetimes_b4.max()\n",
        "  #if open_datetime_lifo == pd.NaT:\n",
        "  #  break\n",
        "  #else:\n",
        "  #  continue\n",
        "  print('open_datetime_lifo:',open_datetime_lifo)\n",
        "  '''\n",
        "  Remember that even if only one value for open_datetime_lifo is chosen\n",
        "  this can still result in chosing more than one rows in that case last row \n",
        "  should be chosen\n",
        "  '''\n",
        "  # Corresponding row for the open_datetime_lifo \n",
        "  # let's make a new DF\n",
        "  df_latest_last_row_open = df_open_btc[df_open_btc['Open Datetime'] == open_datetime_lifo]\n",
        "  df_latest_last_row_open = df_latest_last_row_open[::-1]\n",
        "  df_latest_last_row_open = df_latest_last_row_open[0:1]\n",
        "  df_latest_last_row_open.reset_index(inplace=True)\n",
        "  current_open_index = df_latest_last_row_open.at[0,'index']\n",
        "  df_latest_last_row_open = df_latest_last_row_open.drop('index', axis=1)\n",
        "  value_open_units = df_latest_last_row_open.loc[0,'Open Units']\n",
        "  print('value_close_units:',value_close_units, 'value_open_units:',value_open_units)\n",
        "  abs_diff_open_close_units = abs(value_close_units - value_open_units)\n",
        "  print('abs_diff_open_close_units:',abs_diff_open_close_units)\n",
        "  value_open_amount = df_latest_last_row_open.loc[0,'Open Amount_Eur']\n",
        "  value_close_amount = df_latest_row_from_close.loc[0,'Amount_close_Eur']\n",
        "  value_close_spread_eur = df_latest_row_from_close.loc[0,'Spread_Eur']\n",
        "  close_Rate_eur = df_latest_row_from_close.loc[0,'Close Rate_Eur']\n",
        "  open_Rate_eur = df_latest_last_row_open.loc[0,'Open Rate_Eur']\n",
        "  #Remember that 'Open_index' and 'Close_index' columns host original indices\n",
        "  # This is important as df_open_btc starts to drop rows the original indices will come in handy \n",
        "  # And in case of df_close_btc this should remain equal to the indices from DataFrame\n",
        "  original_open_index = df_latest_last_row_open.at[0, 'Original_Open_index']\n",
        "  #Remeber that earlier defined close_unit_index is the index of units from df_close_btc DataFrame\n",
        "  # close_index should essentially be equal in integer value of close_unit_index\n",
        "  close_index = df_latest_row_from_close.at[0, 'Original_Close_index']\n",
        "  is_it_equal = close_unit_index == close_index\n",
        "  print('close_unit_index for current loop is:',close_unit_index)\n",
        "  print('(close_unit_index = close_index) is:',is_it_equal)\n",
        "  if value_close_units > value_open_units:\n",
        "    serial_number_if_loop = serial_number_if_loop + 1\n",
        "    print('If_loop run number:',serial_number_if_loop)\n",
        "    #First lets extract all the values from open DF df_latest_last_row_open\n",
        "    newth_list_open_half = df_latest_last_row_open.to_dict('records')\n",
        "    newth_dict_open_half = newth_list_open_half[0]\n",
        "    #Then permanently delete the first row of the open DF df_latest_last_row_open from df_open_btc\n",
        "    df_open_btc = df_open_btc.drop(current_open_index,axis=0)\n",
        "    #Then reset index and drop the new column 'index' in df_open_btc\n",
        "    df_open_btc.reset_index(inplace=True)\n",
        "    df_open_btc = df_open_btc.drop('index',axis=1)\n",
        "    #Now lets work on the Close_side\n",
        "    #First define the changed values for df_latest_row_from_close\n",
        "    changed_value_close_units = value_open_units\n",
        "    changed_value_close_amount = changed_value_close_units * close_Rate_eur\n",
        "    changed_value_close_spread = changed_value_close_units * value_close_spread_eur/value_close_units\n",
        "    #First change the values of 'units' and 'amount' and 'spread' in the df_latest_row_from_close\n",
        "    # These values will be reported\n",
        "    df_latest_row_from_close.at[0,'Close Units'] = changed_value_close_units\n",
        "    df_latest_row_from_close.at[0,'Amount_close_Eur'] = changed_value_close_amount\n",
        "    df_latest_row_from_close.at[0,'Spread_Eur'] = changed_value_close_spread\n",
        "    # Now lets extract all the values from df_latest_row_from_close\n",
        "    newth_list_close_half = df_latest_row_from_close.to_dict('records')\n",
        "    newth_dict_close_half = newth_list_close_half[0]\n",
        "    newth_whole_dict = {**newth_dict_open_half,**newth_dict_close_half}\n",
        "    # Now append the newth_whole_dict to the new records DataFrame df_lifo_btc\n",
        "    df_lifo_btc = df_lifo_btc.append(newth_whole_dict, ignore_index=True)\n",
        "    # and after that change the value of units and amount in original df_open_btc\n",
        "    df_close_btc.at[close_unit_index,'Close Units'] = value_close_units - changed_value_close_units\n",
        "    df_close_btc.at[close_unit_index,'Amount_close_Eur'] = value_close_amount - changed_value_close_amount\n",
        "    df_close_btc.at[close_unit_index,'Spread_Eur'] = value_close_spread_eur - changed_value_close_spread\n",
        "    print('value_close_units:',value_close_units)\n",
        "    print('value_open_units:',value_open_units)\n",
        "    print('close_unit_index:',close_unit_index)\n",
        "    print('If_loop run number:',serial_number_if_loop,'finished')\n",
        "  elif value_close_units < value_open_units:\n",
        "    serial_number_elif_loop_1 = serial_number_elif_loop_1 + 1\n",
        "    print('Elif_loop_1 run number:', serial_number_elif_loop_1)\n",
        "    ## First lets extract all the values form close DF df_latest_row_from_close\n",
        "    newth_list_close_half = df_latest_row_from_close.to_dict('records')\n",
        "    newth_dict_close_half = newth_list_close_half[0]\n",
        "    #First define the changed values for df_latest_row_from_close\n",
        "    ## In elif statement changed values are same as we made only one change\n",
        "    # and after that change the value of units and amount and spread in original df_close_btc\n",
        "    df_close_btc.at[close_unit_index,'Close Units'] = 0\n",
        "    df_close_btc.at[close_unit_index,'Amount_close_Eur'] = 0\n",
        "    df_close_btc.at[close_unit_index,'Spread_Eur'] = 0\n",
        "    #First change the values of 'units' and 'amount' and 'spread' in the df_latest_row_from_close\n",
        "    # These values will be reported\n",
        "    # Now lets extract all the values from df_latest_row_from_close\n",
        "    ## Now lets work on the values from open DF df_latest_last_row_lifo\n",
        "    ## Remember we want to get back the values in the df_latest_row_from_close \n",
        "    ## we will have to assign changed_values for open_units and open_amount\n",
        "    changed_value_open_units = value_close_units\n",
        "    changed_value_open_amount = changed_value_open_units * open_Rate_eur\n",
        "    print('changed_value_open_units:',changed_value_open_units)\n",
        "    df_latest_last_row_open.at[0,'Open Units'] = changed_value_open_units\n",
        "    df_latest_last_row_open.at[0,'Open Amount_Eur'] = changed_value_open_amount\n",
        "    ##After the values are changed extract the values which will then be reported\n",
        "    newth_list_open_half = df_latest_last_row_open.to_dict('records')\n",
        "    newth_dict_open_half = newth_list_open_half[0]\n",
        "    ## and then this time change the original values in the df_open_units\n",
        "    newth_whole_dict = {**newth_dict_open_half,**newth_dict_close_half}\n",
        "    # Now append the newth_whole_dict to the new records DataFrame df_lifo_btc\n",
        "    df_lifo_btc = df_lifo_btc.append(newth_whole_dict, ignore_index=True)\n",
        "    # and after that change the value of units and amount in original df_open_btc\n",
        "    df_open_btc.at[current_open_index,'Open Units'] = value_open_units - changed_value_open_units\n",
        "    df_open_btc.at[current_open_index,'Open Amount_Eur'] = value_open_amount - changed_value_open_amount\n",
        "    print('value_close_units:',value_close_units)\n",
        "    print('value_open_units:',value_open_units)\n",
        "    print('close_unit_index:',close_unit_index)\n",
        "    print('Elif_loop_1 run number:', serial_number_elif_loop_1, 'finished')\n",
        "  elif value_close_units == value_open_units:\n",
        "    serial_number_elif_loop_2 = serial_number_elif_loop_2 + 1\n",
        "    if value_close_units == 0:\n",
        "      print('We are running value_close_units == 0 condition')\n",
        "      print('This is in the Elif_loop_number_2:',serial_number_elif_loop_2)\n",
        "      #Then permanently delete the first row of the open DF df_latest_last_row_open from df_open_btc\n",
        "      df_open_btc = df_open_btc.drop(current_open_index,axis=0)\n",
        "      #Then reset index and drop the new column 'index' in df_open_btc\n",
        "      df_open_btc.reset_index(inplace=True)\n",
        "      df_open_btc = df_open_btc.drop('index',axis=1)\n",
        "      print('We are breaking')\n",
        "      break\n",
        "    else:\n",
        "      #First lets extract all the values from open DF df_latest_last_row_open\n",
        "      newth_list_open_half = df_latest_last_row_open.to_dict('records')\n",
        "      newth_dict_open_half = newth_list_open_half[0]\n",
        "      #Then permanently delete the first row of the open DF df_latest_last_row_open from df_open_btc\n",
        "      df_open_btc = df_open_btc.drop(current_open_index,axis=0)\n",
        "      #Then reset index and drop the new column 'index' in df_open_btc\n",
        "      df_open_btc.reset_index(inplace=True)\n",
        "      df_open_btc = df_open_btc.drop('index',axis=1)\n",
        "      ### Second lets extract all the values form close DF df_latest_row_from_close\n",
        "      newth_list_close_half = df_latest_row_from_close.to_dict('records')\n",
        "      newth_dict_close_half = newth_list_close_half[0]\n",
        "      ## and then this time change the original values in the df_open_units\n",
        "      newth_whole_dict = {**newth_dict_open_half,**newth_dict_close_half}\n",
        "      # Now append the newth_whole_dict to the new records DataFrame df_lifo_btc\n",
        "      df_lifo_btc = df_lifo_btc.append(newth_whole_dict, ignore_index=True)\n",
        "      #First define the changed values for df_latest_row_from_close\n",
        "      changed_value_close_units = value_open_units\n",
        "      changed_value_close_amount = changed_value_close_units * close_Rate_eur\n",
        "      changed_value_close_spread = changed_value_close_units * value_close_spread_eur/value_close_units\n",
        "      # and after that change the value of units and amount in original df_open_btc\n",
        "      df_close_btc.at[close_unit_index,'Close Units'] = value_close_units - changed_value_close_units\n",
        "      df_close_btc.at[close_unit_index,'Amount_close_Eur'] = value_close_amount - changed_value_close_amount\n",
        "      df_close_btc.at[close_unit_index,'Spread_Eur'] = value_close_spread_eur - changed_value_close_spread\n",
        "    print('value_close_units:',value_close_units)\n",
        "    print('value_open_units:',value_open_units)\n",
        "    print('close_unit_index:',close_unit_index)\n",
        "    print('Elif_loop_2 run number:', serial_number_elif_loop_2, 'finished')\n",
        "  else:\n",
        "    serial_number_else_loop = serial_number_else_loop + 1\n",
        "    print('Do we need to write more code? The answer is a: BIG YES!!')\n",
        "    print('Or on second thought this is a silly mistake!!!')\n",
        "    print('value_close_units:',value_close_units)\n",
        "    print('value_open_units:',value_open_units)\n",
        "    print('close_unit_index:',close_unit_index)\n",
        "    print('serial_number_else_loop:', serial_number_else_loop, 'finished')\n",
        "    print('We are breaking here!!')\n",
        "    break\n",
        "  value_close_units = df_close_btc.loc[close_unit_index, 'Close Units']\n",
        "  if value_close_units < 1.0e-10:\n",
        "    i = 1\n",
        "  else:\n",
        "    i = 0\n",
        "  print('i =',i)\n",
        "  print('close_unit_index for current loop was:',close_unit_index)\n",
        "  close_unit_index = close_unit_index + i\n",
        "  print('close_unit_index for next loop is:',close_unit_index)\n",
        "  print('Total if loops:',serial_number_if_loop)\n",
        "  print('Total elif_1 loops:',serial_number_elif_loop_1)\n",
        "  print('Total elif_2 loops:',serial_number_elif_loop_2)\n",
        "  print('Total else loops:',serial_number_else_loop)\n",
        "  print('For loop run number:',serial_number_for_loop,'finished')\n",
        "  if df_close_btc['Close Units'].sum() < 1.0e-10:\n",
        "    close_unit_index = final_close_unit_index\n",
        "  else:\n",
        "    continue\n",
        "  print('****************************************')"
      ]
    },
    {
      "cell_type": "code",
      "source": [
        "print('df_lifo_btc sum of open units:',df_lifo_btc['Open Units'].sum())\n",
        "print('df_lifo_btc sum of close units:',df_lifo_btc['Close Units'].sum())\n",
        "print('df_open_btc_original sum of open units:',df_open_btc_original['Open Units'].sum())\n",
        "print('df_close_btc_original sum of close units:',df_close_btc_original['Close Units'].sum())"
      ],
      "metadata": {
        "colab": {
          "base_uri": "https://localhost:8080/"
        },
        "id": "zydxT5BZS8bC",
        "outputId": "e7d74d14-308f-4f14-c214-3e27b23a7af7"
      },
      "execution_count": null,
      "outputs": [
        {
          "output_type": "stream",
          "name": "stdout",
          "text": [
            "df_lifo_btc sum of open units: 4.691587\n",
            "df_lifo_btc sum of close units: 4.691587\n",
            "df_open_btc_original sum of open units: 4.691587\n",
            "df_close_btc_original sum of close units: 4.691587\n"
          ]
        }
      ]
    },
    {
      "cell_type": "code",
      "source": [
        "df_lifo_btc['time_difference'] = df_lifo_btc['Close Datetime'] - df_lifo_btc['Open Datetime']\n",
        "df_lifo_btc['time_difference_days'] = df_lifo_btc['time_difference'] / np.timedelta64(1, 'D')\n",
        "df_lifo_btc_taxable = df_lifo_btc[df_lifo_btc['time_difference_days'] < 365]\n",
        "df_lifo_btc_taxable_2020 = df_lifo_btc_taxable[df_lifo_btc_taxable['Close_unix_timestamp'] <= 1609455599]\n",
        "df_lifo_btc_taxable_2020_2021 = df_lifo_btc_taxable[df_lifo_btc_taxable['Close_unix_timestamp'] <= 1640991599]\n",
        "df_lifo_btc_taxable_2021 = df_lifo_btc_taxable_2020_2021[df_lifo_btc_taxable_2020_2021['Close_unix_timestamp'] > 1609455599]\n",
        "df_lifo_btc_taxable_2022 = df_lifo_btc_taxable[df_lifo_btc_taxable['Close_unix_timestamp'] > 1640991599]\n",
        "print('Sum of all open positions for the year 2020 in eur:',df_lifo_btc_taxable_2020['Open Amount_Eur'].sum())\n",
        "print('Sum of all closed positions for the year 2020 in eur:',df_lifo_btc_taxable_2020['Amount_close_Eur'].sum())\n",
        "print('Sum of all open positions for the year 2021 in eur:',df_lifo_btc_taxable_2021['Open Amount_Eur'].sum())\n",
        "print('Sum of all closed positions for the year 2021 in eur:',df_lifo_btc_taxable_2021['Amount_close_Eur'].sum())\n",
        "print('Sum of all open positions for the year 2022 in eur:',df_lifo_btc_taxable_2022['Open Amount_Eur'].sum())\n",
        "print('Sum of all closed positions for the year 2022 in eur:',df_lifo_btc_taxable_2022['Amount_close_Eur'].sum())"
      ],
      "metadata": {
        "colab": {
          "base_uri": "https://localhost:8080/"
        },
        "id": "aiDi-wcRcKjF",
        "outputId": "05e82e34-d17e-4909-f166-0f16afda7a02"
      },
      "execution_count": null,
      "outputs": [
        {
          "output_type": "stream",
          "name": "stdout",
          "text": [
            "Sum of all open positions for the year 2020 in eur: 25999.28210807734\n",
            "Sum of all closed positions for the year 2020 in eur: 26358.8963266017\n",
            "Sum of all open positions for the year 2021 in eur: 21482.8382476623\n",
            "Sum of all closed positions for the year 2021 in eur: 22841.87929702\n",
            "Sum of all open positions for the year 2022 in eur: 17635.076249780002\n",
            "Sum of all closed positions for the year 2022 in eur: 12367.821192006999\n"
          ]
        }
      ]
    },
    {
      "cell_type": "code",
      "source": [
        "df_open_btc"
      ],
      "metadata": {
        "id": "eB6zd_AxgXY2"
      },
      "execution_count": null,
      "outputs": []
    },
    {
      "cell_type": "code",
      "source": [
        "df_close_btc"
      ],
      "metadata": {
        "id": "1HerXfM_goCL"
      },
      "execution_count": null,
      "outputs": []
    },
    {
      "cell_type": "code",
      "source": [
        "df_lifo_btc"
      ],
      "metadata": {
        "id": "n9yHNCeyqxQ2"
      },
      "execution_count": null,
      "outputs": []
    },
    {
      "cell_type": "code",
      "source": [
        "df_close['Close Action'].unique()"
      ],
      "metadata": {
        "colab": {
          "base_uri": "https://localhost:8080/"
        },
        "id": "6qvvN70GdRn8",
        "outputId": "7da41ee0-3af2-445f-c877-a9cbeccd293e"
      },
      "execution_count": null,
      "outputs": [
        {
          "output_type": "execute_result",
          "data": {
            "text/plain": [
              "array(['Buy Bitcoin', 'Buy Ethereum', 'Buy XRP', 'Buy Tezos', 'Buy EOS',\n",
              "       'Buy Cardano', 'Buy Litecoin', 'Buy Build and Build', 'Buy TRON',\n",
              "       'Buy Dogecoin', 'Buy Chainlink', 'Buy Uniswap', 'Buy Polygon',\n",
              "       'Buy Stellar', 'Buy Decentraland', 'Buy Aave', 'Buy IOTA',\n",
              "       'Buy Shiba (in millions)', 'Buy Enjin', 'Buy Maker',\n",
              "       'Buy Algorand', 'Buy Solana', 'Buy Polkadot', 'Buy Songbird'],\n",
              "      dtype=object)"
            ]
          },
          "metadata": {},
          "execution_count": 138
        }
      ]
    }
  ]
}