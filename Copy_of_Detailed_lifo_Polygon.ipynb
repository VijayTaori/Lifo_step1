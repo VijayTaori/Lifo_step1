{
  "nbformat": 4,
  "nbformat_minor": 0,
  "metadata": {
    "colab": {
      "provenance": [],
      "authorship_tag": "ABX9TyO6+gN0C0SEq9W9su7JqLy0",
      "include_colab_link": true
    },
    "kernelspec": {
      "name": "python3",
      "display_name": "Python 3"
    },
    "language_info": {
      "name": "python"
    }
  },
  "cells": [
    {
      "cell_type": "markdown",
      "metadata": {
        "id": "view-in-github",
        "colab_type": "text"
      },
      "source": [
        "<a href=\"https://colab.research.google.com/github/VijayTaori/Lifo_step1/blob/main/Copy_of_Detailed_lifo_Polygon.ipynb\" target=\"_parent\"><img src=\"https://colab.research.google.com/assets/colab-badge.svg\" alt=\"Open In Colab\"/></a>"
      ]
    },
    {
      "cell_type": "code",
      "execution_count": null,
      "metadata": {
        "id": "k1PqnaKmtJh3"
      },
      "outputs": [],
      "source": [
        "import pandas as pd\n",
        "import numpy as np\n",
        "import datetime as dt\n",
        "import time\n",
        "import calendar\n",
        "df_open = pd.read_csv('/content/et_open_alldata.csv')\n",
        "df_close = pd.read_csv('/content/et_close_alldata.csv')\n",
        "df_close['Close Datetime'] = pd.to_datetime(df_close['Close_unix_timestamp'],dayfirst=True,unit='s')\n",
        "df_open['Open Datetime'] = pd.to_datetime(df_open['Open_unix_timestamp'],dayfirst=True,unit='s')\n",
        "df_close_btc = df_close[df_close['Close Action'] =='Buy Polygon']\n",
        "df_open_btc = df_open[df_open['Open Action'] =='Buy Polygon']\n",
        "df_close_btc_original = df_close_btc\n",
        "df_open_btc_original = df_open_btc\n",
        "df_close_btc.reset_index(inplace=True)\n",
        "df_close_btc = df_close_btc.drop('index', axis=1)\n",
        "df_close_btc.reset_index(inplace=True)\n",
        "df_close_btc.rename(columns={'index':'Original_Close_index'},inplace=True)\n",
        "df_open_btc.reset_index(inplace=True)\n",
        "df_open_btc = df_open_btc.drop('index', axis=1)\n",
        "df_open_btc.reset_index(inplace=True)\n",
        "df_open_btc.rename(columns={'index':'Original_Open_index'},inplace=True)\n",
        "data_btc = {}\n",
        "df_lifo_btc = pd.DataFrame(data_btc, \n",
        "                           columns=['Original_Open_index','Original_Close_index',\n",
        "                                    'Open Position ID', 'Close Position ID',\n",
        "                                    'Open Units','Close Units','Spread_Eur',\n",
        "                                    'Open Amount_Eur','Amount_close_Eur',\n",
        "                                    'Open Datetime', 'Close Datetime',\n",
        "                                    'Open Rate_Eur', 'Close Rate_Eur',\n",
        "                                    'Open Action', 'Close Action', \n",
        "                                    'Open Amount','Close Rate', 'Open Rate',\n",
        "                                    'Close Spread', 'Close Profit USD',\n",
        "                                    'Close_Date','Open_Date',\n",
        "                                    'Close_unix_timestamp','EurOpen_y', \n",
        "                                    'EurHigh_y','EurLow_y', 'EurClose_y',\n",
        "                                    'EurWeekday_y', 'Open_unix_timestamp',\n",
        "                                    'EurOpen_x', 'EurHigh_x','EurLow_x', \n",
        "                                    'EurClose_x','EurWeekday_x'\n",
        "                                    ]\n",
        "                           )"
      ]
    },
    {
      "cell_type": "code",
      "source": [
        "df_close['Close Action'].unique()"
      ],
      "metadata": {
        "colab": {
          "base_uri": "https://localhost:8080/"
        },
        "id": "gNIhPg8AOcJj",
        "outputId": "f0ed96c8-443e-4080-9d4e-3531c09a3844"
      },
      "execution_count": null,
      "outputs": [
        {
          "output_type": "execute_result",
          "data": {
            "text/plain": [
              "array(['Buy Bitcoin', 'Buy Ethereum', 'Buy XRP', 'Buy Tezos', 'Buy EOS',\n",
              "       'Buy Cardano', 'Buy Litecoin', 'Buy Build and Build', 'Buy TRON',\n",
              "       'Buy Dogecoin', 'Buy Chainlink', 'Buy Uniswap', 'Buy Polygon',\n",
              "       'Buy Stellar', 'Buy Decentraland', 'Buy Aave', 'Buy IOTA',\n",
              "       'Buy Shiba (in millions)', 'Buy Enjin', 'Buy Maker',\n",
              "       'Buy Algorand', 'Buy Solana', 'Buy Polkadot', 'Buy Songbird'],\n",
              "      dtype=object)"
            ]
          },
          "metadata": {},
          "execution_count": 2
        }
      ]
    },
    {
      "cell_type": "code",
      "source": [
        "# Let's build a index selector for df_close_btc\n",
        "close_unit_index = 0\n",
        "value_close_units = df_close_btc.loc[close_unit_index, 'Close Units']\n",
        "final_close_unit_index = df_open_btc.shape[0]\n",
        "fruit_list = list(range(400))\n",
        "serial_number_for_loop = 0\n",
        "serial_number_if_loop = 0\n",
        "serial_number_elif_loop_1 = 0\n",
        "serial_number_elif_loop_2 = 0\n",
        "serial_number_else_loop = 0\n",
        "for x in fruit_list:#while close_unit_index < final_close_unit_index:\n",
        "  serial_number_for_loop = serial_number_for_loop + 1\n",
        "  print('For loop run number:',serial_number_for_loop)\n",
        "  i = 0\n",
        "  #if value_close_units == 0:\n",
        "  #  i = 1\n",
        "  #else:\n",
        "  #  i = 0\n",
        "  print('i =',i)\n",
        "  close_unit_index = close_unit_index + i\n",
        "  value_close_units = df_close_btc.loc[close_unit_index, 'Close Units']\n",
        "  # How to set up an upper limit on this variable?? use df.shape[0]\n",
        "  # Choosing first row from df_close_btc where the units are = values_of_units\n",
        "  # Assign it as new DF\n",
        "  # change the reset the index and the drop the 'index' column\n",
        "  df_latest_row_from_close = df_close_btc[close_unit_index:(close_unit_index+1)]\n",
        "  df_latest_row_from_close.reset_index(inplace=True)\n",
        "  current_close_index = df_latest_row_from_close.at[0,'index']\n",
        "  df_latest_row_from_close = df_latest_row_from_close.drop('index',axis=1)\n",
        "  # Get the datetime value from the df_latest_row_from_close\n",
        "  close_unit_datetime = df_close_btc.loc[close_unit_index,'Close Datetime']\n",
        "  print('close_unit_datetime:',close_unit_datetime)\n",
        "  # find all the transaction datetimes from df_open that were opened before the close_unit_datetime\n",
        "  open_datetimes_b4 = df_open_btc['Open Datetime'][df_open_btc['Open Datetime'] < close_unit_datetime]\n",
        "  #Latest datetime beofore close datetime\n",
        "  open_datetime_lifo = open_datetimes_b4.max()\n",
        "  #if open_datetime_lifo == pd.NaT:\n",
        "  #  break\n",
        "  #else:\n",
        "  #  continue\n",
        "  print('open_datetime_lifo:',open_datetime_lifo)\n",
        "  '''\n",
        "  Remember that even if only one value for open_datetime_lifo is chosen\n",
        "  this can still result in chosing more than one rows in that case last row \n",
        "  should be chosen\n",
        "  '''\n",
        "  # Corresponding row for the open_datetime_lifo \n",
        "  # let's make a new DF\n",
        "  df_latest_last_row_open = df_open_btc[df_open_btc['Open Datetime'] == open_datetime_lifo]\n",
        "  df_latest_last_row_open = df_latest_last_row_open[::-1]\n",
        "  df_latest_last_row_open = df_latest_last_row_open[0:1]\n",
        "  df_latest_last_row_open.reset_index(inplace=True)\n",
        "  current_open_index = df_latest_last_row_open.at[0,'index']\n",
        "  df_latest_last_row_open = df_latest_last_row_open.drop('index', axis=1)\n",
        "  value_open_units = df_latest_last_row_open.loc[0,'Open Units']\n",
        "  print('value_close_units:',value_close_units, 'value_open_units:',value_open_units)\n",
        "  abs_diff_open_close_units = abs(value_close_units - value_open_units)\n",
        "  print('abs_diff_open_close_units:',abs_diff_open_close_units)\n",
        "  value_open_amount = df_latest_last_row_open.loc[0,'Open Amount_Eur']\n",
        "  value_close_amount = df_latest_row_from_close.loc[0,'Amount_close_Eur']\n",
        "  value_close_spread_eur = df_latest_row_from_close.loc[0,'Spread_Eur']\n",
        "  close_Rate_eur = df_latest_row_from_close.loc[0,'Close Rate_Eur']\n",
        "  open_Rate_eur = df_latest_last_row_open.loc[0,'Open Rate_Eur']\n",
        "  #Remember that 'Open_index' and 'Close_index' columns host original indices\n",
        "  # This is important as df_open_btc starts to drop rows the original indices will come in handy \n",
        "  # And in case of df_close_btc this should remain equal to the indices from DataFrame\n",
        "  original_open_index = df_latest_last_row_open.at[0, 'Original_Open_index']\n",
        "  #Remeber that earlier defined close_unit_index is the index of units from df_close_btc DataFrame\n",
        "  # close_index should essentially be equal in integer value of close_unit_index\n",
        "  close_index = df_latest_row_from_close.at[0, 'Original_Close_index']\n",
        "  is_it_equal = close_unit_index == close_index\n",
        "  print('(close_unit_index = close_index) is:',is_it_equal)\n",
        "  if value_close_units > value_open_units:\n",
        "    serial_number_if_loop = serial_number_if_loop + 1\n",
        "    print('If_loop run number:',serial_number_if_loop)\n",
        "    #First lets extract all the values from open DF df_latest_last_row_open\n",
        "    newth_list_open_half = df_latest_last_row_open.to_dict('records')\n",
        "    newth_dict_open_half = newth_list_open_half[0]\n",
        "    #Then permanently delete the first row of the open DF df_latest_last_row_open from df_open_btc\n",
        "    df_open_btc = df_open_btc.drop(current_open_index,axis=0)\n",
        "    #Then reset index and drop the new column 'index' in df_open_btc\n",
        "    df_open_btc.reset_index(inplace=True)\n",
        "    df_open_btc = df_open_btc.drop('index',axis=1)\n",
        "    #Now lets work on the Close_side\n",
        "    #First define the changed values for df_latest_row_from_close\n",
        "    changed_value_close_units = value_open_units\n",
        "    changed_value_close_amount = changed_value_close_units * close_Rate_eur\n",
        "    changed_value_close_spread = changed_value_close_units * value_close_spread_eur/value_close_units\n",
        "    #First change the values of 'units' and 'amount' and 'spread' in the df_latest_row_from_close\n",
        "    # These values will be reported\n",
        "    df_latest_row_from_close.at[0,'Close Units'] = changed_value_close_units\n",
        "    df_latest_row_from_close.at[0,'Amount_close_Eur'] = changed_value_close_amount\n",
        "    df_latest_row_from_close.at[0,'Spread_Eur'] = changed_value_close_spread\n",
        "    # Now lets extract all the values from df_latest_row_from_close\n",
        "    newth_list_close_half = df_latest_row_from_close.to_dict('records')\n",
        "    newth_dict_close_half = newth_list_close_half[0]\n",
        "    newth_whole_dict = {**newth_dict_open_half,**newth_dict_close_half}\n",
        "    # Now append the newth_whole_dict to the new records DataFrame df_lifo_btc\n",
        "    df_lifo_btc = df_lifo_btc.append(newth_whole_dict, ignore_index=True)\n",
        "    # and after that change the value of units and amount in original df_open_btc\n",
        "    df_close_btc.at[close_unit_index,'Close Units'] = value_close_units - changed_value_close_units\n",
        "    df_close_btc.at[close_unit_index,'Amount_close_Eur'] = value_close_amount - changed_value_close_amount\n",
        "    df_close_btc.at[close_unit_index,'Spread_Eur'] = value_close_spread_eur - changed_value_close_spread\n",
        "    print('value_close_units:',value_close_units)\n",
        "    print('value_open_units:',value_open_units)\n",
        "    print('close_unit_index:',close_unit_index)\n",
        "    print('If_loop run number:',serial_number_if_loop,'finished')\n",
        "  elif value_close_units < value_open_units:\n",
        "    serial_number_elif_loop_1 = serial_number_elif_loop_1 + 1\n",
        "    print('Elif_loop_1 run number:', serial_number_elif_loop_1)\n",
        "    ## First lets extract all the values form close DF df_latest_row_from_close\n",
        "    newth_list_close_half = df_latest_row_from_close.to_dict('records')\n",
        "    newth_dict_close_half = newth_list_close_half[0]\n",
        "    #First define the changed values for df_latest_row_from_close\n",
        "    ## In elif statement changed values are same as we made only one change\n",
        "    changed_value_close_units = value_close_units # value_open_units in if statement was here change to value_close_unit\n",
        "    changed_value_close_amount = changed_value_close_units * close_Rate_eur\n",
        "    changed_value_close_spread = changed_value_close_units * value_close_spread_eur/value_close_units\n",
        "    # and after that change the value of units and amount and spread in original df_close_btc\n",
        "    df_close_btc.at[close_unit_index,'Close Units'] = value_close_units - changed_value_close_units\n",
        "    df_close_btc.at[close_unit_index,'Amount_close_Eur'] = value_close_amount - changed_value_close_amount\n",
        "    df_close_btc.at[close_unit_index,'Spread_Eur'] = value_close_spread_eur - changed_value_close_spread\n",
        "    #First change the values of 'units' and 'amount' and 'spread' in the df_latest_row_from_close\n",
        "    # These values will be reported\n",
        "    df_latest_row_from_close.at[0,'Close Units'] = changed_value_close_units\n",
        "    df_latest_row_from_close.at[0,'Amount_close_Eur'] = changed_value_close_amount\n",
        "    df_latest_row_from_close.at[0,'Spread_Eur'] = changed_value_close_spread\n",
        "    # Now lets extract all the values from df_latest_row_from_close\n",
        "    ## Now lets work on the values from open DF df_latest_last_row_lifo\n",
        "    ## Remember we want to get back the values in the df_latest_row_from_close \n",
        "    ## we will have to assign changed_values for open_units and open_amount\n",
        "    changed_value_open_units = value_close_units\n",
        "    changed_value_open_amount = changed_value_open_units * open_Rate_eur\n",
        "    df_latest_last_row_open.at[0,'Open Units'] = changed_value_close_units\n",
        "    df_latest_last_row_open.at[0,'Open Amount_Eur'] = changed_value_close_amount\n",
        "    ##After the values are changed extract the values which will then be reported\n",
        "    newth_list_open_half = df_latest_last_row_open.to_dict('records')\n",
        "    newth_dict_open_half = newth_list_open_half[0]\n",
        "    ## and then this time change the original values in the df_open_units\n",
        "    newth_whole_dict = {**newth_dict_open_half,**newth_dict_close_half}\n",
        "    # Now append the newth_whole_dict to the new records DataFrame df_lifo_btc\n",
        "    df_lifo_btc = df_lifo_btc.append(newth_whole_dict, ignore_index=True)\n",
        "    # and after that change the value of units and amount in original df_open_btc\n",
        "    df_open_btc.at[current_open_index,'Open Units'] = value_open_units - changed_value_open_units\n",
        "    df_open_btc.at[current_open_index,'Open Amount_Eur'] = value_open_amount - changed_value_open_amount\n",
        "    print('value_close_units:',value_close_units)\n",
        "    print('value_open_units:',value_open_units)\n",
        "    print('close_unit_index:',close_unit_index)\n",
        "    print('Elif_loop_1 run number:', serial_number_elif_loop_1, 'finished')\n",
        "  elif value_close_units == value_open_units:\n",
        "    serial_number_elif_loop_2 = serial_number_elif_loop_2 + 1\n",
        "    if value_close_units == 0:\n",
        "      print('We are running value_close_units == 0 condition')\n",
        "      print('This is in the Elif_loop_number_2:',serial_number_elif_loop_2)\n",
        "      #Then permanently delete the first row of the open DF df_latest_last_row_open from df_open_btc\n",
        "      df_open_btc = df_open_btc.drop(current_open_index,axis=0)\n",
        "      #Then reset index and drop the new column 'index' in df_open_btc\n",
        "      df_open_btc.reset_index(inplace=True)\n",
        "      df_open_btc = df_open_btc.drop('index',axis=1)\n",
        "      print('We are breaking')\n",
        "      break\n",
        "    else:\n",
        "      #First lets extract all the values from open DF df_latest_last_row_open\n",
        "      newth_list_open_half = df_latest_last_row_open.to_dict('records')\n",
        "      newth_dict_open_half = newth_list_open_half[0]\n",
        "      #Then permanently delete the first row of the open DF df_latest_last_row_open from df_open_btc\n",
        "      df_open_btc = df_open_btc.drop(current_open_index,axis=0)\n",
        "      #Then reset index and drop the new column 'index' in df_open_btc\n",
        "      df_open_btc.reset_index(inplace=True)\n",
        "      df_open_btc = df_open_btc.drop('index',axis=1)\n",
        "      ### Second lets extract all the values form close DF df_latest_row_from_close\n",
        "      newth_list_close_half = df_latest_row_from_close.to_dict('records')\n",
        "      newth_dict_close_half = newth_list_close_half[0]\n",
        "      #First define the changed values for df_latest_row_from_close\n",
        "      changed_value_close_units = value_open_units\n",
        "      changed_value_close_amount = changed_value_close_units * close_Rate_eur\n",
        "      changed_value_close_spread = changed_value_close_units * value_close_spread_eur/value_close_units\n",
        "      # and after that change the value of units and amount in original df_open_btc\n",
        "      df_close_btc.at[close_unit_index,'Close Units'] = value_close_units - changed_value_close_units\n",
        "      df_close_btc.at[close_unit_index,'Amount_close_Eur'] = value_close_amount - changed_value_close_amount\n",
        "      df_close_btc.at[close_unit_index,'Spread_Eur'] = value_close_spread_eur - changed_value_close_spread\n",
        "    print('value_close_units:',value_close_units)\n",
        "    print('value_open_units:',value_open_units)\n",
        "    print('close_unit_index:',close_unit_index)\n",
        "    print('Elif_loop_2 run number:', serial_number_elif_loop_2, 'finished')\n",
        "  else:\n",
        "    serial_number_else_loop = serial_number_else_loop + 1\n",
        "    print('Do we need to write more code? The answer is a: BIG YES!!')\n",
        "    print('Or on second thought this is a silly mistake!!!')\n",
        "    print('value_close_units:',value_close_units)\n",
        "    print('value_open_units:',value_open_units)\n",
        "    print('close_unit_index:',close_unit_index)\n",
        "    print('serial_number_else_loop:', serial_number_else_loop, 'finished')\n",
        "    print('We are breaking here!!')\n",
        "    break\n",
        "  value_close_units = df_close_btc.loc[close_unit_index, 'Close Units']\n",
        "  if value_close_units == 0:\n",
        "    i = 1\n",
        "  else:\n",
        "    i = 0\n",
        "  print('i =',i)\n",
        "  close_unit_index = close_unit_index + i\n",
        "  print('For loop run number:',serial_number_for_loop,'finished')\n",
        "  print('****************************************')\n"
      ],
      "metadata": {
        "id": "wh0fvq3m4xOR",
        "colab": {
          "base_uri": "https://localhost:8080/",
          "height": 1000
        },
        "outputId": "0f2140e8-ace1-4b00-d0f3-c93422b13aff"
      },
      "execution_count": null,
      "outputs": [
        {
          "output_type": "stream",
          "name": "stdout",
          "text": [
            "For loop run number: 1\n",
            "i = 0\n",
            "close_unit_datetime: 2021-10-15 08:34:28\n",
            "open_datetime_lifo: 2021-09-20 20:15:55\n",
            "value_close_units: 827.551085 value_open_units: 16.401991\n",
            "abs_diff_open_close_units: 811.149094\n",
            "(close_unit_index = close_index) is: True\n",
            "If_loop run number: 1\n",
            "value_close_units: 827.551085\n",
            "value_open_units: 16.401991\n",
            "close_unit_index: 0\n",
            "If_loop run number: 1 finished\n",
            "i = 0\n",
            "For loop run number: 1 finished\n",
            "****************************************\n",
            "For loop run number: 2\n",
            "i = 0\n",
            "close_unit_datetime: 2021-10-15 08:34:28\n",
            "open_datetime_lifo: 2021-09-20 20:15:55\n",
            "value_close_units: 811.149094 value_open_units: 827.551085\n",
            "abs_diff_open_close_units: 16.401990999999953\n",
            "(close_unit_index = close_index) is: True\n",
            "Elif_loop_1 run number: 1\n",
            "value_close_units: 811.149094\n",
            "value_open_units: 827.551085\n",
            "close_unit_index: 0\n",
            "Elif_loop_1 run number: 1 finished\n",
            "i = 1\n",
            "For loop run number: 2 finished\n",
            "****************************************\n",
            "For loop run number: 3\n",
            "i = 0\n",
            "close_unit_datetime: 2021-12-22 16:18:57\n",
            "open_datetime_lifo: 2021-09-20 20:15:55\n",
            "value_close_units: 16.401991 value_open_units: 16.401990999999953\n",
            "abs_diff_open_close_units: 4.618527782440651e-14\n",
            "(close_unit_index = close_index) is: True\n",
            "If_loop run number: 2\n",
            "value_close_units: 16.401991\n",
            "value_open_units: 16.401990999999953\n",
            "close_unit_index: 1\n",
            "If_loop run number: 2 finished\n",
            "i = 0\n",
            "For loop run number: 3 finished\n",
            "****************************************\n",
            "For loop run number: 4\n",
            "i = 0\n",
            "close_unit_datetime: 2021-12-22 16:18:57\n",
            "open_datetime_lifo: NaT\n"
          ]
        },
        {
          "output_type": "error",
          "ename": "KeyError",
          "evalue": "ignored",
          "traceback": [
            "\u001b[0;31m---------------------------------------------------------------------------\u001b[0m",
            "\u001b[0;31mKeyError\u001b[0m                                  Traceback (most recent call last)",
            "\u001b[0;32m<ipython-input-60-31737fe42a41>\u001b[0m in \u001b[0;36m<module>\u001b[0;34m\u001b[0m\n\u001b[1;32m     51\u001b[0m   \u001b[0mdf_latest_last_row_open\u001b[0m \u001b[0;34m=\u001b[0m \u001b[0mdf_latest_last_row_open\u001b[0m\u001b[0;34m[\u001b[0m\u001b[0;36m0\u001b[0m\u001b[0;34m:\u001b[0m\u001b[0;36m1\u001b[0m\u001b[0;34m]\u001b[0m\u001b[0;34m\u001b[0m\u001b[0;34m\u001b[0m\u001b[0m\n\u001b[1;32m     52\u001b[0m   \u001b[0mdf_latest_last_row_open\u001b[0m\u001b[0;34m.\u001b[0m\u001b[0mreset_index\u001b[0m\u001b[0;34m(\u001b[0m\u001b[0minplace\u001b[0m\u001b[0;34m=\u001b[0m\u001b[0;32mTrue\u001b[0m\u001b[0;34m)\u001b[0m\u001b[0;34m\u001b[0m\u001b[0;34m\u001b[0m\u001b[0m\n\u001b[0;32m---> 53\u001b[0;31m   \u001b[0mcurrent_open_index\u001b[0m \u001b[0;34m=\u001b[0m \u001b[0mdf_latest_last_row_open\u001b[0m\u001b[0;34m.\u001b[0m\u001b[0mat\u001b[0m\u001b[0;34m[\u001b[0m\u001b[0;36m0\u001b[0m\u001b[0;34m,\u001b[0m\u001b[0;34m'index'\u001b[0m\u001b[0;34m]\u001b[0m\u001b[0;34m\u001b[0m\u001b[0;34m\u001b[0m\u001b[0m\n\u001b[0m\u001b[1;32m     54\u001b[0m   \u001b[0mdf_latest_last_row_open\u001b[0m \u001b[0;34m=\u001b[0m \u001b[0mdf_latest_last_row_open\u001b[0m\u001b[0;34m.\u001b[0m\u001b[0mdrop\u001b[0m\u001b[0;34m(\u001b[0m\u001b[0;34m'index'\u001b[0m\u001b[0;34m,\u001b[0m \u001b[0maxis\u001b[0m\u001b[0;34m=\u001b[0m\u001b[0;36m1\u001b[0m\u001b[0;34m)\u001b[0m\u001b[0;34m\u001b[0m\u001b[0;34m\u001b[0m\u001b[0m\n\u001b[1;32m     55\u001b[0m   \u001b[0mvalue_open_units\u001b[0m \u001b[0;34m=\u001b[0m \u001b[0mdf_latest_last_row_open\u001b[0m\u001b[0;34m.\u001b[0m\u001b[0mloc\u001b[0m\u001b[0;34m[\u001b[0m\u001b[0;36m0\u001b[0m\u001b[0;34m,\u001b[0m\u001b[0;34m'Open Units'\u001b[0m\u001b[0;34m]\u001b[0m\u001b[0;34m\u001b[0m\u001b[0;34m\u001b[0m\u001b[0m\n",
            "\u001b[0;32m/usr/local/lib/python3.8/dist-packages/pandas/core/indexing.py\u001b[0m in \u001b[0;36m__getitem__\u001b[0;34m(self, key)\u001b[0m\n\u001b[1;32m   2273\u001b[0m             \u001b[0;32mreturn\u001b[0m \u001b[0mself\u001b[0m\u001b[0;34m.\u001b[0m\u001b[0mobj\u001b[0m\u001b[0;34m.\u001b[0m\u001b[0mloc\u001b[0m\u001b[0;34m[\u001b[0m\u001b[0mkey\u001b[0m\u001b[0;34m]\u001b[0m\u001b[0;34m\u001b[0m\u001b[0;34m\u001b[0m\u001b[0m\n\u001b[1;32m   2274\u001b[0m \u001b[0;34m\u001b[0m\u001b[0m\n\u001b[0;32m-> 2275\u001b[0;31m         \u001b[0;32mreturn\u001b[0m \u001b[0msuper\u001b[0m\u001b[0;34m(\u001b[0m\u001b[0;34m)\u001b[0m\u001b[0;34m.\u001b[0m\u001b[0m__getitem__\u001b[0m\u001b[0;34m(\u001b[0m\u001b[0mkey\u001b[0m\u001b[0;34m)\u001b[0m\u001b[0;34m\u001b[0m\u001b[0;34m\u001b[0m\u001b[0m\n\u001b[0m\u001b[1;32m   2276\u001b[0m \u001b[0;34m\u001b[0m\u001b[0m\n\u001b[1;32m   2277\u001b[0m     \u001b[0;32mdef\u001b[0m \u001b[0m__setitem__\u001b[0m\u001b[0;34m(\u001b[0m\u001b[0mself\u001b[0m\u001b[0;34m,\u001b[0m \u001b[0mkey\u001b[0m\u001b[0;34m,\u001b[0m \u001b[0mvalue\u001b[0m\u001b[0;34m)\u001b[0m\u001b[0;34m:\u001b[0m\u001b[0;34m\u001b[0m\u001b[0;34m\u001b[0m\u001b[0m\n",
            "\u001b[0;32m/usr/local/lib/python3.8/dist-packages/pandas/core/indexing.py\u001b[0m in \u001b[0;36m__getitem__\u001b[0;34m(self, key)\u001b[0m\n\u001b[1;32m   2220\u001b[0m \u001b[0;34m\u001b[0m\u001b[0m\n\u001b[1;32m   2221\u001b[0m         \u001b[0mkey\u001b[0m \u001b[0;34m=\u001b[0m \u001b[0mself\u001b[0m\u001b[0;34m.\u001b[0m\u001b[0m_convert_key\u001b[0m\u001b[0;34m(\u001b[0m\u001b[0mkey\u001b[0m\u001b[0;34m)\u001b[0m\u001b[0;34m\u001b[0m\u001b[0;34m\u001b[0m\u001b[0m\n\u001b[0;32m-> 2222\u001b[0;31m         \u001b[0;32mreturn\u001b[0m \u001b[0mself\u001b[0m\u001b[0;34m.\u001b[0m\u001b[0mobj\u001b[0m\u001b[0;34m.\u001b[0m\u001b[0m_get_value\u001b[0m\u001b[0;34m(\u001b[0m\u001b[0;34m*\u001b[0m\u001b[0mkey\u001b[0m\u001b[0;34m,\u001b[0m \u001b[0mtakeable\u001b[0m\u001b[0;34m=\u001b[0m\u001b[0mself\u001b[0m\u001b[0;34m.\u001b[0m\u001b[0m_takeable\u001b[0m\u001b[0;34m)\u001b[0m\u001b[0;34m\u001b[0m\u001b[0;34m\u001b[0m\u001b[0m\n\u001b[0m\u001b[1;32m   2223\u001b[0m \u001b[0;34m\u001b[0m\u001b[0m\n\u001b[1;32m   2224\u001b[0m     \u001b[0;32mdef\u001b[0m \u001b[0m__setitem__\u001b[0m\u001b[0;34m(\u001b[0m\u001b[0mself\u001b[0m\u001b[0;34m,\u001b[0m \u001b[0mkey\u001b[0m\u001b[0;34m,\u001b[0m \u001b[0mvalue\u001b[0m\u001b[0;34m)\u001b[0m\u001b[0;34m:\u001b[0m\u001b[0;34m\u001b[0m\u001b[0;34m\u001b[0m\u001b[0m\n",
            "\u001b[0;32m/usr/local/lib/python3.8/dist-packages/pandas/core/frame.py\u001b[0m in \u001b[0;36m_get_value\u001b[0;34m(self, index, col, takeable)\u001b[0m\n\u001b[1;32m   3577\u001b[0m \u001b[0;34m\u001b[0m\u001b[0m\n\u001b[1;32m   3578\u001b[0m         \u001b[0;32mtry\u001b[0m\u001b[0;34m:\u001b[0m\u001b[0;34m\u001b[0m\u001b[0;34m\u001b[0m\u001b[0m\n\u001b[0;32m-> 3579\u001b[0;31m             \u001b[0mloc\u001b[0m \u001b[0;34m=\u001b[0m \u001b[0mengine\u001b[0m\u001b[0;34m.\u001b[0m\u001b[0mget_loc\u001b[0m\u001b[0;34m(\u001b[0m\u001b[0mindex\u001b[0m\u001b[0;34m)\u001b[0m\u001b[0;34m\u001b[0m\u001b[0;34m\u001b[0m\u001b[0m\n\u001b[0m\u001b[1;32m   3580\u001b[0m             \u001b[0;32mreturn\u001b[0m \u001b[0mseries\u001b[0m\u001b[0;34m.\u001b[0m\u001b[0m_values\u001b[0m\u001b[0;34m[\u001b[0m\u001b[0mloc\u001b[0m\u001b[0;34m]\u001b[0m\u001b[0;34m\u001b[0m\u001b[0;34m\u001b[0m\u001b[0m\n\u001b[1;32m   3581\u001b[0m         \u001b[0;32mexcept\u001b[0m \u001b[0mAttributeError\u001b[0m\u001b[0;34m:\u001b[0m\u001b[0;34m\u001b[0m\u001b[0;34m\u001b[0m\u001b[0m\n",
            "\u001b[0;32m/usr/local/lib/python3.8/dist-packages/pandas/_libs/index.pyx\u001b[0m in \u001b[0;36mpandas._libs.index.IndexEngine.get_loc\u001b[0;34m()\u001b[0m\n",
            "\u001b[0;32m/usr/local/lib/python3.8/dist-packages/pandas/_libs/index.pyx\u001b[0m in \u001b[0;36mpandas._libs.index.IndexEngine.get_loc\u001b[0;34m()\u001b[0m\n",
            "\u001b[0;32mpandas/_libs/hashtable_class_helper.pxi\u001b[0m in \u001b[0;36mpandas._libs.hashtable.Int64HashTable.get_item\u001b[0;34m()\u001b[0m\n",
            "\u001b[0;32mpandas/_libs/hashtable_class_helper.pxi\u001b[0m in \u001b[0;36mpandas._libs.hashtable.Int64HashTable.get_item\u001b[0;34m()\u001b[0m\n",
            "\u001b[0;31mKeyError\u001b[0m: 0"
          ]
        }
      ]
    },
    {
      "cell_type": "code",
      "source": [
        "df_lifo_btc"
      ],
      "metadata": {
        "colab": {
          "base_uri": "https://localhost:8080/",
          "height": 375
        },
        "id": "LnoYGpQPe5RA",
        "outputId": "c1c74673-46af-4d4b-c773-a9513736f2e3"
      },
      "execution_count": null,
      "outputs": [
        {
          "output_type": "execute_result",
          "data": {
            "text/plain": [
              "  Original_Open_index Original_Close_index Open Position ID Close Position ID  \\\n",
              "0                   1                    0       1317468211        1349360858   \n",
              "1                   0                    0       1349360858        1349360858   \n",
              "2                   0                    1       1349360858        1317468211   \n",
              "\n",
              "   Open Units  Close Units  Spread_Eur  Open Amount_Eur  Amount_close_Eur  \\\n",
              "0   16.401991    16.401991    0.655201        16.606043         22.161419   \n",
              "1  811.149094   811.149094   32.402494      1095.977622       1095.977623   \n",
              "2   16.401991    16.401991    1.109600        20.011067         37.454732   \n",
              "\n",
              "        Open Datetime  ... EurHigh_y  EurLow_y  EurClose_y EurWeekday_y  \\\n",
              "0 2021-09-20 20:15:55  ...   1.16198  1.158883    1.159152       Friday   \n",
              "1 2021-09-20 20:15:55  ...   1.16198  1.158883    1.159152       Friday   \n",
              "2 2021-09-20 20:15:55  ...   1.13420  1.126532    1.128757    Wednesday   \n",
              "\n",
              "  Open_unix_timestamp  EurOpen_x  EurHigh_x  EurLow_x  EurClose_x  \\\n",
              "0          1632168955   1.172883   1.173709  1.170056    1.172993   \n",
              "1          1632168955   1.172883   1.173709  1.170056    1.172993   \n",
              "2          1632168955   1.172883   1.173709  1.170056    1.172993   \n",
              "\n",
              "   EurWeekday_x  \n",
              "0        Monday  \n",
              "1        Monday  \n",
              "2        Monday  \n",
              "\n",
              "[3 rows x 34 columns]"
            ],
            "text/html": [
              "\n",
              "  <div id=\"df-a65d2019-71fb-4277-959a-5d927e400501\">\n",
              "    <div class=\"colab-df-container\">\n",
              "      <div>\n",
              "<style scoped>\n",
              "    .dataframe tbody tr th:only-of-type {\n",
              "        vertical-align: middle;\n",
              "    }\n",
              "\n",
              "    .dataframe tbody tr th {\n",
              "        vertical-align: top;\n",
              "    }\n",
              "\n",
              "    .dataframe thead th {\n",
              "        text-align: right;\n",
              "    }\n",
              "</style>\n",
              "<table border=\"1\" class=\"dataframe\">\n",
              "  <thead>\n",
              "    <tr style=\"text-align: right;\">\n",
              "      <th></th>\n",
              "      <th>Original_Open_index</th>\n",
              "      <th>Original_Close_index</th>\n",
              "      <th>Open Position ID</th>\n",
              "      <th>Close Position ID</th>\n",
              "      <th>Open Units</th>\n",
              "      <th>Close Units</th>\n",
              "      <th>Spread_Eur</th>\n",
              "      <th>Open Amount_Eur</th>\n",
              "      <th>Amount_close_Eur</th>\n",
              "      <th>Open Datetime</th>\n",
              "      <th>...</th>\n",
              "      <th>EurHigh_y</th>\n",
              "      <th>EurLow_y</th>\n",
              "      <th>EurClose_y</th>\n",
              "      <th>EurWeekday_y</th>\n",
              "      <th>Open_unix_timestamp</th>\n",
              "      <th>EurOpen_x</th>\n",
              "      <th>EurHigh_x</th>\n",
              "      <th>EurLow_x</th>\n",
              "      <th>EurClose_x</th>\n",
              "      <th>EurWeekday_x</th>\n",
              "    </tr>\n",
              "  </thead>\n",
              "  <tbody>\n",
              "    <tr>\n",
              "      <th>0</th>\n",
              "      <td>1</td>\n",
              "      <td>0</td>\n",
              "      <td>1317468211</td>\n",
              "      <td>1349360858</td>\n",
              "      <td>16.401991</td>\n",
              "      <td>16.401991</td>\n",
              "      <td>0.655201</td>\n",
              "      <td>16.606043</td>\n",
              "      <td>22.161419</td>\n",
              "      <td>2021-09-20 20:15:55</td>\n",
              "      <td>...</td>\n",
              "      <td>1.16198</td>\n",
              "      <td>1.158883</td>\n",
              "      <td>1.159152</td>\n",
              "      <td>Friday</td>\n",
              "      <td>1632168955</td>\n",
              "      <td>1.172883</td>\n",
              "      <td>1.173709</td>\n",
              "      <td>1.170056</td>\n",
              "      <td>1.172993</td>\n",
              "      <td>Monday</td>\n",
              "    </tr>\n",
              "    <tr>\n",
              "      <th>1</th>\n",
              "      <td>0</td>\n",
              "      <td>0</td>\n",
              "      <td>1349360858</td>\n",
              "      <td>1349360858</td>\n",
              "      <td>811.149094</td>\n",
              "      <td>811.149094</td>\n",
              "      <td>32.402494</td>\n",
              "      <td>1095.977622</td>\n",
              "      <td>1095.977623</td>\n",
              "      <td>2021-09-20 20:15:55</td>\n",
              "      <td>...</td>\n",
              "      <td>1.16198</td>\n",
              "      <td>1.158883</td>\n",
              "      <td>1.159152</td>\n",
              "      <td>Friday</td>\n",
              "      <td>1632168955</td>\n",
              "      <td>1.172883</td>\n",
              "      <td>1.173709</td>\n",
              "      <td>1.170056</td>\n",
              "      <td>1.172993</td>\n",
              "      <td>Monday</td>\n",
              "    </tr>\n",
              "    <tr>\n",
              "      <th>2</th>\n",
              "      <td>0</td>\n",
              "      <td>1</td>\n",
              "      <td>1349360858</td>\n",
              "      <td>1317468211</td>\n",
              "      <td>16.401991</td>\n",
              "      <td>16.401991</td>\n",
              "      <td>1.109600</td>\n",
              "      <td>20.011067</td>\n",
              "      <td>37.454732</td>\n",
              "      <td>2021-09-20 20:15:55</td>\n",
              "      <td>...</td>\n",
              "      <td>1.13420</td>\n",
              "      <td>1.126532</td>\n",
              "      <td>1.128757</td>\n",
              "      <td>Wednesday</td>\n",
              "      <td>1632168955</td>\n",
              "      <td>1.172883</td>\n",
              "      <td>1.173709</td>\n",
              "      <td>1.170056</td>\n",
              "      <td>1.172993</td>\n",
              "      <td>Monday</td>\n",
              "    </tr>\n",
              "  </tbody>\n",
              "</table>\n",
              "<p>3 rows × 34 columns</p>\n",
              "</div>\n",
              "      <button class=\"colab-df-convert\" onclick=\"convertToInteractive('df-a65d2019-71fb-4277-959a-5d927e400501')\"\n",
              "              title=\"Convert this dataframe to an interactive table.\"\n",
              "              style=\"display:none;\">\n",
              "        \n",
              "  <svg xmlns=\"http://www.w3.org/2000/svg\" height=\"24px\"viewBox=\"0 0 24 24\"\n",
              "       width=\"24px\">\n",
              "    <path d=\"M0 0h24v24H0V0z\" fill=\"none\"/>\n",
              "    <path d=\"M18.56 5.44l.94 2.06.94-2.06 2.06-.94-2.06-.94-.94-2.06-.94 2.06-2.06.94zm-11 1L8.5 8.5l.94-2.06 2.06-.94-2.06-.94L8.5 2.5l-.94 2.06-2.06.94zm10 10l.94 2.06.94-2.06 2.06-.94-2.06-.94-.94-2.06-.94 2.06-2.06.94z\"/><path d=\"M17.41 7.96l-1.37-1.37c-.4-.4-.92-.59-1.43-.59-.52 0-1.04.2-1.43.59L10.3 9.45l-7.72 7.72c-.78.78-.78 2.05 0 2.83L4 21.41c.39.39.9.59 1.41.59.51 0 1.02-.2 1.41-.59l7.78-7.78 2.81-2.81c.8-.78.8-2.07 0-2.86zM5.41 20L4 18.59l7.72-7.72 1.47 1.35L5.41 20z\"/>\n",
              "  </svg>\n",
              "      </button>\n",
              "      \n",
              "  <style>\n",
              "    .colab-df-container {\n",
              "      display:flex;\n",
              "      flex-wrap:wrap;\n",
              "      gap: 12px;\n",
              "    }\n",
              "\n",
              "    .colab-df-convert {\n",
              "      background-color: #E8F0FE;\n",
              "      border: none;\n",
              "      border-radius: 50%;\n",
              "      cursor: pointer;\n",
              "      display: none;\n",
              "      fill: #1967D2;\n",
              "      height: 32px;\n",
              "      padding: 0 0 0 0;\n",
              "      width: 32px;\n",
              "    }\n",
              "\n",
              "    .colab-df-convert:hover {\n",
              "      background-color: #E2EBFA;\n",
              "      box-shadow: 0px 1px 2px rgba(60, 64, 67, 0.3), 0px 1px 3px 1px rgba(60, 64, 67, 0.15);\n",
              "      fill: #174EA6;\n",
              "    }\n",
              "\n",
              "    [theme=dark] .colab-df-convert {\n",
              "      background-color: #3B4455;\n",
              "      fill: #D2E3FC;\n",
              "    }\n",
              "\n",
              "    [theme=dark] .colab-df-convert:hover {\n",
              "      background-color: #434B5C;\n",
              "      box-shadow: 0px 1px 3px 1px rgba(0, 0, 0, 0.15);\n",
              "      filter: drop-shadow(0px 1px 2px rgba(0, 0, 0, 0.3));\n",
              "      fill: #FFFFFF;\n",
              "    }\n",
              "  </style>\n",
              "\n",
              "      <script>\n",
              "        const buttonEl =\n",
              "          document.querySelector('#df-a65d2019-71fb-4277-959a-5d927e400501 button.colab-df-convert');\n",
              "        buttonEl.style.display =\n",
              "          google.colab.kernel.accessAllowed ? 'block' : 'none';\n",
              "\n",
              "        async function convertToInteractive(key) {\n",
              "          const element = document.querySelector('#df-a65d2019-71fb-4277-959a-5d927e400501');\n",
              "          const dataTable =\n",
              "            await google.colab.kernel.invokeFunction('convertToInteractive',\n",
              "                                                     [key], {});\n",
              "          if (!dataTable) return;\n",
              "\n",
              "          const docLinkHtml = 'Like what you see? Visit the ' +\n",
              "            '<a target=\"_blank\" href=https://colab.research.google.com/notebooks/data_table.ipynb>data table notebook</a>'\n",
              "            + ' to learn more about interactive tables.';\n",
              "          element.innerHTML = '';\n",
              "          dataTable['output_type'] = 'display_data';\n",
              "          await google.colab.output.renderOutput(dataTable, element);\n",
              "          const docLink = document.createElement('div');\n",
              "          docLink.innerHTML = docLinkHtml;\n",
              "          element.appendChild(docLink);\n",
              "        }\n",
              "      </script>\n",
              "    </div>\n",
              "  </div>\n",
              "  "
            ]
          },
          "metadata": {},
          "execution_count": 61
        }
      ]
    },
    {
      "cell_type": "code",
      "source": [
        "df_open_btc"
      ],
      "metadata": {
        "colab": {
          "base_uri": "https://localhost:8080/",
          "height": 148
        },
        "id": "gMBgeusOfCxr",
        "outputId": "8fdf6807-eeb4-4738-9153-92141b4eea53"
      },
      "execution_count": null,
      "outputs": [
        {
          "output_type": "execute_result",
          "data": {
            "text/plain": [
              "Empty DataFrame\n",
              "Columns: [Original_Open_index, Open Position ID, Open Action, Open Amount, Open Units, Open Datetime, Open Rate, Open_Date, Open_unix_timestamp, EurOpen_x, EurHigh_x, EurLow_x, EurClose_x, EurWeekday_x, Open Amount_Eur, Open Rate_Eur]\n",
              "Index: []"
            ],
            "text/html": [
              "\n",
              "  <div id=\"df-093e6b06-10a4-4c4c-bf40-ef9b21e7f0d5\">\n",
              "    <div class=\"colab-df-container\">\n",
              "      <div>\n",
              "<style scoped>\n",
              "    .dataframe tbody tr th:only-of-type {\n",
              "        vertical-align: middle;\n",
              "    }\n",
              "\n",
              "    .dataframe tbody tr th {\n",
              "        vertical-align: top;\n",
              "    }\n",
              "\n",
              "    .dataframe thead th {\n",
              "        text-align: right;\n",
              "    }\n",
              "</style>\n",
              "<table border=\"1\" class=\"dataframe\">\n",
              "  <thead>\n",
              "    <tr style=\"text-align: right;\">\n",
              "      <th></th>\n",
              "      <th>Original_Open_index</th>\n",
              "      <th>Open Position ID</th>\n",
              "      <th>Open Action</th>\n",
              "      <th>Open Amount</th>\n",
              "      <th>Open Units</th>\n",
              "      <th>Open Datetime</th>\n",
              "      <th>Open Rate</th>\n",
              "      <th>Open_Date</th>\n",
              "      <th>Open_unix_timestamp</th>\n",
              "      <th>EurOpen_x</th>\n",
              "      <th>EurHigh_x</th>\n",
              "      <th>EurLow_x</th>\n",
              "      <th>EurClose_x</th>\n",
              "      <th>EurWeekday_x</th>\n",
              "      <th>Open Amount_Eur</th>\n",
              "      <th>Open Rate_Eur</th>\n",
              "    </tr>\n",
              "  </thead>\n",
              "  <tbody>\n",
              "  </tbody>\n",
              "</table>\n",
              "</div>\n",
              "      <button class=\"colab-df-convert\" onclick=\"convertToInteractive('df-093e6b06-10a4-4c4c-bf40-ef9b21e7f0d5')\"\n",
              "              title=\"Convert this dataframe to an interactive table.\"\n",
              "              style=\"display:none;\">\n",
              "        \n",
              "  <svg xmlns=\"http://www.w3.org/2000/svg\" height=\"24px\"viewBox=\"0 0 24 24\"\n",
              "       width=\"24px\">\n",
              "    <path d=\"M0 0h24v24H0V0z\" fill=\"none\"/>\n",
              "    <path d=\"M18.56 5.44l.94 2.06.94-2.06 2.06-.94-2.06-.94-.94-2.06-.94 2.06-2.06.94zm-11 1L8.5 8.5l.94-2.06 2.06-.94-2.06-.94L8.5 2.5l-.94 2.06-2.06.94zm10 10l.94 2.06.94-2.06 2.06-.94-2.06-.94-.94-2.06-.94 2.06-2.06.94z\"/><path d=\"M17.41 7.96l-1.37-1.37c-.4-.4-.92-.59-1.43-.59-.52 0-1.04.2-1.43.59L10.3 9.45l-7.72 7.72c-.78.78-.78 2.05 0 2.83L4 21.41c.39.39.9.59 1.41.59.51 0 1.02-.2 1.41-.59l7.78-7.78 2.81-2.81c.8-.78.8-2.07 0-2.86zM5.41 20L4 18.59l7.72-7.72 1.47 1.35L5.41 20z\"/>\n",
              "  </svg>\n",
              "      </button>\n",
              "      \n",
              "  <style>\n",
              "    .colab-df-container {\n",
              "      display:flex;\n",
              "      flex-wrap:wrap;\n",
              "      gap: 12px;\n",
              "    }\n",
              "\n",
              "    .colab-df-convert {\n",
              "      background-color: #E8F0FE;\n",
              "      border: none;\n",
              "      border-radius: 50%;\n",
              "      cursor: pointer;\n",
              "      display: none;\n",
              "      fill: #1967D2;\n",
              "      height: 32px;\n",
              "      padding: 0 0 0 0;\n",
              "      width: 32px;\n",
              "    }\n",
              "\n",
              "    .colab-df-convert:hover {\n",
              "      background-color: #E2EBFA;\n",
              "      box-shadow: 0px 1px 2px rgba(60, 64, 67, 0.3), 0px 1px 3px 1px rgba(60, 64, 67, 0.15);\n",
              "      fill: #174EA6;\n",
              "    }\n",
              "\n",
              "    [theme=dark] .colab-df-convert {\n",
              "      background-color: #3B4455;\n",
              "      fill: #D2E3FC;\n",
              "    }\n",
              "\n",
              "    [theme=dark] .colab-df-convert:hover {\n",
              "      background-color: #434B5C;\n",
              "      box-shadow: 0px 1px 3px 1px rgba(0, 0, 0, 0.15);\n",
              "      filter: drop-shadow(0px 1px 2px rgba(0, 0, 0, 0.3));\n",
              "      fill: #FFFFFF;\n",
              "    }\n",
              "  </style>\n",
              "\n",
              "      <script>\n",
              "        const buttonEl =\n",
              "          document.querySelector('#df-093e6b06-10a4-4c4c-bf40-ef9b21e7f0d5 button.colab-df-convert');\n",
              "        buttonEl.style.display =\n",
              "          google.colab.kernel.accessAllowed ? 'block' : 'none';\n",
              "\n",
              "        async function convertToInteractive(key) {\n",
              "          const element = document.querySelector('#df-093e6b06-10a4-4c4c-bf40-ef9b21e7f0d5');\n",
              "          const dataTable =\n",
              "            await google.colab.kernel.invokeFunction('convertToInteractive',\n",
              "                                                     [key], {});\n",
              "          if (!dataTable) return;\n",
              "\n",
              "          const docLinkHtml = 'Like what you see? Visit the ' +\n",
              "            '<a target=\"_blank\" href=https://colab.research.google.com/notebooks/data_table.ipynb>data table notebook</a>'\n",
              "            + ' to learn more about interactive tables.';\n",
              "          element.innerHTML = '';\n",
              "          dataTable['output_type'] = 'display_data';\n",
              "          await google.colab.output.renderOutput(dataTable, element);\n",
              "          const docLink = document.createElement('div');\n",
              "          docLink.innerHTML = docLinkHtml;\n",
              "          element.appendChild(docLink);\n",
              "        }\n",
              "      </script>\n",
              "    </div>\n",
              "  </div>\n",
              "  "
            ]
          },
          "metadata": {},
          "execution_count": 62
        }
      ]
    },
    {
      "cell_type": "code",
      "source": [
        "df_close_btc"
      ],
      "metadata": {
        "colab": {
          "base_uri": "https://localhost:8080/",
          "height": 280
        },
        "id": "XJe_3864fW_t",
        "outputId": "e7908eca-9cd1-4195-c47d-b695ca4809a8"
      },
      "execution_count": null,
      "outputs": [
        {
          "output_type": "execute_result",
          "data": {
            "text/plain": [
              "   Original_Close_index  Close Position ID Close Action   Close Units  \\\n",
              "0                     0         1349360858  Buy Polygon  0.000000e+00   \n",
              "1                     1         1317468211  Buy Polygon  4.618528e-14   \n",
              "\n",
              "       Close Datetime  Close Rate  Close Spread  Close Profit USD  \\\n",
              "0 2021-10-15 08:34:28        1.57         38.31            321.34   \n",
              "1 2021-12-22 16:18:57        2.59          1.25             23.00   \n",
              "\n",
              "         Close_Date  Close_unix_timestamp  EurOpen_y  EurHigh_y  EurLow_y  \\\n",
              "0  15/10/2021 00:00            1634286868   1.159071    1.16198  1.158883   \n",
              "1  22/12/2021 00:00            1640189937   1.129050    1.13420  1.126532   \n",
              "\n",
              "   EurClose_y EurWeekday_y  Close Rate_Eur  Amount_close_Eur    Spread_Eur  \n",
              "0    1.159152       Friday        1.351142      6.701127e-07  0.000000e+00  \n",
              "1    1.128757    Wednesday        2.283548      6.180990e-09  3.108624e-15  "
            ],
            "text/html": [
              "\n",
              "  <div id=\"df-fdcc7c32-9006-4347-af8b-e63fe0c285de\">\n",
              "    <div class=\"colab-df-container\">\n",
              "      <div>\n",
              "<style scoped>\n",
              "    .dataframe tbody tr th:only-of-type {\n",
              "        vertical-align: middle;\n",
              "    }\n",
              "\n",
              "    .dataframe tbody tr th {\n",
              "        vertical-align: top;\n",
              "    }\n",
              "\n",
              "    .dataframe thead th {\n",
              "        text-align: right;\n",
              "    }\n",
              "</style>\n",
              "<table border=\"1\" class=\"dataframe\">\n",
              "  <thead>\n",
              "    <tr style=\"text-align: right;\">\n",
              "      <th></th>\n",
              "      <th>Original_Close_index</th>\n",
              "      <th>Close Position ID</th>\n",
              "      <th>Close Action</th>\n",
              "      <th>Close Units</th>\n",
              "      <th>Close Datetime</th>\n",
              "      <th>Close Rate</th>\n",
              "      <th>Close Spread</th>\n",
              "      <th>Close Profit USD</th>\n",
              "      <th>Close_Date</th>\n",
              "      <th>Close_unix_timestamp</th>\n",
              "      <th>EurOpen_y</th>\n",
              "      <th>EurHigh_y</th>\n",
              "      <th>EurLow_y</th>\n",
              "      <th>EurClose_y</th>\n",
              "      <th>EurWeekday_y</th>\n",
              "      <th>Close Rate_Eur</th>\n",
              "      <th>Amount_close_Eur</th>\n",
              "      <th>Spread_Eur</th>\n",
              "    </tr>\n",
              "  </thead>\n",
              "  <tbody>\n",
              "    <tr>\n",
              "      <th>0</th>\n",
              "      <td>0</td>\n",
              "      <td>1349360858</td>\n",
              "      <td>Buy Polygon</td>\n",
              "      <td>0.000000e+00</td>\n",
              "      <td>2021-10-15 08:34:28</td>\n",
              "      <td>1.57</td>\n",
              "      <td>38.31</td>\n",
              "      <td>321.34</td>\n",
              "      <td>15/10/2021 00:00</td>\n",
              "      <td>1634286868</td>\n",
              "      <td>1.159071</td>\n",
              "      <td>1.16198</td>\n",
              "      <td>1.158883</td>\n",
              "      <td>1.159152</td>\n",
              "      <td>Friday</td>\n",
              "      <td>1.351142</td>\n",
              "      <td>6.701127e-07</td>\n",
              "      <td>0.000000e+00</td>\n",
              "    </tr>\n",
              "    <tr>\n",
              "      <th>1</th>\n",
              "      <td>1</td>\n",
              "      <td>1317468211</td>\n",
              "      <td>Buy Polygon</td>\n",
              "      <td>4.618528e-14</td>\n",
              "      <td>2021-12-22 16:18:57</td>\n",
              "      <td>2.59</td>\n",
              "      <td>1.25</td>\n",
              "      <td>23.00</td>\n",
              "      <td>22/12/2021 00:00</td>\n",
              "      <td>1640189937</td>\n",
              "      <td>1.129050</td>\n",
              "      <td>1.13420</td>\n",
              "      <td>1.126532</td>\n",
              "      <td>1.128757</td>\n",
              "      <td>Wednesday</td>\n",
              "      <td>2.283548</td>\n",
              "      <td>6.180990e-09</td>\n",
              "      <td>3.108624e-15</td>\n",
              "    </tr>\n",
              "  </tbody>\n",
              "</table>\n",
              "</div>\n",
              "      <button class=\"colab-df-convert\" onclick=\"convertToInteractive('df-fdcc7c32-9006-4347-af8b-e63fe0c285de')\"\n",
              "              title=\"Convert this dataframe to an interactive table.\"\n",
              "              style=\"display:none;\">\n",
              "        \n",
              "  <svg xmlns=\"http://www.w3.org/2000/svg\" height=\"24px\"viewBox=\"0 0 24 24\"\n",
              "       width=\"24px\">\n",
              "    <path d=\"M0 0h24v24H0V0z\" fill=\"none\"/>\n",
              "    <path d=\"M18.56 5.44l.94 2.06.94-2.06 2.06-.94-2.06-.94-.94-2.06-.94 2.06-2.06.94zm-11 1L8.5 8.5l.94-2.06 2.06-.94-2.06-.94L8.5 2.5l-.94 2.06-2.06.94zm10 10l.94 2.06.94-2.06 2.06-.94-2.06-.94-.94-2.06-.94 2.06-2.06.94z\"/><path d=\"M17.41 7.96l-1.37-1.37c-.4-.4-.92-.59-1.43-.59-.52 0-1.04.2-1.43.59L10.3 9.45l-7.72 7.72c-.78.78-.78 2.05 0 2.83L4 21.41c.39.39.9.59 1.41.59.51 0 1.02-.2 1.41-.59l7.78-7.78 2.81-2.81c.8-.78.8-2.07 0-2.86zM5.41 20L4 18.59l7.72-7.72 1.47 1.35L5.41 20z\"/>\n",
              "  </svg>\n",
              "      </button>\n",
              "      \n",
              "  <style>\n",
              "    .colab-df-container {\n",
              "      display:flex;\n",
              "      flex-wrap:wrap;\n",
              "      gap: 12px;\n",
              "    }\n",
              "\n",
              "    .colab-df-convert {\n",
              "      background-color: #E8F0FE;\n",
              "      border: none;\n",
              "      border-radius: 50%;\n",
              "      cursor: pointer;\n",
              "      display: none;\n",
              "      fill: #1967D2;\n",
              "      height: 32px;\n",
              "      padding: 0 0 0 0;\n",
              "      width: 32px;\n",
              "    }\n",
              "\n",
              "    .colab-df-convert:hover {\n",
              "      background-color: #E2EBFA;\n",
              "      box-shadow: 0px 1px 2px rgba(60, 64, 67, 0.3), 0px 1px 3px 1px rgba(60, 64, 67, 0.15);\n",
              "      fill: #174EA6;\n",
              "    }\n",
              "\n",
              "    [theme=dark] .colab-df-convert {\n",
              "      background-color: #3B4455;\n",
              "      fill: #D2E3FC;\n",
              "    }\n",
              "\n",
              "    [theme=dark] .colab-df-convert:hover {\n",
              "      background-color: #434B5C;\n",
              "      box-shadow: 0px 1px 3px 1px rgba(0, 0, 0, 0.15);\n",
              "      filter: drop-shadow(0px 1px 2px rgba(0, 0, 0, 0.3));\n",
              "      fill: #FFFFFF;\n",
              "    }\n",
              "  </style>\n",
              "\n",
              "      <script>\n",
              "        const buttonEl =\n",
              "          document.querySelector('#df-fdcc7c32-9006-4347-af8b-e63fe0c285de button.colab-df-convert');\n",
              "        buttonEl.style.display =\n",
              "          google.colab.kernel.accessAllowed ? 'block' : 'none';\n",
              "\n",
              "        async function convertToInteractive(key) {\n",
              "          const element = document.querySelector('#df-fdcc7c32-9006-4347-af8b-e63fe0c285de');\n",
              "          const dataTable =\n",
              "            await google.colab.kernel.invokeFunction('convertToInteractive',\n",
              "                                                     [key], {});\n",
              "          if (!dataTable) return;\n",
              "\n",
              "          const docLinkHtml = 'Like what you see? Visit the ' +\n",
              "            '<a target=\"_blank\" href=https://colab.research.google.com/notebooks/data_table.ipynb>data table notebook</a>'\n",
              "            + ' to learn more about interactive tables.';\n",
              "          element.innerHTML = '';\n",
              "          dataTable['output_type'] = 'display_data';\n",
              "          await google.colab.output.renderOutput(dataTable, element);\n",
              "          const docLink = document.createElement('div');\n",
              "          docLink.innerHTML = docLinkHtml;\n",
              "          element.appendChild(docLink);\n",
              "        }\n",
              "      </script>\n",
              "    </div>\n",
              "  </div>\n",
              "  "
            ]
          },
          "metadata": {},
          "execution_count": 63
        }
      ]
    },
    {
      "cell_type": "code",
      "source": [
        "df_lifo_btc.dtypes"
      ],
      "metadata": {
        "colab": {
          "base_uri": "https://localhost:8080/"
        },
        "id": "6zlrdkajo8oC",
        "outputId": "6a67463f-2d8b-43cf-e519-05d11464b2c2"
      },
      "execution_count": null,
      "outputs": [
        {
          "output_type": "execute_result",
          "data": {
            "text/plain": [
              "Original_Open_index              object\n",
              "Original_Close_index             object\n",
              "Open Position ID                 object\n",
              "Close Position ID                object\n",
              "Open Units                      float64\n",
              "Close Units                     float64\n",
              "Spread_Eur                      float64\n",
              "Open Amount_Eur                 float64\n",
              "Amount_close_Eur                float64\n",
              "Open Datetime            datetime64[ns]\n",
              "Close Datetime           datetime64[ns]\n",
              "Open Rate_Eur                   float64\n",
              "Close Rate_Eur                  float64\n",
              "Open Action                      object\n",
              "Close Action                     object\n",
              "Open Amount                     float64\n",
              "Close Rate                      float64\n",
              "Open Rate                       float64\n",
              "Close Spread                    float64\n",
              "Close Profit USD                float64\n",
              "Close_Date                       object\n",
              "Open_Date                        object\n",
              "Close_unix_timestamp             object\n",
              "EurOpen_y                       float64\n",
              "EurHigh_y                       float64\n",
              "EurLow_y                        float64\n",
              "EurClose_y                      float64\n",
              "EurWeekday_y                     object\n",
              "Open_unix_timestamp              object\n",
              "EurOpen_x                       float64\n",
              "EurHigh_x                       float64\n",
              "EurLow_x                        float64\n",
              "EurClose_x                      float64\n",
              "EurWeekday_x                     object\n",
              "time_difference         timedelta64[ns]\n",
              "time_difference_days            float64\n",
              "dtype: object"
            ]
          },
          "metadata": {},
          "execution_count": 45
        }
      ]
    },
    {
      "cell_type": "code",
      "source": [
        "df_lifo_btc['time_difference'] = df_lifo_btc['Close Datetime'] - df_lifo_btc['Open Datetime']"
      ],
      "metadata": {
        "id": "0qBAcCeNY47l"
      },
      "execution_count": null,
      "outputs": []
    },
    {
      "cell_type": "code",
      "source": [
        "df_lifo_btc['time_difference_days'] = df_lifo_btc['time_difference'] / np.timedelta64(1, 'D')"
      ],
      "metadata": {
        "id": "vffHhHo6C_kD"
      },
      "execution_count": null,
      "outputs": []
    },
    {
      "cell_type": "code",
      "source": [
        "df_lifo_btc['time_difference_days']"
      ],
      "metadata": {
        "colab": {
          "base_uri": "https://localhost:8080/"
        },
        "id": "HX4mgYnzDS_n",
        "outputId": "67ef093e-c551-497e-fe72-356ff4876ab5"
      },
      "execution_count": null,
      "outputs": [
        {
          "output_type": "execute_result",
          "data": {
            "text/plain": [
              "0    24.512882\n",
              "1    24.512882\n",
              "2    92.835440\n",
              "Name: time_difference_days, dtype: float64"
            ]
          },
          "metadata": {},
          "execution_count": 66
        }
      ]
    },
    {
      "cell_type": "code",
      "source": [
        "df_lifo_btc_taxable = df_lifo_btc[df_lifo_btc['time_difference_days'] < 365]"
      ],
      "metadata": {
        "id": "vBFzxLOnqhUC"
      },
      "execution_count": null,
      "outputs": []
    },
    {
      "cell_type": "code",
      "source": [
        "df_lifo_btc_taxable.shape"
      ],
      "metadata": {
        "colab": {
          "base_uri": "https://localhost:8080/"
        },
        "id": "3k4nvTWhFEO_",
        "outputId": "bb3d121c-b9e0-4533-d898-10c2978f177e"
      },
      "execution_count": null,
      "outputs": [
        {
          "output_type": "execute_result",
          "data": {
            "text/plain": [
              "(3, 36)"
            ]
          },
          "metadata": {},
          "execution_count": 68
        }
      ]
    },
    {
      "cell_type": "code",
      "source": [
        "df_lifo_btc_taxable_2020 = df_lifo_btc_taxable[df_lifo_btc_taxable['Close_unix_timestamp'] <= 1609455599]"
      ],
      "metadata": {
        "id": "ybNHShIrDwZK"
      },
      "execution_count": null,
      "outputs": []
    },
    {
      "cell_type": "code",
      "source": [
        "df_lifo_btc_taxable_2020['Open Amount_Eur'].sum()"
      ],
      "metadata": {
        "colab": {
          "base_uri": "https://localhost:8080/"
        },
        "id": "5gnJSJNTWU13",
        "outputId": "d674c104-3fed-4b7f-8342-fb8fc561741b"
      },
      "execution_count": null,
      "outputs": [
        {
          "output_type": "execute_result",
          "data": {
            "text/plain": [
              "0.0"
            ]
          },
          "metadata": {},
          "execution_count": 70
        }
      ]
    },
    {
      "cell_type": "code",
      "source": [
        "df_lifo_btc_taxable_2020['Amount_close_Eur'].sum()"
      ],
      "metadata": {
        "colab": {
          "base_uri": "https://localhost:8080/"
        },
        "id": "ozeaIf_DWmXq",
        "outputId": "cad3c814-2188-4a8a-87d8-f6f9fdb4a394"
      },
      "execution_count": null,
      "outputs": [
        {
          "output_type": "execute_result",
          "data": {
            "text/plain": [
              "0.0"
            ]
          },
          "metadata": {},
          "execution_count": 71
        }
      ]
    },
    {
      "cell_type": "code",
      "source": [],
      "metadata": {
        "id": "2A5G9HrjD5m9"
      },
      "execution_count": null,
      "outputs": []
    },
    {
      "cell_type": "code",
      "source": [
        "df_lifo_btc_taxable_2020_2021 = df_lifo_btc_taxable[df_lifo_btc_taxable['Close_unix_timestamp'] <= 1640991599]"
      ],
      "metadata": {
        "id": "eZnEFuIwYXwF"
      },
      "execution_count": null,
      "outputs": []
    },
    {
      "cell_type": "code",
      "source": [
        "df_lifo_btc_taxable_2021 = df_lifo_btc_taxable_2020_2021[df_lifo_btc_taxable_2020_2021['Close_unix_timestamp'] > 1609455599]"
      ],
      "metadata": {
        "id": "0-gjMXlLZCqX"
      },
      "execution_count": null,
      "outputs": []
    },
    {
      "cell_type": "code",
      "source": [
        "df_lifo_btc_taxable_2021['Open Amount_Eur'].sum()"
      ],
      "metadata": {
        "colab": {
          "base_uri": "https://localhost:8080/"
        },
        "id": "rFhfRAv6Etga",
        "outputId": "2bc2cb88-ba6a-498f-cbbb-037749fda3ee"
      },
      "execution_count": null,
      "outputs": [
        {
          "output_type": "execute_result",
          "data": {
            "text/plain": [
              "1132.594731593741"
            ]
          },
          "metadata": {},
          "execution_count": 74
        }
      ]
    },
    {
      "cell_type": "code",
      "source": [
        "df_lifo_btc_taxable_2021['Amount_close_Eur'].sum()"
      ],
      "metadata": {
        "colab": {
          "base_uri": "https://localhost:8080/"
        },
        "id": "8HJZ94hyEzUx",
        "outputId": "2058dfd6-462f-44c4-fbe2-505885527332"
      },
      "execution_count": null,
      "outputs": [
        {
          "output_type": "execute_result",
          "data": {
            "text/plain": [
              "1155.593773693819"
            ]
          },
          "metadata": {},
          "execution_count": 75
        }
      ]
    },
    {
      "cell_type": "code",
      "source": [
        "df_lifo_btc_taxable_2022 = df_lifo_btc_taxable[df_lifo_btc_taxable['Close_unix_timestamp'] > 1640991599]"
      ],
      "metadata": {
        "id": "OISoIU-dF04W"
      },
      "execution_count": null,
      "outputs": []
    },
    {
      "cell_type": "code",
      "source": [
        "df_lifo_btc_taxable_2022['Open Amount_Eur'].sum()"
      ],
      "metadata": {
        "colab": {
          "base_uri": "https://localhost:8080/"
        },
        "id": "OIxCMg09Gkac",
        "outputId": "89347d0f-72ae-4a0e-e402-e28d6481356d"
      },
      "execution_count": null,
      "outputs": [
        {
          "output_type": "execute_result",
          "data": {
            "text/plain": [
              "0.0"
            ]
          },
          "metadata": {},
          "execution_count": 77
        }
      ]
    },
    {
      "cell_type": "code",
      "source": [
        "df_lifo_btc_taxable_2022['Amount_close_Eur'].sum()"
      ],
      "metadata": {
        "colab": {
          "base_uri": "https://localhost:8080/"
        },
        "id": "46MkGbGqGtOn",
        "outputId": "757acf10-3a0f-46b4-ad53-0826a021d46e"
      },
      "execution_count": null,
      "outputs": [
        {
          "output_type": "execute_result",
          "data": {
            "text/plain": [
              "0.0"
            ]
          },
          "metadata": {},
          "execution_count": 78
        }
      ]
    }
  ]
}