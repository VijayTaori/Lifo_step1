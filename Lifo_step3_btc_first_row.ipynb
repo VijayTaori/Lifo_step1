{
  "nbformat": 4,
  "nbformat_minor": 0,
  "metadata": {
    "colab": {
      "provenance": [],
      "authorship_tag": "ABX9TyOHeL1/xgt5nPn+hiUnt+jv",
      "include_colab_link": true
    },
    "kernelspec": {
      "name": "python3",
      "display_name": "Python 3"
    },
    "language_info": {
      "name": "python"
    }
  },
  "cells": [
    {
      "cell_type": "markdown",
      "metadata": {
        "id": "view-in-github",
        "colab_type": "text"
      },
      "source": [
        "<a href=\"https://colab.research.google.com/github/VijayTaori/Lifo_step1/blob/main/Lifo_step3_btc_first_row.ipynb\" target=\"_parent\"><img src=\"https://colab.research.google.com/assets/colab-badge.svg\" alt=\"Open In Colab\"/></a>"
      ]
    },
    {
      "cell_type": "code",
      "execution_count": 1,
      "metadata": {
        "id": "Vez4rlj-Reib"
      },
      "outputs": [],
      "source": [
        "import pandas as pd\n",
        "import numpy as np\n",
        "import datetime as dt"
      ]
    },
    {
      "cell_type": "code",
      "source": [
        "df_open = pd.read_csv('/content/crypto_et_open_final.csv')\n",
        "df_close = pd.read_csv('/content/crypto_et_close_final.csv')"
      ],
      "metadata": {
        "id": "1tWo8ovVR3U2"
      },
      "execution_count": 2,
      "outputs": []
    },
    {
      "cell_type": "code",
      "source": [
        "df_close['Close Datetime'] = pd.to_datetime(df_close['close_unix_timestamp'],dayfirst=True,unit='s')\n",
        "df_close"
      ],
      "metadata": {
        "id": "cTo9MRebR3wq"
      },
      "execution_count": null,
      "outputs": []
    },
    {
      "cell_type": "code",
      "source": [
        "df_open['Open Datetime'] = pd.to_datetime(df_open['open_unix_timestamp'],dayfirst=True,unit='s')\n",
        "df_open"
      ],
      "metadata": {
        "id": "7SPMr9-PR3-4"
      },
      "execution_count": null,
      "outputs": []
    },
    {
      "cell_type": "code",
      "source": [
        "df_close_btc = df_close[df_close['Close Action']=='Buy Bitcoin']\n",
        "df_open_btc = df_open[df_open['Open Action']=='Buy Bitcoin']"
      ],
      "metadata": {
        "id": "rQGT6wzzR4LX"
      },
      "execution_count": 5,
      "outputs": []
    },
    {
      "cell_type": "code",
      "source": [
        "#df_close_btc.reset_index(inplace=True)\n",
        "#df_close_btc.rename(columns={'index':'Close_index'},inplace=True)\n",
        "df_close_btc"
      ],
      "metadata": {
        "id": "p6hW7_8KR4Wt"
      },
      "execution_count": null,
      "outputs": []
    },
    {
      "cell_type": "code",
      "source": [
        "#df_open_btc.reset_index(inplace=True)\n",
        "#df_open_btc.rename(columns={'index':'Open_index'},inplace=True)\n",
        "df_open_btc"
      ],
      "metadata": {
        "id": "uQ8k6bBoR4iS"
      },
      "execution_count": null,
      "outputs": []
    },
    {
      "cell_type": "code",
      "source": [
        "# Let's build a index selector for df_close_btc\n",
        "close_unit_index = 0\n",
        "close_unit_index = close_unit_index + 0 if df_close_btc.loc[close_unit_index, 'Close Units'] > 0 else 1 \n",
        "# How to set up an upper limit on this variable??"
      ],
      "metadata": {
        "id": "Jtn6qkRFR4uO"
      },
      "execution_count": 10,
      "outputs": []
    },
    {
      "cell_type": "code",
      "source": [
        "# # Let's select the first element from units from df_close_btc\n",
        "elementNumber_close_units_btc = df_close_btc.loc[close_unit_index,'Close Units']\n",
        "elementNumber_close_units_btc"
      ],
      "metadata": {
        "colab": {
          "base_uri": "https://localhost:8080/"
        },
        "id": "ZCpe1VI7R44o",
        "outputId": "73382aea-3201-4b03-f559-14095a1ac17b"
      },
      "execution_count": 11,
      "outputs": [
        {
          "output_type": "execute_result",
          "data": {
            "text/plain": [
              "0.014149"
            ]
          },
          "metadata": {},
          "execution_count": 11
        }
      ]
    },
    {
      "cell_type": "code",
      "source": [
        "# Currently elementNumber_close_units_btc is the first # of units closed\n",
        "# Let's find the row in the form of DF "
      ],
      "metadata": {
        "id": "Bzv-D_lXR5Cd"
      },
      "execution_count": null,
      "outputs": []
    }
  ]
}