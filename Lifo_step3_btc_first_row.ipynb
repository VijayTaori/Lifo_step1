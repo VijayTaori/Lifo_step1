{
  "nbformat": 4,
  "nbformat_minor": 0,
  "metadata": {
    "colab": {
      "provenance": [],
      "authorship_tag": "ABX9TyPUqr3QRF6I7oIWaZwU/7jB",
      "include_colab_link": true
    },
    "kernelspec": {
      "name": "python3",
      "display_name": "Python 3"
    },
    "language_info": {
      "name": "python"
    }
  },
  "cells": [
    {
      "cell_type": "markdown",
      "metadata": {
        "id": "view-in-github",
        "colab_type": "text"
      },
      "source": [
        "<a href=\"https://colab.research.google.com/github/VijayTaori/Lifo_step1/blob/main/Lifo_step3_btc_first_row.ipynb\" target=\"_parent\"><img src=\"https://colab.research.google.com/assets/colab-badge.svg\" alt=\"Open In Colab\"/></a>"
      ]
    },
    {
      "cell_type": "code",
      "execution_count": 1,
      "metadata": {
        "id": "Vez4rlj-Reib"
      },
      "outputs": [],
      "source": [
        "import pandas as pd\n",
        "import numpy as np\n",
        "import datetime as dt"
      ]
    },
    {
      "cell_type": "code",
      "source": [
        "df_open = pd.read_csv('/content/crypto_et_open_final.csv')\n",
        "df_close = pd.read_csv('/content/crypto_et_close_final.csv')"
      ],
      "metadata": {
        "id": "1tWo8ovVR3U2"
      },
      "execution_count": 2,
      "outputs": []
    },
    {
      "cell_type": "code",
      "source": [
        "df_close['Close Datetime'] = pd.to_datetime(df_close['close_unix_timestamp'],dayfirst=True,unit='s')\n",
        "df_close"
      ],
      "metadata": {
        "id": "cTo9MRebR3wq"
      },
      "execution_count": null,
      "outputs": []
    },
    {
      "cell_type": "code",
      "source": [
        "df_open['Open Datetime'] = pd.to_datetime(df_open['open_unix_timestamp'],dayfirst=True,unit='s')\n",
        "df_open"
      ],
      "metadata": {
        "id": "7SPMr9-PR3-4"
      },
      "execution_count": null,
      "outputs": []
    },
    {
      "cell_type": "code",
      "source": [
        "df_close_btc = df_close[df_close['Close Action']=='Buy Bitcoin']\n",
        "df_open_btc = df_open[df_open['Open Action']=='Buy Bitcoin']"
      ],
      "metadata": {
        "id": "rQGT6wzzR4LX"
      },
      "execution_count": 5,
      "outputs": []
    },
    {
      "cell_type": "code",
      "source": [
        "#df_close_btc.reset_index(inplace=True)\n",
        "#df_close_btc.rename(columns={'index':'Close_index'},inplace=True)\n",
        "df_close_btc"
      ],
      "metadata": {
        "id": "p6hW7_8KR4Wt"
      },
      "execution_count": null,
      "outputs": []
    },
    {
      "cell_type": "code",
      "source": [
        "#df_open_btc.reset_index(inplace=True)\n",
        "df_open_btc.rename(columns={'index':'Open_index'},inplace=True)\n",
        "df_open_btc"
      ],
      "metadata": {
        "id": "uQ8k6bBoR4iS"
      },
      "execution_count": null,
      "outputs": []
    },
    {
      "cell_type": "code",
      "source": [
        "# Let's build a index selector for df_close_btc\n",
        "close_unit_index = 0\n",
        "value_of_units = df_close_btc.loc[close_unit_index, 'Close Units']\n",
        "close_unit_index = close_unit_index + 0 if value_of_units > 0 else 1\n",
        "value_of_units\n",
        "# How to set up an upper limit on this variable??"
      ],
      "metadata": {
        "id": "Jtn6qkRFR4uO",
        "colab": {
          "base_uri": "https://localhost:8080/"
        },
        "outputId": "1f092c85-79e3-4cc1-fc21-9785e54e81c3"
      },
      "execution_count": 11,
      "outputs": [
        {
          "output_type": "execute_result",
          "data": {
            "text/plain": [
              "0.014149"
            ]
          },
          "metadata": {},
          "execution_count": 11
        }
      ]
    },
    {
      "cell_type": "code",
      "source": [
        "# Let's select the corresponding first element from units from df_close_btc\n",
        "elementNumber_close_units_btc = df_close_btc.loc[close_unit_index,'Close Units']\n",
        "elementNumber_close_units_btc"
      ],
      "metadata": {
        "colab": {
          "base_uri": "https://localhost:8080/"
        },
        "id": "ZCpe1VI7R44o",
        "outputId": "73382aea-3201-4b03-f559-14095a1ac17b"
      },
      "execution_count": null,
      "outputs": [
        {
          "output_type": "execute_result",
          "data": {
            "text/plain": [
              "0.014149"
            ]
          },
          "metadata": {},
          "execution_count": 11
        }
      ]
    },
    {
      "cell_type": "code",
      "source": [
        "# Choosing the one row from df_close where the units are = values_of_units\n",
        "# Assign it as new DF\n",
        "# change the reset the index and the drop the 'index' column\n",
        "df_latest_row_from_close = df_close_btc[close_unit_index:(close_unit_index+1)]\n",
        "df_latest_row_from_close.reset_index(inplace=True)\n",
        "df_latest_row_from_close.drop('index',axis=1,inplace=True)\n",
        "df_latest_row_from_close"
      ],
      "metadata": {
        "id": "Bzv-D_lXR5Cd",
        "colab": {
          "base_uri": "https://localhost:8080/",
          "height": 211
        },
        "outputId": "a778e423-884c-42d4-fbec-152ccb576174"
      },
      "execution_count": 13,
      "outputs": [
        {
          "output_type": "stream",
          "name": "stderr",
          "text": [
            "/usr/local/lib/python3.8/dist-packages/pandas/core/frame.py:4906: SettingWithCopyWarning: \n",
            "A value is trying to be set on a copy of a slice from a DataFrame\n",
            "\n",
            "See the caveats in the documentation: https://pandas.pydata.org/pandas-docs/stable/user_guide/indexing.html#returning-a-view-versus-a-copy\n",
            "  return super().drop(\n"
          ]
        },
        {
          "output_type": "execute_result",
          "data": {
            "text/plain": [
              "   Close_index  Close Position ID      Close Datetime Close Date_x  \\\n",
              "0            0          599996081 2020-05-01 11:44:24   01/05/2020   \n",
              "\n",
              "  Close Action  Close Units  Close Amount_Eur  Close Rate_Eur  \\\n",
              "0  Buy Bitcoin     0.014149        115.062682     8194.258482   \n",
              "\n",
              "   close_unix_timestamp  \n",
              "0            1588333464  "
            ],
            "text/html": [
              "\n",
              "  <div id=\"df-3ac87dcd-4297-460b-b92f-aa0861a48c9d\">\n",
              "    <div class=\"colab-df-container\">\n",
              "      <div>\n",
              "<style scoped>\n",
              "    .dataframe tbody tr th:only-of-type {\n",
              "        vertical-align: middle;\n",
              "    }\n",
              "\n",
              "    .dataframe tbody tr th {\n",
              "        vertical-align: top;\n",
              "    }\n",
              "\n",
              "    .dataframe thead th {\n",
              "        text-align: right;\n",
              "    }\n",
              "</style>\n",
              "<table border=\"1\" class=\"dataframe\">\n",
              "  <thead>\n",
              "    <tr style=\"text-align: right;\">\n",
              "      <th></th>\n",
              "      <th>Close_index</th>\n",
              "      <th>Close Position ID</th>\n",
              "      <th>Close Datetime</th>\n",
              "      <th>Close Date_x</th>\n",
              "      <th>Close Action</th>\n",
              "      <th>Close Units</th>\n",
              "      <th>Close Amount_Eur</th>\n",
              "      <th>Close Rate_Eur</th>\n",
              "      <th>close_unix_timestamp</th>\n",
              "    </tr>\n",
              "  </thead>\n",
              "  <tbody>\n",
              "    <tr>\n",
              "      <th>0</th>\n",
              "      <td>0</td>\n",
              "      <td>599996081</td>\n",
              "      <td>2020-05-01 11:44:24</td>\n",
              "      <td>01/05/2020</td>\n",
              "      <td>Buy Bitcoin</td>\n",
              "      <td>0.014149</td>\n",
              "      <td>115.062682</td>\n",
              "      <td>8194.258482</td>\n",
              "      <td>1588333464</td>\n",
              "    </tr>\n",
              "  </tbody>\n",
              "</table>\n",
              "</div>\n",
              "      <button class=\"colab-df-convert\" onclick=\"convertToInteractive('df-3ac87dcd-4297-460b-b92f-aa0861a48c9d')\"\n",
              "              title=\"Convert this dataframe to an interactive table.\"\n",
              "              style=\"display:none;\">\n",
              "        \n",
              "  <svg xmlns=\"http://www.w3.org/2000/svg\" height=\"24px\"viewBox=\"0 0 24 24\"\n",
              "       width=\"24px\">\n",
              "    <path d=\"M0 0h24v24H0V0z\" fill=\"none\"/>\n",
              "    <path d=\"M18.56 5.44l.94 2.06.94-2.06 2.06-.94-2.06-.94-.94-2.06-.94 2.06-2.06.94zm-11 1L8.5 8.5l.94-2.06 2.06-.94-2.06-.94L8.5 2.5l-.94 2.06-2.06.94zm10 10l.94 2.06.94-2.06 2.06-.94-2.06-.94-.94-2.06-.94 2.06-2.06.94z\"/><path d=\"M17.41 7.96l-1.37-1.37c-.4-.4-.92-.59-1.43-.59-.52 0-1.04.2-1.43.59L10.3 9.45l-7.72 7.72c-.78.78-.78 2.05 0 2.83L4 21.41c.39.39.9.59 1.41.59.51 0 1.02-.2 1.41-.59l7.78-7.78 2.81-2.81c.8-.78.8-2.07 0-2.86zM5.41 20L4 18.59l7.72-7.72 1.47 1.35L5.41 20z\"/>\n",
              "  </svg>\n",
              "      </button>\n",
              "      \n",
              "  <style>\n",
              "    .colab-df-container {\n",
              "      display:flex;\n",
              "      flex-wrap:wrap;\n",
              "      gap: 12px;\n",
              "    }\n",
              "\n",
              "    .colab-df-convert {\n",
              "      background-color: #E8F0FE;\n",
              "      border: none;\n",
              "      border-radius: 50%;\n",
              "      cursor: pointer;\n",
              "      display: none;\n",
              "      fill: #1967D2;\n",
              "      height: 32px;\n",
              "      padding: 0 0 0 0;\n",
              "      width: 32px;\n",
              "    }\n",
              "\n",
              "    .colab-df-convert:hover {\n",
              "      background-color: #E2EBFA;\n",
              "      box-shadow: 0px 1px 2px rgba(60, 64, 67, 0.3), 0px 1px 3px 1px rgba(60, 64, 67, 0.15);\n",
              "      fill: #174EA6;\n",
              "    }\n",
              "\n",
              "    [theme=dark] .colab-df-convert {\n",
              "      background-color: #3B4455;\n",
              "      fill: #D2E3FC;\n",
              "    }\n",
              "\n",
              "    [theme=dark] .colab-df-convert:hover {\n",
              "      background-color: #434B5C;\n",
              "      box-shadow: 0px 1px 3px 1px rgba(0, 0, 0, 0.15);\n",
              "      filter: drop-shadow(0px 1px 2px rgba(0, 0, 0, 0.3));\n",
              "      fill: #FFFFFF;\n",
              "    }\n",
              "  </style>\n",
              "\n",
              "      <script>\n",
              "        const buttonEl =\n",
              "          document.querySelector('#df-3ac87dcd-4297-460b-b92f-aa0861a48c9d button.colab-df-convert');\n",
              "        buttonEl.style.display =\n",
              "          google.colab.kernel.accessAllowed ? 'block' : 'none';\n",
              "\n",
              "        async function convertToInteractive(key) {\n",
              "          const element = document.querySelector('#df-3ac87dcd-4297-460b-b92f-aa0861a48c9d');\n",
              "          const dataTable =\n",
              "            await google.colab.kernel.invokeFunction('convertToInteractive',\n",
              "                                                     [key], {});\n",
              "          if (!dataTable) return;\n",
              "\n",
              "          const docLinkHtml = 'Like what you see? Visit the ' +\n",
              "            '<a target=\"_blank\" href=https://colab.research.google.com/notebooks/data_table.ipynb>data table notebook</a>'\n",
              "            + ' to learn more about interactive tables.';\n",
              "          element.innerHTML = '';\n",
              "          dataTable['output_type'] = 'display_data';\n",
              "          await google.colab.output.renderOutput(dataTable, element);\n",
              "          const docLink = document.createElement('div');\n",
              "          docLink.innerHTML = docLinkHtml;\n",
              "          element.appendChild(docLink);\n",
              "        }\n",
              "      </script>\n",
              "    </div>\n",
              "  </div>\n",
              "  "
            ]
          },
          "metadata": {},
          "execution_count": 13
        }
      ]
    },
    {
      "cell_type": "code",
      "source": [
        "# Get the datetime value from the df_latest_row_from_close\n",
        "close_unit_datetime = df_close_btc.loc[close_unit_index,'Close Datetime']\n",
        "close_unit_datetime"
      ],
      "metadata": {
        "colab": {
          "base_uri": "https://localhost:8080/"
        },
        "id": "nBUqM-0dN64L",
        "outputId": "07b7a8bd-afc5-47af-be8c-fdb4a3a3a643"
      },
      "execution_count": 14,
      "outputs": [
        {
          "output_type": "execute_result",
          "data": {
            "text/plain": [
              "Timestamp('2020-05-01 11:44:24')"
            ]
          },
          "metadata": {},
          "execution_count": 14
        }
      ]
    },
    {
      "cell_type": "code",
      "source": [
        "# find all the transaction datetimes from df_close that were opened before the close_unit_datetime\n",
        "open_datetimes_b4 = df_open_btc['Open Datetime'][df_open_btc['Open Datetime'] < close_unit_datetime]\n",
        "open_datetimes_b4\n",
        " "
      ],
      "metadata": {
        "id": "yewZCLYUOqNX"
      },
      "execution_count": null,
      "outputs": []
    },
    {
      "cell_type": "code",
      "source": [
        "open_datetime_lifo = open_datetimes_b4.max()\n",
        "open_datetime_lifo"
      ],
      "metadata": {
        "colab": {
          "base_uri": "https://localhost:8080/"
        },
        "id": "sgTyrAF8U_xC",
        "outputId": "cc14f315-2ce0-4d5d-8700-659ed7d0db9f"
      },
      "execution_count": 16,
      "outputs": [
        {
          "output_type": "execute_result",
          "data": {
            "text/plain": [
              "Timestamp('2020-04-30 19:14:44')"
            ]
          },
          "metadata": {},
          "execution_count": 16
        }
      ]
    },
    {
      "cell_type": "code",
      "source": [
        "# Corresponding row for the open_datetime_lifo \n",
        "# let's make a new DF\n",
        "df_latest_last_row_lifo = df_open_btc[df_open_btc['Open Datetime'] == open_datetime_lifo]\n",
        "df_latest_last_row_lifo.reset_index(inplace=True)\n",
        "df_latest_last_row_lifo.drop('index', axis=1,inplace=True)\n",
        "df_latest_last_row_lifo"
      ],
      "metadata": {
        "colab": {
          "base_uri": "https://localhost:8080/",
          "height": 167
        },
        "id": "bKbKEQxcVR-9",
        "outputId": "3d221b9d-8a44-452e-a80f-17aed46e59d8"
      },
      "execution_count": 17,
      "outputs": [
        {
          "output_type": "stream",
          "name": "stderr",
          "text": [
            "/usr/local/lib/python3.8/dist-packages/pandas/core/frame.py:4906: SettingWithCopyWarning: \n",
            "A value is trying to be set on a copy of a slice from a DataFrame\n",
            "\n",
            "See the caveats in the documentation: https://pandas.pydata.org/pandas-docs/stable/user_guide/indexing.html#returning-a-view-versus-a-copy\n",
            "  return super().drop(\n"
          ]
        },
        {
          "output_type": "execute_result",
          "data": {
            "text/plain": [
              "   Open_index  Open_Position ID       Open Datetime Open Date_x  Open Action  \\\n",
              "0          54         611192720 2020-04-30 19:14:44  30/04/2020  Buy Bitcoin   \n",
              "\n",
              "   Open Units  Open Amount_Eur  Open Rate_Eur  open_unix_timestamp  \n",
              "0    0.002861        23.071989    8062.921929           1588274084  "
            ],
            "text/html": [
              "\n",
              "  <div id=\"df-a8625d5a-0b1f-4200-9a50-0bedf3812538\">\n",
              "    <div class=\"colab-df-container\">\n",
              "      <div>\n",
              "<style scoped>\n",
              "    .dataframe tbody tr th:only-of-type {\n",
              "        vertical-align: middle;\n",
              "    }\n",
              "\n",
              "    .dataframe tbody tr th {\n",
              "        vertical-align: top;\n",
              "    }\n",
              "\n",
              "    .dataframe thead th {\n",
              "        text-align: right;\n",
              "    }\n",
              "</style>\n",
              "<table border=\"1\" class=\"dataframe\">\n",
              "  <thead>\n",
              "    <tr style=\"text-align: right;\">\n",
              "      <th></th>\n",
              "      <th>Open_index</th>\n",
              "      <th>Open_Position ID</th>\n",
              "      <th>Open Datetime</th>\n",
              "      <th>Open Date_x</th>\n",
              "      <th>Open Action</th>\n",
              "      <th>Open Units</th>\n",
              "      <th>Open Amount_Eur</th>\n",
              "      <th>Open Rate_Eur</th>\n",
              "      <th>open_unix_timestamp</th>\n",
              "    </tr>\n",
              "  </thead>\n",
              "  <tbody>\n",
              "    <tr>\n",
              "      <th>0</th>\n",
              "      <td>54</td>\n",
              "      <td>611192720</td>\n",
              "      <td>2020-04-30 19:14:44</td>\n",
              "      <td>30/04/2020</td>\n",
              "      <td>Buy Bitcoin</td>\n",
              "      <td>0.002861</td>\n",
              "      <td>23.071989</td>\n",
              "      <td>8062.921929</td>\n",
              "      <td>1588274084</td>\n",
              "    </tr>\n",
              "  </tbody>\n",
              "</table>\n",
              "</div>\n",
              "      <button class=\"colab-df-convert\" onclick=\"convertToInteractive('df-a8625d5a-0b1f-4200-9a50-0bedf3812538')\"\n",
              "              title=\"Convert this dataframe to an interactive table.\"\n",
              "              style=\"display:none;\">\n",
              "        \n",
              "  <svg xmlns=\"http://www.w3.org/2000/svg\" height=\"24px\"viewBox=\"0 0 24 24\"\n",
              "       width=\"24px\">\n",
              "    <path d=\"M0 0h24v24H0V0z\" fill=\"none\"/>\n",
              "    <path d=\"M18.56 5.44l.94 2.06.94-2.06 2.06-.94-2.06-.94-.94-2.06-.94 2.06-2.06.94zm-11 1L8.5 8.5l.94-2.06 2.06-.94-2.06-.94L8.5 2.5l-.94 2.06-2.06.94zm10 10l.94 2.06.94-2.06 2.06-.94-2.06-.94-.94-2.06-.94 2.06-2.06.94z\"/><path d=\"M17.41 7.96l-1.37-1.37c-.4-.4-.92-.59-1.43-.59-.52 0-1.04.2-1.43.59L10.3 9.45l-7.72 7.72c-.78.78-.78 2.05 0 2.83L4 21.41c.39.39.9.59 1.41.59.51 0 1.02-.2 1.41-.59l7.78-7.78 2.81-2.81c.8-.78.8-2.07 0-2.86zM5.41 20L4 18.59l7.72-7.72 1.47 1.35L5.41 20z\"/>\n",
              "  </svg>\n",
              "      </button>\n",
              "      \n",
              "  <style>\n",
              "    .colab-df-container {\n",
              "      display:flex;\n",
              "      flex-wrap:wrap;\n",
              "      gap: 12px;\n",
              "    }\n",
              "\n",
              "    .colab-df-convert {\n",
              "      background-color: #E8F0FE;\n",
              "      border: none;\n",
              "      border-radius: 50%;\n",
              "      cursor: pointer;\n",
              "      display: none;\n",
              "      fill: #1967D2;\n",
              "      height: 32px;\n",
              "      padding: 0 0 0 0;\n",
              "      width: 32px;\n",
              "    }\n",
              "\n",
              "    .colab-df-convert:hover {\n",
              "      background-color: #E2EBFA;\n",
              "      box-shadow: 0px 1px 2px rgba(60, 64, 67, 0.3), 0px 1px 3px 1px rgba(60, 64, 67, 0.15);\n",
              "      fill: #174EA6;\n",
              "    }\n",
              "\n",
              "    [theme=dark] .colab-df-convert {\n",
              "      background-color: #3B4455;\n",
              "      fill: #D2E3FC;\n",
              "    }\n",
              "\n",
              "    [theme=dark] .colab-df-convert:hover {\n",
              "      background-color: #434B5C;\n",
              "      box-shadow: 0px 1px 3px 1px rgba(0, 0, 0, 0.15);\n",
              "      filter: drop-shadow(0px 1px 2px rgba(0, 0, 0, 0.3));\n",
              "      fill: #FFFFFF;\n",
              "    }\n",
              "  </style>\n",
              "\n",
              "      <script>\n",
              "        const buttonEl =\n",
              "          document.querySelector('#df-a8625d5a-0b1f-4200-9a50-0bedf3812538 button.colab-df-convert');\n",
              "        buttonEl.style.display =\n",
              "          google.colab.kernel.accessAllowed ? 'block' : 'none';\n",
              "\n",
              "        async function convertToInteractive(key) {\n",
              "          const element = document.querySelector('#df-a8625d5a-0b1f-4200-9a50-0bedf3812538');\n",
              "          const dataTable =\n",
              "            await google.colab.kernel.invokeFunction('convertToInteractive',\n",
              "                                                     [key], {});\n",
              "          if (!dataTable) return;\n",
              "\n",
              "          const docLinkHtml = 'Like what you see? Visit the ' +\n",
              "            '<a target=\"_blank\" href=https://colab.research.google.com/notebooks/data_table.ipynb>data table notebook</a>'\n",
              "            + ' to learn more about interactive tables.';\n",
              "          element.innerHTML = '';\n",
              "          dataTable['output_type'] = 'display_data';\n",
              "          await google.colab.output.renderOutput(dataTable, element);\n",
              "          const docLink = document.createElement('div');\n",
              "          docLink.innerHTML = docLinkHtml;\n",
              "          element.appendChild(docLink);\n",
              "        }\n",
              "      </script>\n",
              "    </div>\n",
              "  </div>\n",
              "  "
            ]
          },
          "metadata": {},
          "execution_count": 17
        }
      ]
    },
    {
      "cell_type": "code",
      "source": [
        "if value_of_units > value_of_units_open:\n",
        "  "
      ],
      "metadata": {
        "id": "rhinhIAvaFiA"
      },
      "execution_count": null,
      "outputs": []
    },
    {
      "cell_type": "code",
      "source": [
        "value_of_units_open = df_latest_last_row_lifo.loc[0,'Open Units']\n",
        "value_of_units_open"
      ],
      "metadata": {
        "colab": {
          "base_uri": "https://localhost:8080/"
        },
        "id": "0u0tacnVc8Zu",
        "outputId": "52f2ff82-0faa-4efc-a1b8-ad4520e33249"
      },
      "execution_count": 19,
      "outputs": [
        {
          "output_type": "execute_result",
          "data": {
            "text/plain": [
              "0.002861"
            ]
          },
          "metadata": {},
          "execution_count": 19
        }
      ]
    }
  ]
}