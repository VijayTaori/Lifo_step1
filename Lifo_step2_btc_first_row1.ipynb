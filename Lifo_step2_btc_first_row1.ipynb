{
  "nbformat": 4,
  "nbformat_minor": 0,
  "metadata": {
    "colab": {
      "provenance": [],
      "authorship_tag": "ABX9TyOBmLG8lJB75hhuMBA4VHNB",
      "include_colab_link": true
    },
    "kernelspec": {
      "name": "python3",
      "display_name": "Python 3"
    },
    "language_info": {
      "name": "python"
    }
  },
  "cells": [
    {
      "cell_type": "markdown",
      "metadata": {
        "id": "view-in-github",
        "colab_type": "text"
      },
      "source": [
        "<a href=\"https://colab.research.google.com/github/VijayTaori/Lifo_step1/blob/main/Lifo_step2_btc_first_row1.ipynb\" target=\"_parent\"><img src=\"https://colab.research.google.com/assets/colab-badge.svg\" alt=\"Open In Colab\"/></a>"
      ]
    },
    {
      "cell_type": "code",
      "execution_count": 27,
      "metadata": {
        "id": "MAXHgpdpgWPi"
      },
      "outputs": [],
      "source": [
        "import pandas as pd\n",
        "import numpy as np\n",
        "import datetime as dt"
      ]
    },
    {
      "cell_type": "code",
      "source": [
        "df_open = pd.read_csv('/content/crypto_et_open_ut.csv')\n",
        "df_close = pd.read_csv('/content/crypto_et_close_ut.csv')"
      ],
      "metadata": {
        "id": "-l9Si_zLghO-"
      },
      "execution_count": 28,
      "outputs": []
    },
    {
      "cell_type": "code",
      "source": [
        "print(df_open.columns)\n",
        "print(df_close.columns)"
      ],
      "metadata": {
        "colab": {
          "base_uri": "https://localhost:8080/"
        },
        "id": "9FSuHwAWhZqY",
        "outputId": "f92a9865-448a-4eb8-887e-08626715d86f"
      },
      "execution_count": 29,
      "outputs": [
        {
          "output_type": "stream",
          "name": "stdout",
          "text": [
            "Index(['Open_Position ID', 'Open Datetime', 'Open Date_x', 'Open Action',\n",
            "       'Open Units', 'Open Amount_Eur', 'Open Rate_Eur',\n",
            "       'open_unix_timestamp'],\n",
            "      dtype='object')\n",
            "Index(['Close Position ID', 'Close Datetime', 'Close Date_x', 'Close Action',\n",
            "       'Close Units', 'Close Amount_Eur', 'Close Rate_Eur',\n",
            "       'close_unix_timestamp'],\n",
            "      dtype='object')\n"
          ]
        }
      ]
    },
    {
      "cell_type": "code",
      "source": [
        "df_open['Open Datetime'] = pd.to_datetime(df_open['Open Datetime'],dayfirst=True)\n",
        "df_open['Open Date_x'] = pd.to_datetime(df_open['Open Date_x'],dayfirst=True)\n",
        "df_close['Close Datetime'] = pd.to_datetime(df_close['Close Datetime'],dayfirst=True)\n",
        "df_close['Close Date_x'] = pd.to_datetime(df_close['Close Date_x'],dayfirst=True)"
      ],
      "metadata": {
        "id": "XYn9TjhUgh2z"
      },
      "execution_count": 30,
      "outputs": []
    },
    {
      "cell_type": "code",
      "source": [
        "df_open.dtypes"
      ],
      "metadata": {
        "id": "_ttLCckIkaY9",
        "outputId": "b89d6ad6-c5d2-43dd-e79a-77c0a351c9cd",
        "colab": {
          "base_uri": "https://localhost:8080/"
        }
      },
      "execution_count": 31,
      "outputs": [
        {
          "output_type": "execute_result",
          "data": {
            "text/plain": [
              "Open_Position ID                int64\n",
              "Open Datetime          datetime64[ns]\n",
              "Open Date_x            datetime64[ns]\n",
              "Open Action                    object\n",
              "Open Units                    float64\n",
              "Open Amount_Eur               float64\n",
              "Open Rate_Eur                 float64\n",
              "open_unix_timestamp             int64\n",
              "dtype: object"
            ]
          },
          "metadata": {},
          "execution_count": 31
        }
      ]
    },
    {
      "cell_type": "code",
      "source": [
        "#df_open['open_unix_timestamp'] = pd.to_numeric(df_open['open_unix_timestamp'])"
      ],
      "metadata": {
        "id": "p0IthL7vjtV3"
      },
      "execution_count": 10,
      "outputs": []
    },
    {
      "cell_type": "code",
      "source": [
        "df_open['Open Datetime'] = pd.to_datetime(df_open['open_unix_timestamp'],dayfirst=True,unit='s')"
      ],
      "metadata": {
        "id": "xkstC2jEgiAF"
      },
      "execution_count": 32,
      "outputs": []
    },
    {
      "cell_type": "code",
      "source": [
        "df_open.dtypes"
      ],
      "metadata": {
        "id": "5akg2VhHkOsY",
        "outputId": "e030f500-ff1d-48c5-af9d-40b1315c635c",
        "colab": {
          "base_uri": "https://localhost:8080/"
        }
      },
      "execution_count": 33,
      "outputs": [
        {
          "output_type": "execute_result",
          "data": {
            "text/plain": [
              "Open_Position ID                int64\n",
              "Open Datetime          datetime64[ns]\n",
              "Open Date_x            datetime64[ns]\n",
              "Open Action                    object\n",
              "Open Units                    float64\n",
              "Open Amount_Eur               float64\n",
              "Open Rate_Eur                 float64\n",
              "open_unix_timestamp             int64\n",
              "dtype: object"
            ]
          },
          "metadata": {},
          "execution_count": 33
        }
      ]
    },
    {
      "cell_type": "code",
      "source": [
        "df_open"
      ],
      "metadata": {
        "colab": {
          "base_uri": "https://localhost:8080/",
          "height": 423
        },
        "id": "q-YuQIe2giHT",
        "outputId": "3778fd91-1f80-4739-bbe4-349e821404bd"
      },
      "execution_count": 34,
      "outputs": [
        {
          "output_type": "execute_result",
          "data": {
            "text/plain": [
              "     Open_Position ID       Open Datetime Open Date_x  \\\n",
              "0           599295474 2020-04-17 13:09:20  2020-04-17   \n",
              "1           599875563 2020-04-17 16:40:29  2020-04-17   \n",
              "2           599996081 2020-04-17 18:42:42  2020-04-17   \n",
              "3           600052383 2020-04-18 13:49:32  2020-04-18   \n",
              "4           600057583 2020-04-18 16:48:30  2020-04-18   \n",
              "..                ...                 ...         ...   \n",
              "805        1395459836 2021-11-17 10:55:20  2021-11-17   \n",
              "806        1395474358 2021-11-17 11:33:12  2021-11-17   \n",
              "807        1419921913 2021-12-04 05:26:01  2021-12-04   \n",
              "808        1425416509 2021-12-09 09:14:46  2021-12-09   \n",
              "809        2325392242 2022-11-16 16:35:46  2022-11-16   \n",
              "\n",
              "                 Open Action  Open Units  Open Amount_Eur  Open Rate_Eur  \\\n",
              "0                Buy Bitcoin    0.014029        92.484010    6592.389676   \n",
              "1               Buy Ethereum    0.580499        92.484010     159.322203   \n",
              "2                Buy Bitcoin    0.014149        92.484010    6536.362863   \n",
              "3                Buy Bitcoin    0.103664       693.630071    6691.116356   \n",
              "4                Buy Bitcoin    0.020751       138.726014    6685.280615   \n",
              "..                       ...         ...              ...            ...   \n",
              "805             Buy Ethereum    0.252729       956.671958    3785.367680   \n",
              "806             Buy Ethereum    0.120850       457.343177    3784.382811   \n",
              "807  Buy Shiba (in millions)    0.794084        23.474908      29.563296   \n",
              "808              Buy Cardano   83.616294       102.425388       1.223466   \n",
              "809             Buy Songbird   11.510000         0.145118       0.009675   \n",
              "\n",
              "     open_unix_timestamp  \n",
              "0             1587128960  \n",
              "1             1587141629  \n",
              "2             1587148962  \n",
              "3             1587217772  \n",
              "4             1587228510  \n",
              "..                   ...  \n",
              "805           1637146520  \n",
              "806           1637148792  \n",
              "807           1638595561  \n",
              "808           1639041286  \n",
              "809           1668616546  \n",
              "\n",
              "[810 rows x 8 columns]"
            ],
            "text/html": [
              "\n",
              "  <div id=\"df-357c7546-8dca-45e5-ad19-9906e9dcbfda\">\n",
              "    <div class=\"colab-df-container\">\n",
              "      <div>\n",
              "<style scoped>\n",
              "    .dataframe tbody tr th:only-of-type {\n",
              "        vertical-align: middle;\n",
              "    }\n",
              "\n",
              "    .dataframe tbody tr th {\n",
              "        vertical-align: top;\n",
              "    }\n",
              "\n",
              "    .dataframe thead th {\n",
              "        text-align: right;\n",
              "    }\n",
              "</style>\n",
              "<table border=\"1\" class=\"dataframe\">\n",
              "  <thead>\n",
              "    <tr style=\"text-align: right;\">\n",
              "      <th></th>\n",
              "      <th>Open_Position ID</th>\n",
              "      <th>Open Datetime</th>\n",
              "      <th>Open Date_x</th>\n",
              "      <th>Open Action</th>\n",
              "      <th>Open Units</th>\n",
              "      <th>Open Amount_Eur</th>\n",
              "      <th>Open Rate_Eur</th>\n",
              "      <th>open_unix_timestamp</th>\n",
              "    </tr>\n",
              "  </thead>\n",
              "  <tbody>\n",
              "    <tr>\n",
              "      <th>0</th>\n",
              "      <td>599295474</td>\n",
              "      <td>2020-04-17 13:09:20</td>\n",
              "      <td>2020-04-17</td>\n",
              "      <td>Buy Bitcoin</td>\n",
              "      <td>0.014029</td>\n",
              "      <td>92.484010</td>\n",
              "      <td>6592.389676</td>\n",
              "      <td>1587128960</td>\n",
              "    </tr>\n",
              "    <tr>\n",
              "      <th>1</th>\n",
              "      <td>599875563</td>\n",
              "      <td>2020-04-17 16:40:29</td>\n",
              "      <td>2020-04-17</td>\n",
              "      <td>Buy Ethereum</td>\n",
              "      <td>0.580499</td>\n",
              "      <td>92.484010</td>\n",
              "      <td>159.322203</td>\n",
              "      <td>1587141629</td>\n",
              "    </tr>\n",
              "    <tr>\n",
              "      <th>2</th>\n",
              "      <td>599996081</td>\n",
              "      <td>2020-04-17 18:42:42</td>\n",
              "      <td>2020-04-17</td>\n",
              "      <td>Buy Bitcoin</td>\n",
              "      <td>0.014149</td>\n",
              "      <td>92.484010</td>\n",
              "      <td>6536.362863</td>\n",
              "      <td>1587148962</td>\n",
              "    </tr>\n",
              "    <tr>\n",
              "      <th>3</th>\n",
              "      <td>600052383</td>\n",
              "      <td>2020-04-18 13:49:32</td>\n",
              "      <td>2020-04-18</td>\n",
              "      <td>Buy Bitcoin</td>\n",
              "      <td>0.103664</td>\n",
              "      <td>693.630071</td>\n",
              "      <td>6691.116356</td>\n",
              "      <td>1587217772</td>\n",
              "    </tr>\n",
              "    <tr>\n",
              "      <th>4</th>\n",
              "      <td>600057583</td>\n",
              "      <td>2020-04-18 16:48:30</td>\n",
              "      <td>2020-04-18</td>\n",
              "      <td>Buy Bitcoin</td>\n",
              "      <td>0.020751</td>\n",
              "      <td>138.726014</td>\n",
              "      <td>6685.280615</td>\n",
              "      <td>1587228510</td>\n",
              "    </tr>\n",
              "    <tr>\n",
              "      <th>...</th>\n",
              "      <td>...</td>\n",
              "      <td>...</td>\n",
              "      <td>...</td>\n",
              "      <td>...</td>\n",
              "      <td>...</td>\n",
              "      <td>...</td>\n",
              "      <td>...</td>\n",
              "      <td>...</td>\n",
              "    </tr>\n",
              "    <tr>\n",
              "      <th>805</th>\n",
              "      <td>1395459836</td>\n",
              "      <td>2021-11-17 10:55:20</td>\n",
              "      <td>2021-11-17</td>\n",
              "      <td>Buy Ethereum</td>\n",
              "      <td>0.252729</td>\n",
              "      <td>956.671958</td>\n",
              "      <td>3785.367680</td>\n",
              "      <td>1637146520</td>\n",
              "    </tr>\n",
              "    <tr>\n",
              "      <th>806</th>\n",
              "      <td>1395474358</td>\n",
              "      <td>2021-11-17 11:33:12</td>\n",
              "      <td>2021-11-17</td>\n",
              "      <td>Buy Ethereum</td>\n",
              "      <td>0.120850</td>\n",
              "      <td>457.343177</td>\n",
              "      <td>3784.382811</td>\n",
              "      <td>1637148792</td>\n",
              "    </tr>\n",
              "    <tr>\n",
              "      <th>807</th>\n",
              "      <td>1419921913</td>\n",
              "      <td>2021-12-04 05:26:01</td>\n",
              "      <td>2021-12-04</td>\n",
              "      <td>Buy Shiba (in millions)</td>\n",
              "      <td>0.794084</td>\n",
              "      <td>23.474908</td>\n",
              "      <td>29.563296</td>\n",
              "      <td>1638595561</td>\n",
              "    </tr>\n",
              "    <tr>\n",
              "      <th>808</th>\n",
              "      <td>1425416509</td>\n",
              "      <td>2021-12-09 09:14:46</td>\n",
              "      <td>2021-12-09</td>\n",
              "      <td>Buy Cardano</td>\n",
              "      <td>83.616294</td>\n",
              "      <td>102.425388</td>\n",
              "      <td>1.223466</td>\n",
              "      <td>1639041286</td>\n",
              "    </tr>\n",
              "    <tr>\n",
              "      <th>809</th>\n",
              "      <td>2325392242</td>\n",
              "      <td>2022-11-16 16:35:46</td>\n",
              "      <td>2022-11-16</td>\n",
              "      <td>Buy Songbird</td>\n",
              "      <td>11.510000</td>\n",
              "      <td>0.145118</td>\n",
              "      <td>0.009675</td>\n",
              "      <td>1668616546</td>\n",
              "    </tr>\n",
              "  </tbody>\n",
              "</table>\n",
              "<p>810 rows × 8 columns</p>\n",
              "</div>\n",
              "      <button class=\"colab-df-convert\" onclick=\"convertToInteractive('df-357c7546-8dca-45e5-ad19-9906e9dcbfda')\"\n",
              "              title=\"Convert this dataframe to an interactive table.\"\n",
              "              style=\"display:none;\">\n",
              "        \n",
              "  <svg xmlns=\"http://www.w3.org/2000/svg\" height=\"24px\"viewBox=\"0 0 24 24\"\n",
              "       width=\"24px\">\n",
              "    <path d=\"M0 0h24v24H0V0z\" fill=\"none\"/>\n",
              "    <path d=\"M18.56 5.44l.94 2.06.94-2.06 2.06-.94-2.06-.94-.94-2.06-.94 2.06-2.06.94zm-11 1L8.5 8.5l.94-2.06 2.06-.94-2.06-.94L8.5 2.5l-.94 2.06-2.06.94zm10 10l.94 2.06.94-2.06 2.06-.94-2.06-.94-.94-2.06-.94 2.06-2.06.94z\"/><path d=\"M17.41 7.96l-1.37-1.37c-.4-.4-.92-.59-1.43-.59-.52 0-1.04.2-1.43.59L10.3 9.45l-7.72 7.72c-.78.78-.78 2.05 0 2.83L4 21.41c.39.39.9.59 1.41.59.51 0 1.02-.2 1.41-.59l7.78-7.78 2.81-2.81c.8-.78.8-2.07 0-2.86zM5.41 20L4 18.59l7.72-7.72 1.47 1.35L5.41 20z\"/>\n",
              "  </svg>\n",
              "      </button>\n",
              "      \n",
              "  <style>\n",
              "    .colab-df-container {\n",
              "      display:flex;\n",
              "      flex-wrap:wrap;\n",
              "      gap: 12px;\n",
              "    }\n",
              "\n",
              "    .colab-df-convert {\n",
              "      background-color: #E8F0FE;\n",
              "      border: none;\n",
              "      border-radius: 50%;\n",
              "      cursor: pointer;\n",
              "      display: none;\n",
              "      fill: #1967D2;\n",
              "      height: 32px;\n",
              "      padding: 0 0 0 0;\n",
              "      width: 32px;\n",
              "    }\n",
              "\n",
              "    .colab-df-convert:hover {\n",
              "      background-color: #E2EBFA;\n",
              "      box-shadow: 0px 1px 2px rgba(60, 64, 67, 0.3), 0px 1px 3px 1px rgba(60, 64, 67, 0.15);\n",
              "      fill: #174EA6;\n",
              "    }\n",
              "\n",
              "    [theme=dark] .colab-df-convert {\n",
              "      background-color: #3B4455;\n",
              "      fill: #D2E3FC;\n",
              "    }\n",
              "\n",
              "    [theme=dark] .colab-df-convert:hover {\n",
              "      background-color: #434B5C;\n",
              "      box-shadow: 0px 1px 3px 1px rgba(0, 0, 0, 0.15);\n",
              "      filter: drop-shadow(0px 1px 2px rgba(0, 0, 0, 0.3));\n",
              "      fill: #FFFFFF;\n",
              "    }\n",
              "  </style>\n",
              "\n",
              "      <script>\n",
              "        const buttonEl =\n",
              "          document.querySelector('#df-357c7546-8dca-45e5-ad19-9906e9dcbfda button.colab-df-convert');\n",
              "        buttonEl.style.display =\n",
              "          google.colab.kernel.accessAllowed ? 'block' : 'none';\n",
              "\n",
              "        async function convertToInteractive(key) {\n",
              "          const element = document.querySelector('#df-357c7546-8dca-45e5-ad19-9906e9dcbfda');\n",
              "          const dataTable =\n",
              "            await google.colab.kernel.invokeFunction('convertToInteractive',\n",
              "                                                     [key], {});\n",
              "          if (!dataTable) return;\n",
              "\n",
              "          const docLinkHtml = 'Like what you see? Visit the ' +\n",
              "            '<a target=\"_blank\" href=https://colab.research.google.com/notebooks/data_table.ipynb>data table notebook</a>'\n",
              "            + ' to learn more about interactive tables.';\n",
              "          element.innerHTML = '';\n",
              "          dataTable['output_type'] = 'display_data';\n",
              "          await google.colab.output.renderOutput(dataTable, element);\n",
              "          const docLink = document.createElement('div');\n",
              "          docLink.innerHTML = docLinkHtml;\n",
              "          element.appendChild(docLink);\n",
              "        }\n",
              "      </script>\n",
              "    </div>\n",
              "  </div>\n",
              "  "
            ]
          },
          "metadata": {},
          "execution_count": 34
        }
      ]
    },
    {
      "cell_type": "code",
      "source": [
        "df_close['Close Datetime'] = pd.to_datetime(df_close['close_unix_timestamp'],dayfirst=True,unit='s')\n",
        "df_close"
      ],
      "metadata": {
        "colab": {
          "base_uri": "https://localhost:8080/",
          "height": 423
        },
        "id": "AYBNa6CAgiN5",
        "outputId": "efd575c1-ce7f-4e30-8adb-189e6aef3e79"
      },
      "execution_count": 35,
      "outputs": [
        {
          "output_type": "execute_result",
          "data": {
            "text/plain": [
              "     Close Position ID      Close Datetime Close Date_x  Close Action  \\\n",
              "0            599996081 2020-05-01 11:44:24   2020-05-01   Buy Bitcoin   \n",
              "1            610187469 2020-05-01 20:55:45   2020-05-01   Buy Bitcoin   \n",
              "2            610190271 2020-05-01 20:56:05   2020-05-01   Buy Bitcoin   \n",
              "3            609940706 2020-05-01 20:57:04   2020-05-01   Buy Bitcoin   \n",
              "4            609941239 2020-05-01 20:57:54   2020-05-01   Buy Bitcoin   \n",
              "..                 ...                 ...          ...           ...   \n",
              "805         1361963252 2022-05-12 09:16:32   2022-05-12   Buy Bitcoin   \n",
              "806         1353186945 2022-05-12 09:16:29   2022-05-12   Buy Bitcoin   \n",
              "807         1283235754 2022-05-12 09:16:13   2022-05-12   Buy Bitcoin   \n",
              "808         1370705010 2022-05-12 09:16:27   2022-05-12   Buy Bitcoin   \n",
              "809         2325392242 2022-12-02 12:29:02   2022-12-02  Buy Songbird   \n",
              "\n",
              "     Close Units  Close Amount_Eur  Close Rate_Eur  close_unix_timestamp  \n",
              "0       0.014149        115.062682     8194.258482            1588333464  \n",
              "1       0.058647        458.884862     7884.243731            1588366545  \n",
              "2       0.058881        461.070130     7890.334733            1588366565  \n",
              "3       0.118959        932.284501     7896.906842            1588366624  \n",
              "4       0.112364        881.648237     7906.338364            1588366674  \n",
              "..           ...               ...             ...                   ...  \n",
              "805     0.001490         38.527932    26401.130130            1652346992  \n",
              "806     0.001611         41.680601    26417.027940            1652346989  \n",
              "807     0.042603       1104.091794    26458.424940            1652346973  \n",
              "808     0.006407        166.055431    26460.970110            1652346987  \n",
              "809    11.510000          0.109149        0.009483            1669984142  \n",
              "\n",
              "[810 rows x 8 columns]"
            ],
            "text/html": [
              "\n",
              "  <div id=\"df-7f8910b4-93c3-40e1-8cb8-76080a5d4540\">\n",
              "    <div class=\"colab-df-container\">\n",
              "      <div>\n",
              "<style scoped>\n",
              "    .dataframe tbody tr th:only-of-type {\n",
              "        vertical-align: middle;\n",
              "    }\n",
              "\n",
              "    .dataframe tbody tr th {\n",
              "        vertical-align: top;\n",
              "    }\n",
              "\n",
              "    .dataframe thead th {\n",
              "        text-align: right;\n",
              "    }\n",
              "</style>\n",
              "<table border=\"1\" class=\"dataframe\">\n",
              "  <thead>\n",
              "    <tr style=\"text-align: right;\">\n",
              "      <th></th>\n",
              "      <th>Close Position ID</th>\n",
              "      <th>Close Datetime</th>\n",
              "      <th>Close Date_x</th>\n",
              "      <th>Close Action</th>\n",
              "      <th>Close Units</th>\n",
              "      <th>Close Amount_Eur</th>\n",
              "      <th>Close Rate_Eur</th>\n",
              "      <th>close_unix_timestamp</th>\n",
              "    </tr>\n",
              "  </thead>\n",
              "  <tbody>\n",
              "    <tr>\n",
              "      <th>0</th>\n",
              "      <td>599996081</td>\n",
              "      <td>2020-05-01 11:44:24</td>\n",
              "      <td>2020-05-01</td>\n",
              "      <td>Buy Bitcoin</td>\n",
              "      <td>0.014149</td>\n",
              "      <td>115.062682</td>\n",
              "      <td>8194.258482</td>\n",
              "      <td>1588333464</td>\n",
              "    </tr>\n",
              "    <tr>\n",
              "      <th>1</th>\n",
              "      <td>610187469</td>\n",
              "      <td>2020-05-01 20:55:45</td>\n",
              "      <td>2020-05-01</td>\n",
              "      <td>Buy Bitcoin</td>\n",
              "      <td>0.058647</td>\n",
              "      <td>458.884862</td>\n",
              "      <td>7884.243731</td>\n",
              "      <td>1588366545</td>\n",
              "    </tr>\n",
              "    <tr>\n",
              "      <th>2</th>\n",
              "      <td>610190271</td>\n",
              "      <td>2020-05-01 20:56:05</td>\n",
              "      <td>2020-05-01</td>\n",
              "      <td>Buy Bitcoin</td>\n",
              "      <td>0.058881</td>\n",
              "      <td>461.070130</td>\n",
              "      <td>7890.334733</td>\n",
              "      <td>1588366565</td>\n",
              "    </tr>\n",
              "    <tr>\n",
              "      <th>3</th>\n",
              "      <td>609940706</td>\n",
              "      <td>2020-05-01 20:57:04</td>\n",
              "      <td>2020-05-01</td>\n",
              "      <td>Buy Bitcoin</td>\n",
              "      <td>0.118959</td>\n",
              "      <td>932.284501</td>\n",
              "      <td>7896.906842</td>\n",
              "      <td>1588366624</td>\n",
              "    </tr>\n",
              "    <tr>\n",
              "      <th>4</th>\n",
              "      <td>609941239</td>\n",
              "      <td>2020-05-01 20:57:54</td>\n",
              "      <td>2020-05-01</td>\n",
              "      <td>Buy Bitcoin</td>\n",
              "      <td>0.112364</td>\n",
              "      <td>881.648237</td>\n",
              "      <td>7906.338364</td>\n",
              "      <td>1588366674</td>\n",
              "    </tr>\n",
              "    <tr>\n",
              "      <th>...</th>\n",
              "      <td>...</td>\n",
              "      <td>...</td>\n",
              "      <td>...</td>\n",
              "      <td>...</td>\n",
              "      <td>...</td>\n",
              "      <td>...</td>\n",
              "      <td>...</td>\n",
              "      <td>...</td>\n",
              "    </tr>\n",
              "    <tr>\n",
              "      <th>805</th>\n",
              "      <td>1361963252</td>\n",
              "      <td>2022-05-12 09:16:32</td>\n",
              "      <td>2022-05-12</td>\n",
              "      <td>Buy Bitcoin</td>\n",
              "      <td>0.001490</td>\n",
              "      <td>38.527932</td>\n",
              "      <td>26401.130130</td>\n",
              "      <td>1652346992</td>\n",
              "    </tr>\n",
              "    <tr>\n",
              "      <th>806</th>\n",
              "      <td>1353186945</td>\n",
              "      <td>2022-05-12 09:16:29</td>\n",
              "      <td>2022-05-12</td>\n",
              "      <td>Buy Bitcoin</td>\n",
              "      <td>0.001611</td>\n",
              "      <td>41.680601</td>\n",
              "      <td>26417.027940</td>\n",
              "      <td>1652346989</td>\n",
              "    </tr>\n",
              "    <tr>\n",
              "      <th>807</th>\n",
              "      <td>1283235754</td>\n",
              "      <td>2022-05-12 09:16:13</td>\n",
              "      <td>2022-05-12</td>\n",
              "      <td>Buy Bitcoin</td>\n",
              "      <td>0.042603</td>\n",
              "      <td>1104.091794</td>\n",
              "      <td>26458.424940</td>\n",
              "      <td>1652346973</td>\n",
              "    </tr>\n",
              "    <tr>\n",
              "      <th>808</th>\n",
              "      <td>1370705010</td>\n",
              "      <td>2022-05-12 09:16:27</td>\n",
              "      <td>2022-05-12</td>\n",
              "      <td>Buy Bitcoin</td>\n",
              "      <td>0.006407</td>\n",
              "      <td>166.055431</td>\n",
              "      <td>26460.970110</td>\n",
              "      <td>1652346987</td>\n",
              "    </tr>\n",
              "    <tr>\n",
              "      <th>809</th>\n",
              "      <td>2325392242</td>\n",
              "      <td>2022-12-02 12:29:02</td>\n",
              "      <td>2022-12-02</td>\n",
              "      <td>Buy Songbird</td>\n",
              "      <td>11.510000</td>\n",
              "      <td>0.109149</td>\n",
              "      <td>0.009483</td>\n",
              "      <td>1669984142</td>\n",
              "    </tr>\n",
              "  </tbody>\n",
              "</table>\n",
              "<p>810 rows × 8 columns</p>\n",
              "</div>\n",
              "      <button class=\"colab-df-convert\" onclick=\"convertToInteractive('df-7f8910b4-93c3-40e1-8cb8-76080a5d4540')\"\n",
              "              title=\"Convert this dataframe to an interactive table.\"\n",
              "              style=\"display:none;\">\n",
              "        \n",
              "  <svg xmlns=\"http://www.w3.org/2000/svg\" height=\"24px\"viewBox=\"0 0 24 24\"\n",
              "       width=\"24px\">\n",
              "    <path d=\"M0 0h24v24H0V0z\" fill=\"none\"/>\n",
              "    <path d=\"M18.56 5.44l.94 2.06.94-2.06 2.06-.94-2.06-.94-.94-2.06-.94 2.06-2.06.94zm-11 1L8.5 8.5l.94-2.06 2.06-.94-2.06-.94L8.5 2.5l-.94 2.06-2.06.94zm10 10l.94 2.06.94-2.06 2.06-.94-2.06-.94-.94-2.06-.94 2.06-2.06.94z\"/><path d=\"M17.41 7.96l-1.37-1.37c-.4-.4-.92-.59-1.43-.59-.52 0-1.04.2-1.43.59L10.3 9.45l-7.72 7.72c-.78.78-.78 2.05 0 2.83L4 21.41c.39.39.9.59 1.41.59.51 0 1.02-.2 1.41-.59l7.78-7.78 2.81-2.81c.8-.78.8-2.07 0-2.86zM5.41 20L4 18.59l7.72-7.72 1.47 1.35L5.41 20z\"/>\n",
              "  </svg>\n",
              "      </button>\n",
              "      \n",
              "  <style>\n",
              "    .colab-df-container {\n",
              "      display:flex;\n",
              "      flex-wrap:wrap;\n",
              "      gap: 12px;\n",
              "    }\n",
              "\n",
              "    .colab-df-convert {\n",
              "      background-color: #E8F0FE;\n",
              "      border: none;\n",
              "      border-radius: 50%;\n",
              "      cursor: pointer;\n",
              "      display: none;\n",
              "      fill: #1967D2;\n",
              "      height: 32px;\n",
              "      padding: 0 0 0 0;\n",
              "      width: 32px;\n",
              "    }\n",
              "\n",
              "    .colab-df-convert:hover {\n",
              "      background-color: #E2EBFA;\n",
              "      box-shadow: 0px 1px 2px rgba(60, 64, 67, 0.3), 0px 1px 3px 1px rgba(60, 64, 67, 0.15);\n",
              "      fill: #174EA6;\n",
              "    }\n",
              "\n",
              "    [theme=dark] .colab-df-convert {\n",
              "      background-color: #3B4455;\n",
              "      fill: #D2E3FC;\n",
              "    }\n",
              "\n",
              "    [theme=dark] .colab-df-convert:hover {\n",
              "      background-color: #434B5C;\n",
              "      box-shadow: 0px 1px 3px 1px rgba(0, 0, 0, 0.15);\n",
              "      filter: drop-shadow(0px 1px 2px rgba(0, 0, 0, 0.3));\n",
              "      fill: #FFFFFF;\n",
              "    }\n",
              "  </style>\n",
              "\n",
              "      <script>\n",
              "        const buttonEl =\n",
              "          document.querySelector('#df-7f8910b4-93c3-40e1-8cb8-76080a5d4540 button.colab-df-convert');\n",
              "        buttonEl.style.display =\n",
              "          google.colab.kernel.accessAllowed ? 'block' : 'none';\n",
              "\n",
              "        async function convertToInteractive(key) {\n",
              "          const element = document.querySelector('#df-7f8910b4-93c3-40e1-8cb8-76080a5d4540');\n",
              "          const dataTable =\n",
              "            await google.colab.kernel.invokeFunction('convertToInteractive',\n",
              "                                                     [key], {});\n",
              "          if (!dataTable) return;\n",
              "\n",
              "          const docLinkHtml = 'Like what you see? Visit the ' +\n",
              "            '<a target=\"_blank\" href=https://colab.research.google.com/notebooks/data_table.ipynb>data table notebook</a>'\n",
              "            + ' to learn more about interactive tables.';\n",
              "          element.innerHTML = '';\n",
              "          dataTable['output_type'] = 'display_data';\n",
              "          await google.colab.output.renderOutput(dataTable, element);\n",
              "          const docLink = document.createElement('div');\n",
              "          docLink.innerHTML = docLinkHtml;\n",
              "          element.appendChild(docLink);\n",
              "        }\n",
              "      </script>\n",
              "    </div>\n",
              "  </div>\n",
              "  "
            ]
          },
          "metadata": {},
          "execution_count": 35
        }
      ]
    },
    {
      "cell_type": "code",
      "source": [
        "df_close.to_csv('crypto_et_close_final.csv',index=False)\n",
        "df_open.to_csv('crypto_et_open_final.csv',index=False)"
      ],
      "metadata": {
        "id": "yvFVa6_JgiYB"
      },
      "execution_count": 36,
      "outputs": []
    },
    {
      "cell_type": "code",
      "source": [
        "data_btc = {}\n",
        "print(df_close.columns)\n",
        "df_open.columns"
      ],
      "metadata": {
        "colab": {
          "base_uri": "https://localhost:8080/"
        },
        "id": "8WOQITINgigJ",
        "outputId": "5e5c8cb2-55a1-42bd-d1e7-de5ecfb285f1"
      },
      "execution_count": 37,
      "outputs": [
        {
          "output_type": "stream",
          "name": "stdout",
          "text": [
            "Index(['Close Position ID', 'Close Datetime', 'Close Date_x', 'Close Action',\n",
            "       'Close Units', 'Close Amount_Eur', 'Close Rate_Eur',\n",
            "       'close_unix_timestamp'],\n",
            "      dtype='object')\n"
          ]
        },
        {
          "output_type": "execute_result",
          "data": {
            "text/plain": [
              "Index(['Open_Position ID', 'Open Datetime', 'Open Date_x', 'Open Action',\n",
              "       'Open Units', 'Open Amount_Eur', 'Open Rate_Eur',\n",
              "       'open_unix_timestamp'],\n",
              "      dtype='object')"
            ]
          },
          "metadata": {},
          "execution_count": 37
        }
      ]
    },
    {
      "cell_type": "code",
      "source": [
        "df_lifo_btc = pd.DataFrame(data_btc, columns=['Open_Position ID', \n",
        "                                              'Open Datetime',\n",
        "                                              'Open Date_x', 'Open Action',\n",
        "                                              'Open Units', 'Open Amount_Eur',\n",
        "                                              'Open Rate_Eur',\n",
        "                                              'open_unix_timestamp',\n",
        "                                              'Close Position ID',\n",
        "                                              'Close Datetime', 'Close Date_x',\n",
        "                                              'Close Action', 'Close Units',\n",
        "                                              'Close Amount_Eur',\n",
        "                                              'Close Rate_Eur',\n",
        "                                              'close_unix_timestamp'])"
      ],
      "metadata": {
        "id": "hnMx27y2gikB"
      },
      "execution_count": 38,
      "outputs": []
    },
    {
      "cell_type": "code",
      "source": [
        "df_lifo_btc"
      ],
      "metadata": {
        "colab": {
          "base_uri": "https://localhost:8080/",
          "height": 148
        },
        "id": "mmQiWD-agipO",
        "outputId": "926b6e4e-54b0-4c01-a0b5-0763e396e1e2"
      },
      "execution_count": 39,
      "outputs": [
        {
          "output_type": "execute_result",
          "data": {
            "text/plain": [
              "Empty DataFrame\n",
              "Columns: [Open_Position ID, Open Datetime, Open Date_x, Open Action, Open Units, Open Amount_Eur, Open Rate_Eur, open_unix_timestamp, Close Position ID, Close Datetime, Close Date_x, Close Action, Close Units, Close Amount_Eur, Close Rate_Eur, close_unix_timestamp]\n",
              "Index: []"
            ],
            "text/html": [
              "\n",
              "  <div id=\"df-a499f96c-8c90-4ef9-bb35-fba320254823\">\n",
              "    <div class=\"colab-df-container\">\n",
              "      <div>\n",
              "<style scoped>\n",
              "    .dataframe tbody tr th:only-of-type {\n",
              "        vertical-align: middle;\n",
              "    }\n",
              "\n",
              "    .dataframe tbody tr th {\n",
              "        vertical-align: top;\n",
              "    }\n",
              "\n",
              "    .dataframe thead th {\n",
              "        text-align: right;\n",
              "    }\n",
              "</style>\n",
              "<table border=\"1\" class=\"dataframe\">\n",
              "  <thead>\n",
              "    <tr style=\"text-align: right;\">\n",
              "      <th></th>\n",
              "      <th>Open_Position ID</th>\n",
              "      <th>Open Datetime</th>\n",
              "      <th>Open Date_x</th>\n",
              "      <th>Open Action</th>\n",
              "      <th>Open Units</th>\n",
              "      <th>Open Amount_Eur</th>\n",
              "      <th>Open Rate_Eur</th>\n",
              "      <th>open_unix_timestamp</th>\n",
              "      <th>Close Position ID</th>\n",
              "      <th>Close Datetime</th>\n",
              "      <th>Close Date_x</th>\n",
              "      <th>Close Action</th>\n",
              "      <th>Close Units</th>\n",
              "      <th>Close Amount_Eur</th>\n",
              "      <th>Close Rate_Eur</th>\n",
              "      <th>close_unix_timestamp</th>\n",
              "    </tr>\n",
              "  </thead>\n",
              "  <tbody>\n",
              "  </tbody>\n",
              "</table>\n",
              "</div>\n",
              "      <button class=\"colab-df-convert\" onclick=\"convertToInteractive('df-a499f96c-8c90-4ef9-bb35-fba320254823')\"\n",
              "              title=\"Convert this dataframe to an interactive table.\"\n",
              "              style=\"display:none;\">\n",
              "        \n",
              "  <svg xmlns=\"http://www.w3.org/2000/svg\" height=\"24px\"viewBox=\"0 0 24 24\"\n",
              "       width=\"24px\">\n",
              "    <path d=\"M0 0h24v24H0V0z\" fill=\"none\"/>\n",
              "    <path d=\"M18.56 5.44l.94 2.06.94-2.06 2.06-.94-2.06-.94-.94-2.06-.94 2.06-2.06.94zm-11 1L8.5 8.5l.94-2.06 2.06-.94-2.06-.94L8.5 2.5l-.94 2.06-2.06.94zm10 10l.94 2.06.94-2.06 2.06-.94-2.06-.94-.94-2.06-.94 2.06-2.06.94z\"/><path d=\"M17.41 7.96l-1.37-1.37c-.4-.4-.92-.59-1.43-.59-.52 0-1.04.2-1.43.59L10.3 9.45l-7.72 7.72c-.78.78-.78 2.05 0 2.83L4 21.41c.39.39.9.59 1.41.59.51 0 1.02-.2 1.41-.59l7.78-7.78 2.81-2.81c.8-.78.8-2.07 0-2.86zM5.41 20L4 18.59l7.72-7.72 1.47 1.35L5.41 20z\"/>\n",
              "  </svg>\n",
              "      </button>\n",
              "      \n",
              "  <style>\n",
              "    .colab-df-container {\n",
              "      display:flex;\n",
              "      flex-wrap:wrap;\n",
              "      gap: 12px;\n",
              "    }\n",
              "\n",
              "    .colab-df-convert {\n",
              "      background-color: #E8F0FE;\n",
              "      border: none;\n",
              "      border-radius: 50%;\n",
              "      cursor: pointer;\n",
              "      display: none;\n",
              "      fill: #1967D2;\n",
              "      height: 32px;\n",
              "      padding: 0 0 0 0;\n",
              "      width: 32px;\n",
              "    }\n",
              "\n",
              "    .colab-df-convert:hover {\n",
              "      background-color: #E2EBFA;\n",
              "      box-shadow: 0px 1px 2px rgba(60, 64, 67, 0.3), 0px 1px 3px 1px rgba(60, 64, 67, 0.15);\n",
              "      fill: #174EA6;\n",
              "    }\n",
              "\n",
              "    [theme=dark] .colab-df-convert {\n",
              "      background-color: #3B4455;\n",
              "      fill: #D2E3FC;\n",
              "    }\n",
              "\n",
              "    [theme=dark] .colab-df-convert:hover {\n",
              "      background-color: #434B5C;\n",
              "      box-shadow: 0px 1px 3px 1px rgba(0, 0, 0, 0.15);\n",
              "      filter: drop-shadow(0px 1px 2px rgba(0, 0, 0, 0.3));\n",
              "      fill: #FFFFFF;\n",
              "    }\n",
              "  </style>\n",
              "\n",
              "      <script>\n",
              "        const buttonEl =\n",
              "          document.querySelector('#df-a499f96c-8c90-4ef9-bb35-fba320254823 button.colab-df-convert');\n",
              "        buttonEl.style.display =\n",
              "          google.colab.kernel.accessAllowed ? 'block' : 'none';\n",
              "\n",
              "        async function convertToInteractive(key) {\n",
              "          const element = document.querySelector('#df-a499f96c-8c90-4ef9-bb35-fba320254823');\n",
              "          const dataTable =\n",
              "            await google.colab.kernel.invokeFunction('convertToInteractive',\n",
              "                                                     [key], {});\n",
              "          if (!dataTable) return;\n",
              "\n",
              "          const docLinkHtml = 'Like what you see? Visit the ' +\n",
              "            '<a target=\"_blank\" href=https://colab.research.google.com/notebooks/data_table.ipynb>data table notebook</a>'\n",
              "            + ' to learn more about interactive tables.';\n",
              "          element.innerHTML = '';\n",
              "          dataTable['output_type'] = 'display_data';\n",
              "          await google.colab.output.renderOutput(dataTable, element);\n",
              "          const docLink = document.createElement('div');\n",
              "          docLink.innerHTML = docLinkHtml;\n",
              "          element.appendChild(docLink);\n",
              "        }\n",
              "      </script>\n",
              "    </div>\n",
              "  </div>\n",
              "  "
            ]
          },
          "metadata": {},
          "execution_count": 39
        }
      ]
    },
    {
      "cell_type": "code",
      "source": [
        "df_close_btc = df_close[df_close['Close Action']=='Buy Bitcoin']\n",
        "df_open_btc = df_open[df_open['Open Action']=='Buy Bitcoin']"
      ],
      "metadata": {
        "id": "An8nwG_XBQC6"
      },
      "execution_count": 40,
      "outputs": []
    },
    {
      "cell_type": "code",
      "source": [
        "#df_close_btc.reset_index(inplace=True)\n",
        "#df_close_btc.rename(columns={'index':'Close_index'},inplace=True)\n",
        "df_close_btc"
      ],
      "metadata": {
        "id": "nq595znnBvTB",
        "outputId": "4e3f144e-ae6c-4db6-d769-46f491d35a7d",
        "colab": {
          "base_uri": "https://localhost:8080/",
          "height": 554
        }
      },
      "execution_count": 43,
      "outputs": [
        {
          "output_type": "stream",
          "name": "stderr",
          "text": [
            "/usr/local/lib/python3.8/dist-packages/pandas/core/frame.py:5039: SettingWithCopyWarning: \n",
            "A value is trying to be set on a copy of a slice from a DataFrame\n",
            "\n",
            "See the caveats in the documentation: https://pandas.pydata.org/pandas-docs/stable/user_guide/indexing.html#returning-a-view-versus-a-copy\n",
            "  return super().rename(\n"
          ]
        },
        {
          "output_type": "execute_result",
          "data": {
            "text/plain": [
              "     Close_index  Close Position ID      Close Datetime Close Date_x  \\\n",
              "0              0          599996081 2020-05-01 11:44:24   2020-05-01   \n",
              "1              1          610187469 2020-05-01 20:55:45   2020-05-01   \n",
              "2              2          610190271 2020-05-01 20:56:05   2020-05-01   \n",
              "3              3          609940706 2020-05-01 20:57:04   2020-05-01   \n",
              "4              4          609941239 2020-05-01 20:57:54   2020-05-01   \n",
              "..           ...                ...                 ...          ...   \n",
              "199          804         1165132120 2022-05-12 09:16:00   2022-05-12   \n",
              "200          805         1361963252 2022-05-12 09:16:32   2022-05-12   \n",
              "201          806         1353186945 2022-05-12 09:16:29   2022-05-12   \n",
              "202          807         1283235754 2022-05-12 09:16:13   2022-05-12   \n",
              "203          808         1370705010 2022-05-12 09:16:27   2022-05-12   \n",
              "\n",
              "    Close Action  Close Units  Close Amount_Eur  Close Rate_Eur  \\\n",
              "0    Buy Bitcoin     0.014149        115.062682     8194.258482   \n",
              "1    Buy Bitcoin     0.058647        458.884862     7884.243731   \n",
              "2    Buy Bitcoin     0.058881        461.070130     7890.334733   \n",
              "3    Buy Bitcoin     0.118959        932.284501     7896.906842   \n",
              "4    Buy Bitcoin     0.112364        881.648237     7906.338364   \n",
              "..           ...          ...               ...             ...   \n",
              "199  Buy Bitcoin     0.013298        344.769082    26469.346380   \n",
              "200  Buy Bitcoin     0.001490         38.527932    26401.130130   \n",
              "201  Buy Bitcoin     0.001611         41.680601    26417.027940   \n",
              "202  Buy Bitcoin     0.042603       1104.091794    26458.424940   \n",
              "203  Buy Bitcoin     0.006407        166.055431    26460.970110   \n",
              "\n",
              "     close_unix_timestamp  \n",
              "0              1588333464  \n",
              "1              1588366545  \n",
              "2              1588366565  \n",
              "3              1588366624  \n",
              "4              1588366674  \n",
              "..                    ...  \n",
              "199            1652346960  \n",
              "200            1652346992  \n",
              "201            1652346989  \n",
              "202            1652346973  \n",
              "203            1652346987  \n",
              "\n",
              "[204 rows x 9 columns]"
            ],
            "text/html": [
              "\n",
              "  <div id=\"df-c77995b0-0267-46a6-a643-c03b3fedb1f0\">\n",
              "    <div class=\"colab-df-container\">\n",
              "      <div>\n",
              "<style scoped>\n",
              "    .dataframe tbody tr th:only-of-type {\n",
              "        vertical-align: middle;\n",
              "    }\n",
              "\n",
              "    .dataframe tbody tr th {\n",
              "        vertical-align: top;\n",
              "    }\n",
              "\n",
              "    .dataframe thead th {\n",
              "        text-align: right;\n",
              "    }\n",
              "</style>\n",
              "<table border=\"1\" class=\"dataframe\">\n",
              "  <thead>\n",
              "    <tr style=\"text-align: right;\">\n",
              "      <th></th>\n",
              "      <th>Close_index</th>\n",
              "      <th>Close Position ID</th>\n",
              "      <th>Close Datetime</th>\n",
              "      <th>Close Date_x</th>\n",
              "      <th>Close Action</th>\n",
              "      <th>Close Units</th>\n",
              "      <th>Close Amount_Eur</th>\n",
              "      <th>Close Rate_Eur</th>\n",
              "      <th>close_unix_timestamp</th>\n",
              "    </tr>\n",
              "  </thead>\n",
              "  <tbody>\n",
              "    <tr>\n",
              "      <th>0</th>\n",
              "      <td>0</td>\n",
              "      <td>599996081</td>\n",
              "      <td>2020-05-01 11:44:24</td>\n",
              "      <td>2020-05-01</td>\n",
              "      <td>Buy Bitcoin</td>\n",
              "      <td>0.014149</td>\n",
              "      <td>115.062682</td>\n",
              "      <td>8194.258482</td>\n",
              "      <td>1588333464</td>\n",
              "    </tr>\n",
              "    <tr>\n",
              "      <th>1</th>\n",
              "      <td>1</td>\n",
              "      <td>610187469</td>\n",
              "      <td>2020-05-01 20:55:45</td>\n",
              "      <td>2020-05-01</td>\n",
              "      <td>Buy Bitcoin</td>\n",
              "      <td>0.058647</td>\n",
              "      <td>458.884862</td>\n",
              "      <td>7884.243731</td>\n",
              "      <td>1588366545</td>\n",
              "    </tr>\n",
              "    <tr>\n",
              "      <th>2</th>\n",
              "      <td>2</td>\n",
              "      <td>610190271</td>\n",
              "      <td>2020-05-01 20:56:05</td>\n",
              "      <td>2020-05-01</td>\n",
              "      <td>Buy Bitcoin</td>\n",
              "      <td>0.058881</td>\n",
              "      <td>461.070130</td>\n",
              "      <td>7890.334733</td>\n",
              "      <td>1588366565</td>\n",
              "    </tr>\n",
              "    <tr>\n",
              "      <th>3</th>\n",
              "      <td>3</td>\n",
              "      <td>609940706</td>\n",
              "      <td>2020-05-01 20:57:04</td>\n",
              "      <td>2020-05-01</td>\n",
              "      <td>Buy Bitcoin</td>\n",
              "      <td>0.118959</td>\n",
              "      <td>932.284501</td>\n",
              "      <td>7896.906842</td>\n",
              "      <td>1588366624</td>\n",
              "    </tr>\n",
              "    <tr>\n",
              "      <th>4</th>\n",
              "      <td>4</td>\n",
              "      <td>609941239</td>\n",
              "      <td>2020-05-01 20:57:54</td>\n",
              "      <td>2020-05-01</td>\n",
              "      <td>Buy Bitcoin</td>\n",
              "      <td>0.112364</td>\n",
              "      <td>881.648237</td>\n",
              "      <td>7906.338364</td>\n",
              "      <td>1588366674</td>\n",
              "    </tr>\n",
              "    <tr>\n",
              "      <th>...</th>\n",
              "      <td>...</td>\n",
              "      <td>...</td>\n",
              "      <td>...</td>\n",
              "      <td>...</td>\n",
              "      <td>...</td>\n",
              "      <td>...</td>\n",
              "      <td>...</td>\n",
              "      <td>...</td>\n",
              "      <td>...</td>\n",
              "    </tr>\n",
              "    <tr>\n",
              "      <th>199</th>\n",
              "      <td>804</td>\n",
              "      <td>1165132120</td>\n",
              "      <td>2022-05-12 09:16:00</td>\n",
              "      <td>2022-05-12</td>\n",
              "      <td>Buy Bitcoin</td>\n",
              "      <td>0.013298</td>\n",
              "      <td>344.769082</td>\n",
              "      <td>26469.346380</td>\n",
              "      <td>1652346960</td>\n",
              "    </tr>\n",
              "    <tr>\n",
              "      <th>200</th>\n",
              "      <td>805</td>\n",
              "      <td>1361963252</td>\n",
              "      <td>2022-05-12 09:16:32</td>\n",
              "      <td>2022-05-12</td>\n",
              "      <td>Buy Bitcoin</td>\n",
              "      <td>0.001490</td>\n",
              "      <td>38.527932</td>\n",
              "      <td>26401.130130</td>\n",
              "      <td>1652346992</td>\n",
              "    </tr>\n",
              "    <tr>\n",
              "      <th>201</th>\n",
              "      <td>806</td>\n",
              "      <td>1353186945</td>\n",
              "      <td>2022-05-12 09:16:29</td>\n",
              "      <td>2022-05-12</td>\n",
              "      <td>Buy Bitcoin</td>\n",
              "      <td>0.001611</td>\n",
              "      <td>41.680601</td>\n",
              "      <td>26417.027940</td>\n",
              "      <td>1652346989</td>\n",
              "    </tr>\n",
              "    <tr>\n",
              "      <th>202</th>\n",
              "      <td>807</td>\n",
              "      <td>1283235754</td>\n",
              "      <td>2022-05-12 09:16:13</td>\n",
              "      <td>2022-05-12</td>\n",
              "      <td>Buy Bitcoin</td>\n",
              "      <td>0.042603</td>\n",
              "      <td>1104.091794</td>\n",
              "      <td>26458.424940</td>\n",
              "      <td>1652346973</td>\n",
              "    </tr>\n",
              "    <tr>\n",
              "      <th>203</th>\n",
              "      <td>808</td>\n",
              "      <td>1370705010</td>\n",
              "      <td>2022-05-12 09:16:27</td>\n",
              "      <td>2022-05-12</td>\n",
              "      <td>Buy Bitcoin</td>\n",
              "      <td>0.006407</td>\n",
              "      <td>166.055431</td>\n",
              "      <td>26460.970110</td>\n",
              "      <td>1652346987</td>\n",
              "    </tr>\n",
              "  </tbody>\n",
              "</table>\n",
              "<p>204 rows × 9 columns</p>\n",
              "</div>\n",
              "      <button class=\"colab-df-convert\" onclick=\"convertToInteractive('df-c77995b0-0267-46a6-a643-c03b3fedb1f0')\"\n",
              "              title=\"Convert this dataframe to an interactive table.\"\n",
              "              style=\"display:none;\">\n",
              "        \n",
              "  <svg xmlns=\"http://www.w3.org/2000/svg\" height=\"24px\"viewBox=\"0 0 24 24\"\n",
              "       width=\"24px\">\n",
              "    <path d=\"M0 0h24v24H0V0z\" fill=\"none\"/>\n",
              "    <path d=\"M18.56 5.44l.94 2.06.94-2.06 2.06-.94-2.06-.94-.94-2.06-.94 2.06-2.06.94zm-11 1L8.5 8.5l.94-2.06 2.06-.94-2.06-.94L8.5 2.5l-.94 2.06-2.06.94zm10 10l.94 2.06.94-2.06 2.06-.94-2.06-.94-.94-2.06-.94 2.06-2.06.94z\"/><path d=\"M17.41 7.96l-1.37-1.37c-.4-.4-.92-.59-1.43-.59-.52 0-1.04.2-1.43.59L10.3 9.45l-7.72 7.72c-.78.78-.78 2.05 0 2.83L4 21.41c.39.39.9.59 1.41.59.51 0 1.02-.2 1.41-.59l7.78-7.78 2.81-2.81c.8-.78.8-2.07 0-2.86zM5.41 20L4 18.59l7.72-7.72 1.47 1.35L5.41 20z\"/>\n",
              "  </svg>\n",
              "      </button>\n",
              "      \n",
              "  <style>\n",
              "    .colab-df-container {\n",
              "      display:flex;\n",
              "      flex-wrap:wrap;\n",
              "      gap: 12px;\n",
              "    }\n",
              "\n",
              "    .colab-df-convert {\n",
              "      background-color: #E8F0FE;\n",
              "      border: none;\n",
              "      border-radius: 50%;\n",
              "      cursor: pointer;\n",
              "      display: none;\n",
              "      fill: #1967D2;\n",
              "      height: 32px;\n",
              "      padding: 0 0 0 0;\n",
              "      width: 32px;\n",
              "    }\n",
              "\n",
              "    .colab-df-convert:hover {\n",
              "      background-color: #E2EBFA;\n",
              "      box-shadow: 0px 1px 2px rgba(60, 64, 67, 0.3), 0px 1px 3px 1px rgba(60, 64, 67, 0.15);\n",
              "      fill: #174EA6;\n",
              "    }\n",
              "\n",
              "    [theme=dark] .colab-df-convert {\n",
              "      background-color: #3B4455;\n",
              "      fill: #D2E3FC;\n",
              "    }\n",
              "\n",
              "    [theme=dark] .colab-df-convert:hover {\n",
              "      background-color: #434B5C;\n",
              "      box-shadow: 0px 1px 3px 1px rgba(0, 0, 0, 0.15);\n",
              "      filter: drop-shadow(0px 1px 2px rgba(0, 0, 0, 0.3));\n",
              "      fill: #FFFFFF;\n",
              "    }\n",
              "  </style>\n",
              "\n",
              "      <script>\n",
              "        const buttonEl =\n",
              "          document.querySelector('#df-c77995b0-0267-46a6-a643-c03b3fedb1f0 button.colab-df-convert');\n",
              "        buttonEl.style.display =\n",
              "          google.colab.kernel.accessAllowed ? 'block' : 'none';\n",
              "\n",
              "        async function convertToInteractive(key) {\n",
              "          const element = document.querySelector('#df-c77995b0-0267-46a6-a643-c03b3fedb1f0');\n",
              "          const dataTable =\n",
              "            await google.colab.kernel.invokeFunction('convertToInteractive',\n",
              "                                                     [key], {});\n",
              "          if (!dataTable) return;\n",
              "\n",
              "          const docLinkHtml = 'Like what you see? Visit the ' +\n",
              "            '<a target=\"_blank\" href=https://colab.research.google.com/notebooks/data_table.ipynb>data table notebook</a>'\n",
              "            + ' to learn more about interactive tables.';\n",
              "          element.innerHTML = '';\n",
              "          dataTable['output_type'] = 'display_data';\n",
              "          await google.colab.output.renderOutput(dataTable, element);\n",
              "          const docLink = document.createElement('div');\n",
              "          docLink.innerHTML = docLinkHtml;\n",
              "          element.appendChild(docLink);\n",
              "        }\n",
              "      </script>\n",
              "    </div>\n",
              "  </div>\n",
              "  "
            ]
          },
          "metadata": {},
          "execution_count": 43
        }
      ]
    },
    {
      "cell_type": "code",
      "source": [
        "#df_open_btc.reset_index(inplace=True)\n",
        "#df_open_btc.rename(columns={'index':'Open_index'},inplace=True)\n",
        "df_open_btc"
      ],
      "metadata": {
        "id": "wyQKeiNuB_GU",
        "outputId": "be8ad740-bac1-4c6f-9ec7-27377a157a36",
        "colab": {
          "base_uri": "https://localhost:8080/",
          "height": 510
        }
      },
      "execution_count": 46,
      "outputs": [
        {
          "output_type": "stream",
          "name": "stderr",
          "text": [
            "/usr/local/lib/python3.8/dist-packages/pandas/core/frame.py:5039: SettingWithCopyWarning: \n",
            "A value is trying to be set on a copy of a slice from a DataFrame\n",
            "\n",
            "See the caveats in the documentation: https://pandas.pydata.org/pandas-docs/stable/user_guide/indexing.html#returning-a-view-versus-a-copy\n",
            "  return super().rename(\n"
          ]
        },
        {
          "output_type": "execute_result",
          "data": {
            "text/plain": [
              "     Open_index  Open_Position ID       Open Datetime Open Date_x  \\\n",
              "0             0         599295474 2020-04-17 13:09:20  2020-04-17   \n",
              "1             2         599996081 2020-04-17 18:42:42  2020-04-17   \n",
              "2             3         600052383 2020-04-18 13:49:32  2020-04-18   \n",
              "3             4         600057583 2020-04-18 16:48:30  2020-04-18   \n",
              "4             6         600061986 2020-04-18 21:07:10  2020-04-18   \n",
              "..          ...               ...                 ...         ...   \n",
              "199         778        1353186945 2021-10-18 21:47:56  2021-10-18   \n",
              "200         780        1354684971 2021-10-19 20:54:00  2021-10-19   \n",
              "201         790        1361963252 2021-10-25 19:00:27  2021-10-25   \n",
              "202         798        1368128599 2021-10-29 09:51:32  2021-10-29   \n",
              "203         800        1370705010 2021-11-01 11:59:53  2021-11-01   \n",
              "\n",
              "     Open Action  Open Units  Open Amount_Eur  Open Rate_Eur  \\\n",
              "0    Buy Bitcoin    0.014029        92.484010    6592.389676   \n",
              "1    Buy Bitcoin    0.014149        92.484010    6536.362863   \n",
              "2    Buy Bitcoin    0.103664       693.630071    6691.116356   \n",
              "3    Buy Bitcoin    0.020751       138.726014    6685.280615   \n",
              "4    Buy Bitcoin    0.004376        29.419163    6723.069581   \n",
              "..           ...         ...              ...            ...   \n",
              "199  Buy Bitcoin    0.001611        86.408019   53648.207030   \n",
              "200  Buy Bitcoin    0.006812       377.664548   55444.520400   \n",
              "201  Buy Bitcoin    0.001490        81.400745   54648.528540   \n",
              "202  Buy Bitcoin    0.012804       677.735938   52932.721790   \n",
              "203  Buy Bitcoin    0.006407       344.142212   53714.903330   \n",
              "\n",
              "     open_unix_timestamp  \n",
              "0             1587128960  \n",
              "1             1587148962  \n",
              "2             1587217772  \n",
              "3             1587228510  \n",
              "4             1587244030  \n",
              "..                   ...  \n",
              "199           1634593676  \n",
              "200           1634676840  \n",
              "201           1635188427  \n",
              "202           1635501092  \n",
              "203           1635767993  \n",
              "\n",
              "[204 rows x 9 columns]"
            ],
            "text/html": [
              "\n",
              "  <div id=\"df-1e4a858c-5f7c-420c-a9c2-dfec9cbe4593\">\n",
              "    <div class=\"colab-df-container\">\n",
              "      <div>\n",
              "<style scoped>\n",
              "    .dataframe tbody tr th:only-of-type {\n",
              "        vertical-align: middle;\n",
              "    }\n",
              "\n",
              "    .dataframe tbody tr th {\n",
              "        vertical-align: top;\n",
              "    }\n",
              "\n",
              "    .dataframe thead th {\n",
              "        text-align: right;\n",
              "    }\n",
              "</style>\n",
              "<table border=\"1\" class=\"dataframe\">\n",
              "  <thead>\n",
              "    <tr style=\"text-align: right;\">\n",
              "      <th></th>\n",
              "      <th>Open_index</th>\n",
              "      <th>Open_Position ID</th>\n",
              "      <th>Open Datetime</th>\n",
              "      <th>Open Date_x</th>\n",
              "      <th>Open Action</th>\n",
              "      <th>Open Units</th>\n",
              "      <th>Open Amount_Eur</th>\n",
              "      <th>Open Rate_Eur</th>\n",
              "      <th>open_unix_timestamp</th>\n",
              "    </tr>\n",
              "  </thead>\n",
              "  <tbody>\n",
              "    <tr>\n",
              "      <th>0</th>\n",
              "      <td>0</td>\n",
              "      <td>599295474</td>\n",
              "      <td>2020-04-17 13:09:20</td>\n",
              "      <td>2020-04-17</td>\n",
              "      <td>Buy Bitcoin</td>\n",
              "      <td>0.014029</td>\n",
              "      <td>92.484010</td>\n",
              "      <td>6592.389676</td>\n",
              "      <td>1587128960</td>\n",
              "    </tr>\n",
              "    <tr>\n",
              "      <th>1</th>\n",
              "      <td>2</td>\n",
              "      <td>599996081</td>\n",
              "      <td>2020-04-17 18:42:42</td>\n",
              "      <td>2020-04-17</td>\n",
              "      <td>Buy Bitcoin</td>\n",
              "      <td>0.014149</td>\n",
              "      <td>92.484010</td>\n",
              "      <td>6536.362863</td>\n",
              "      <td>1587148962</td>\n",
              "    </tr>\n",
              "    <tr>\n",
              "      <th>2</th>\n",
              "      <td>3</td>\n",
              "      <td>600052383</td>\n",
              "      <td>2020-04-18 13:49:32</td>\n",
              "      <td>2020-04-18</td>\n",
              "      <td>Buy Bitcoin</td>\n",
              "      <td>0.103664</td>\n",
              "      <td>693.630071</td>\n",
              "      <td>6691.116356</td>\n",
              "      <td>1587217772</td>\n",
              "    </tr>\n",
              "    <tr>\n",
              "      <th>3</th>\n",
              "      <td>4</td>\n",
              "      <td>600057583</td>\n",
              "      <td>2020-04-18 16:48:30</td>\n",
              "      <td>2020-04-18</td>\n",
              "      <td>Buy Bitcoin</td>\n",
              "      <td>0.020751</td>\n",
              "      <td>138.726014</td>\n",
              "      <td>6685.280615</td>\n",
              "      <td>1587228510</td>\n",
              "    </tr>\n",
              "    <tr>\n",
              "      <th>4</th>\n",
              "      <td>6</td>\n",
              "      <td>600061986</td>\n",
              "      <td>2020-04-18 21:07:10</td>\n",
              "      <td>2020-04-18</td>\n",
              "      <td>Buy Bitcoin</td>\n",
              "      <td>0.004376</td>\n",
              "      <td>29.419163</td>\n",
              "      <td>6723.069581</td>\n",
              "      <td>1587244030</td>\n",
              "    </tr>\n",
              "    <tr>\n",
              "      <th>...</th>\n",
              "      <td>...</td>\n",
              "      <td>...</td>\n",
              "      <td>...</td>\n",
              "      <td>...</td>\n",
              "      <td>...</td>\n",
              "      <td>...</td>\n",
              "      <td>...</td>\n",
              "      <td>...</td>\n",
              "      <td>...</td>\n",
              "    </tr>\n",
              "    <tr>\n",
              "      <th>199</th>\n",
              "      <td>778</td>\n",
              "      <td>1353186945</td>\n",
              "      <td>2021-10-18 21:47:56</td>\n",
              "      <td>2021-10-18</td>\n",
              "      <td>Buy Bitcoin</td>\n",
              "      <td>0.001611</td>\n",
              "      <td>86.408019</td>\n",
              "      <td>53648.207030</td>\n",
              "      <td>1634593676</td>\n",
              "    </tr>\n",
              "    <tr>\n",
              "      <th>200</th>\n",
              "      <td>780</td>\n",
              "      <td>1354684971</td>\n",
              "      <td>2021-10-19 20:54:00</td>\n",
              "      <td>2021-10-19</td>\n",
              "      <td>Buy Bitcoin</td>\n",
              "      <td>0.006812</td>\n",
              "      <td>377.664548</td>\n",
              "      <td>55444.520400</td>\n",
              "      <td>1634676840</td>\n",
              "    </tr>\n",
              "    <tr>\n",
              "      <th>201</th>\n",
              "      <td>790</td>\n",
              "      <td>1361963252</td>\n",
              "      <td>2021-10-25 19:00:27</td>\n",
              "      <td>2021-10-25</td>\n",
              "      <td>Buy Bitcoin</td>\n",
              "      <td>0.001490</td>\n",
              "      <td>81.400745</td>\n",
              "      <td>54648.528540</td>\n",
              "      <td>1635188427</td>\n",
              "    </tr>\n",
              "    <tr>\n",
              "      <th>202</th>\n",
              "      <td>798</td>\n",
              "      <td>1368128599</td>\n",
              "      <td>2021-10-29 09:51:32</td>\n",
              "      <td>2021-10-29</td>\n",
              "      <td>Buy Bitcoin</td>\n",
              "      <td>0.012804</td>\n",
              "      <td>677.735938</td>\n",
              "      <td>52932.721790</td>\n",
              "      <td>1635501092</td>\n",
              "    </tr>\n",
              "    <tr>\n",
              "      <th>203</th>\n",
              "      <td>800</td>\n",
              "      <td>1370705010</td>\n",
              "      <td>2021-11-01 11:59:53</td>\n",
              "      <td>2021-11-01</td>\n",
              "      <td>Buy Bitcoin</td>\n",
              "      <td>0.006407</td>\n",
              "      <td>344.142212</td>\n",
              "      <td>53714.903330</td>\n",
              "      <td>1635767993</td>\n",
              "    </tr>\n",
              "  </tbody>\n",
              "</table>\n",
              "<p>204 rows × 9 columns</p>\n",
              "</div>\n",
              "      <button class=\"colab-df-convert\" onclick=\"convertToInteractive('df-1e4a858c-5f7c-420c-a9c2-dfec9cbe4593')\"\n",
              "              title=\"Convert this dataframe to an interactive table.\"\n",
              "              style=\"display:none;\">\n",
              "        \n",
              "  <svg xmlns=\"http://www.w3.org/2000/svg\" height=\"24px\"viewBox=\"0 0 24 24\"\n",
              "       width=\"24px\">\n",
              "    <path d=\"M0 0h24v24H0V0z\" fill=\"none\"/>\n",
              "    <path d=\"M18.56 5.44l.94 2.06.94-2.06 2.06-.94-2.06-.94-.94-2.06-.94 2.06-2.06.94zm-11 1L8.5 8.5l.94-2.06 2.06-.94-2.06-.94L8.5 2.5l-.94 2.06-2.06.94zm10 10l.94 2.06.94-2.06 2.06-.94-2.06-.94-.94-2.06-.94 2.06-2.06.94z\"/><path d=\"M17.41 7.96l-1.37-1.37c-.4-.4-.92-.59-1.43-.59-.52 0-1.04.2-1.43.59L10.3 9.45l-7.72 7.72c-.78.78-.78 2.05 0 2.83L4 21.41c.39.39.9.59 1.41.59.51 0 1.02-.2 1.41-.59l7.78-7.78 2.81-2.81c.8-.78.8-2.07 0-2.86zM5.41 20L4 18.59l7.72-7.72 1.47 1.35L5.41 20z\"/>\n",
              "  </svg>\n",
              "      </button>\n",
              "      \n",
              "  <style>\n",
              "    .colab-df-container {\n",
              "      display:flex;\n",
              "      flex-wrap:wrap;\n",
              "      gap: 12px;\n",
              "    }\n",
              "\n",
              "    .colab-df-convert {\n",
              "      background-color: #E8F0FE;\n",
              "      border: none;\n",
              "      border-radius: 50%;\n",
              "      cursor: pointer;\n",
              "      display: none;\n",
              "      fill: #1967D2;\n",
              "      height: 32px;\n",
              "      padding: 0 0 0 0;\n",
              "      width: 32px;\n",
              "    }\n",
              "\n",
              "    .colab-df-convert:hover {\n",
              "      background-color: #E2EBFA;\n",
              "      box-shadow: 0px 1px 2px rgba(60, 64, 67, 0.3), 0px 1px 3px 1px rgba(60, 64, 67, 0.15);\n",
              "      fill: #174EA6;\n",
              "    }\n",
              "\n",
              "    [theme=dark] .colab-df-convert {\n",
              "      background-color: #3B4455;\n",
              "      fill: #D2E3FC;\n",
              "    }\n",
              "\n",
              "    [theme=dark] .colab-df-convert:hover {\n",
              "      background-color: #434B5C;\n",
              "      box-shadow: 0px 1px 3px 1px rgba(0, 0, 0, 0.15);\n",
              "      filter: drop-shadow(0px 1px 2px rgba(0, 0, 0, 0.3));\n",
              "      fill: #FFFFFF;\n",
              "    }\n",
              "  </style>\n",
              "\n",
              "      <script>\n",
              "        const buttonEl =\n",
              "          document.querySelector('#df-1e4a858c-5f7c-420c-a9c2-dfec9cbe4593 button.colab-df-convert');\n",
              "        buttonEl.style.display =\n",
              "          google.colab.kernel.accessAllowed ? 'block' : 'none';\n",
              "\n",
              "        async function convertToInteractive(key) {\n",
              "          const element = document.querySelector('#df-1e4a858c-5f7c-420c-a9c2-dfec9cbe4593');\n",
              "          const dataTable =\n",
              "            await google.colab.kernel.invokeFunction('convertToInteractive',\n",
              "                                                     [key], {});\n",
              "          if (!dataTable) return;\n",
              "\n",
              "          const docLinkHtml = 'Like what you see? Visit the ' +\n",
              "            '<a target=\"_blank\" href=https://colab.research.google.com/notebooks/data_table.ipynb>data table notebook</a>'\n",
              "            + ' to learn more about interactive tables.';\n",
              "          element.innerHTML = '';\n",
              "          dataTable['output_type'] = 'display_data';\n",
              "          await google.colab.output.renderOutput(dataTable, element);\n",
              "          const docLink = document.createElement('div');\n",
              "          docLink.innerHTML = docLinkHtml;\n",
              "          element.appendChild(docLink);\n",
              "        }\n",
              "      </script>\n",
              "    </div>\n",
              "  </div>\n",
              "  "
            ]
          },
          "metadata": {},
          "execution_count": 46
        }
      ]
    },
    {
      "cell_type": "code",
      "source": [
        "df_close_btc.nunique()"
      ],
      "metadata": {
        "id": "D8sDDPaiCjrm",
        "outputId": "89b67bb8-c8d8-4b5a-8b92-2173582d163f",
        "colab": {
          "base_uri": "https://localhost:8080/"
        }
      },
      "execution_count": 47,
      "outputs": [
        {
          "output_type": "execute_result",
          "data": {
            "text/plain": [
              "Close_index             204\n",
              "Close Position ID       204\n",
              "Close Datetime          134\n",
              "Close Date_x             34\n",
              "Close Action              1\n",
              "Close Units             203\n",
              "Close Amount_Eur        204\n",
              "Close Rate_Eur          135\n",
              "close_unix_timestamp    134\n",
              "dtype: int64"
            ]
          },
          "metadata": {},
          "execution_count": 47
        }
      ]
    },
    {
      "cell_type": "code",
      "source": [
        "close_unit_index = 0\n",
        "close_unit_index = close_unit_index + 0 if df_close_btc.loc[close_unit_index, 'Close Units'] > 0 else 1 \n",
        "# How to set up an upper limit on this variable??"
      ],
      "metadata": {
        "id": "KtoWJZJ8QyDB"
      },
      "execution_count": 63,
      "outputs": []
    },
    {
      "cell_type": "code",
      "source": [
        "zeroth_close_units_btc = df_close_btc.loc[0,'Close Units']\n",
        "zeroth_close_units_btc"
      ],
      "metadata": {
        "id": "1Z_TLiyaCsAY",
        "outputId": "95e65334-2d92-45a4-e5ce-1baf1e6ddbd6",
        "colab": {
          "base_uri": "https://localhost:8080/"
        }
      },
      "execution_count": 64,
      "outputs": [
        {
          "output_type": "execute_result",
          "data": {
            "text/plain": [
              "0.014149"
            ]
          },
          "metadata": {},
          "execution_count": 64
        }
      ]
    },
    {
      "cell_type": "code",
      "source": [
        "elementNumber_close_units_btc = df_close_btc.loc[close_unit_index,'Close Units']\n",
        "elementNumber_close_units_btc"
      ],
      "metadata": {
        "id": "zLiD5ntgShtv",
        "outputId": "c9175377-8fdc-485f-f9a0-c55fb4d3aaa1",
        "colab": {
          "base_uri": "https://localhost:8080/"
        }
      },
      "execution_count": 65,
      "outputs": [
        {
          "output_type": "execute_result",
          "data": {
            "text/plain": [
              "0.014149"
            ]
          },
          "metadata": {},
          "execution_count": 65
        }
      ]
    },
    {
      "cell_type": "code",
      "source": [
        "df_close_btc[0:1]"
      ],
      "metadata": {
        "id": "xXRCNW-gQJbo",
        "outputId": "bcbda0a6-1cec-46a9-82d1-8dfed4abb0b1",
        "colab": {
          "base_uri": "https://localhost:8080/",
          "height": 124
        }
      },
      "execution_count": 62,
      "outputs": [
        {
          "output_type": "execute_result",
          "data": {
            "text/plain": [
              "   Close_index  Close Position ID      Close Datetime Close Date_x  \\\n",
              "0            0          599996081 2020-05-01 11:44:24   2020-05-01   \n",
              "\n",
              "  Close Action  Close Units  Close Amount_Eur  Close Rate_Eur  \\\n",
              "0  Buy Bitcoin     0.014149        115.062682     8194.258482   \n",
              "\n",
              "   close_unix_timestamp  \n",
              "0            1588333464  "
            ],
            "text/html": [
              "\n",
              "  <div id=\"df-191b45fc-a3b3-489f-9f64-d141677013a9\">\n",
              "    <div class=\"colab-df-container\">\n",
              "      <div>\n",
              "<style scoped>\n",
              "    .dataframe tbody tr th:only-of-type {\n",
              "        vertical-align: middle;\n",
              "    }\n",
              "\n",
              "    .dataframe tbody tr th {\n",
              "        vertical-align: top;\n",
              "    }\n",
              "\n",
              "    .dataframe thead th {\n",
              "        text-align: right;\n",
              "    }\n",
              "</style>\n",
              "<table border=\"1\" class=\"dataframe\">\n",
              "  <thead>\n",
              "    <tr style=\"text-align: right;\">\n",
              "      <th></th>\n",
              "      <th>Close_index</th>\n",
              "      <th>Close Position ID</th>\n",
              "      <th>Close Datetime</th>\n",
              "      <th>Close Date_x</th>\n",
              "      <th>Close Action</th>\n",
              "      <th>Close Units</th>\n",
              "      <th>Close Amount_Eur</th>\n",
              "      <th>Close Rate_Eur</th>\n",
              "      <th>close_unix_timestamp</th>\n",
              "    </tr>\n",
              "  </thead>\n",
              "  <tbody>\n",
              "    <tr>\n",
              "      <th>0</th>\n",
              "      <td>0</td>\n",
              "      <td>599996081</td>\n",
              "      <td>2020-05-01 11:44:24</td>\n",
              "      <td>2020-05-01</td>\n",
              "      <td>Buy Bitcoin</td>\n",
              "      <td>0.014149</td>\n",
              "      <td>115.062682</td>\n",
              "      <td>8194.258482</td>\n",
              "      <td>1588333464</td>\n",
              "    </tr>\n",
              "  </tbody>\n",
              "</table>\n",
              "</div>\n",
              "      <button class=\"colab-df-convert\" onclick=\"convertToInteractive('df-191b45fc-a3b3-489f-9f64-d141677013a9')\"\n",
              "              title=\"Convert this dataframe to an interactive table.\"\n",
              "              style=\"display:none;\">\n",
              "        \n",
              "  <svg xmlns=\"http://www.w3.org/2000/svg\" height=\"24px\"viewBox=\"0 0 24 24\"\n",
              "       width=\"24px\">\n",
              "    <path d=\"M0 0h24v24H0V0z\" fill=\"none\"/>\n",
              "    <path d=\"M18.56 5.44l.94 2.06.94-2.06 2.06-.94-2.06-.94-.94-2.06-.94 2.06-2.06.94zm-11 1L8.5 8.5l.94-2.06 2.06-.94-2.06-.94L8.5 2.5l-.94 2.06-2.06.94zm10 10l.94 2.06.94-2.06 2.06-.94-2.06-.94-.94-2.06-.94 2.06-2.06.94z\"/><path d=\"M17.41 7.96l-1.37-1.37c-.4-.4-.92-.59-1.43-.59-.52 0-1.04.2-1.43.59L10.3 9.45l-7.72 7.72c-.78.78-.78 2.05 0 2.83L4 21.41c.39.39.9.59 1.41.59.51 0 1.02-.2 1.41-.59l7.78-7.78 2.81-2.81c.8-.78.8-2.07 0-2.86zM5.41 20L4 18.59l7.72-7.72 1.47 1.35L5.41 20z\"/>\n",
              "  </svg>\n",
              "      </button>\n",
              "      \n",
              "  <style>\n",
              "    .colab-df-container {\n",
              "      display:flex;\n",
              "      flex-wrap:wrap;\n",
              "      gap: 12px;\n",
              "    }\n",
              "\n",
              "    .colab-df-convert {\n",
              "      background-color: #E8F0FE;\n",
              "      border: none;\n",
              "      border-radius: 50%;\n",
              "      cursor: pointer;\n",
              "      display: none;\n",
              "      fill: #1967D2;\n",
              "      height: 32px;\n",
              "      padding: 0 0 0 0;\n",
              "      width: 32px;\n",
              "    }\n",
              "\n",
              "    .colab-df-convert:hover {\n",
              "      background-color: #E2EBFA;\n",
              "      box-shadow: 0px 1px 2px rgba(60, 64, 67, 0.3), 0px 1px 3px 1px rgba(60, 64, 67, 0.15);\n",
              "      fill: #174EA6;\n",
              "    }\n",
              "\n",
              "    [theme=dark] .colab-df-convert {\n",
              "      background-color: #3B4455;\n",
              "      fill: #D2E3FC;\n",
              "    }\n",
              "\n",
              "    [theme=dark] .colab-df-convert:hover {\n",
              "      background-color: #434B5C;\n",
              "      box-shadow: 0px 1px 3px 1px rgba(0, 0, 0, 0.15);\n",
              "      filter: drop-shadow(0px 1px 2px rgba(0, 0, 0, 0.3));\n",
              "      fill: #FFFFFF;\n",
              "    }\n",
              "  </style>\n",
              "\n",
              "      <script>\n",
              "        const buttonEl =\n",
              "          document.querySelector('#df-191b45fc-a3b3-489f-9f64-d141677013a9 button.colab-df-convert');\n",
              "        buttonEl.style.display =\n",
              "          google.colab.kernel.accessAllowed ? 'block' : 'none';\n",
              "\n",
              "        async function convertToInteractive(key) {\n",
              "          const element = document.querySelector('#df-191b45fc-a3b3-489f-9f64-d141677013a9');\n",
              "          const dataTable =\n",
              "            await google.colab.kernel.invokeFunction('convertToInteractive',\n",
              "                                                     [key], {});\n",
              "          if (!dataTable) return;\n",
              "\n",
              "          const docLinkHtml = 'Like what you see? Visit the ' +\n",
              "            '<a target=\"_blank\" href=https://colab.research.google.com/notebooks/data_table.ipynb>data table notebook</a>'\n",
              "            + ' to learn more about interactive tables.';\n",
              "          element.innerHTML = '';\n",
              "          dataTable['output_type'] = 'display_data';\n",
              "          await google.colab.output.renderOutput(dataTable, element);\n",
              "          const docLink = document.createElement('div');\n",
              "          docLink.innerHTML = docLinkHtml;\n",
              "          element.appendChild(docLink);\n",
              "        }\n",
              "      </script>\n",
              "    </div>\n",
              "  </div>\n",
              "  "
            ]
          },
          "metadata": {},
          "execution_count": 62
        }
      ]
    },
    {
      "cell_type": "code",
      "source": [
        "df_close_btc[close_unit_index:(close_unit_index+1)]"
      ],
      "metadata": {
        "id": "kHP6jJLxUW6K",
        "outputId": "a87b00de-b5d4-4202-b3aa-ffd4345dc104",
        "colab": {
          "base_uri": "https://localhost:8080/",
          "height": 124
        }
      },
      "execution_count": 66,
      "outputs": [
        {
          "output_type": "execute_result",
          "data": {
            "text/plain": [
              "   Close_index  Close Position ID      Close Datetime Close Date_x  \\\n",
              "0            0          599996081 2020-05-01 11:44:24   2020-05-01   \n",
              "\n",
              "  Close Action  Close Units  Close Amount_Eur  Close Rate_Eur  \\\n",
              "0  Buy Bitcoin     0.014149        115.062682     8194.258482   \n",
              "\n",
              "   close_unix_timestamp  \n",
              "0            1588333464  "
            ],
            "text/html": [
              "\n",
              "  <div id=\"df-0963308e-d54d-4217-ba2d-c755c2310cb4\">\n",
              "    <div class=\"colab-df-container\">\n",
              "      <div>\n",
              "<style scoped>\n",
              "    .dataframe tbody tr th:only-of-type {\n",
              "        vertical-align: middle;\n",
              "    }\n",
              "\n",
              "    .dataframe tbody tr th {\n",
              "        vertical-align: top;\n",
              "    }\n",
              "\n",
              "    .dataframe thead th {\n",
              "        text-align: right;\n",
              "    }\n",
              "</style>\n",
              "<table border=\"1\" class=\"dataframe\">\n",
              "  <thead>\n",
              "    <tr style=\"text-align: right;\">\n",
              "      <th></th>\n",
              "      <th>Close_index</th>\n",
              "      <th>Close Position ID</th>\n",
              "      <th>Close Datetime</th>\n",
              "      <th>Close Date_x</th>\n",
              "      <th>Close Action</th>\n",
              "      <th>Close Units</th>\n",
              "      <th>Close Amount_Eur</th>\n",
              "      <th>Close Rate_Eur</th>\n",
              "      <th>close_unix_timestamp</th>\n",
              "    </tr>\n",
              "  </thead>\n",
              "  <tbody>\n",
              "    <tr>\n",
              "      <th>0</th>\n",
              "      <td>0</td>\n",
              "      <td>599996081</td>\n",
              "      <td>2020-05-01 11:44:24</td>\n",
              "      <td>2020-05-01</td>\n",
              "      <td>Buy Bitcoin</td>\n",
              "      <td>0.014149</td>\n",
              "      <td>115.062682</td>\n",
              "      <td>8194.258482</td>\n",
              "      <td>1588333464</td>\n",
              "    </tr>\n",
              "  </tbody>\n",
              "</table>\n",
              "</div>\n",
              "      <button class=\"colab-df-convert\" onclick=\"convertToInteractive('df-0963308e-d54d-4217-ba2d-c755c2310cb4')\"\n",
              "              title=\"Convert this dataframe to an interactive table.\"\n",
              "              style=\"display:none;\">\n",
              "        \n",
              "  <svg xmlns=\"http://www.w3.org/2000/svg\" height=\"24px\"viewBox=\"0 0 24 24\"\n",
              "       width=\"24px\">\n",
              "    <path d=\"M0 0h24v24H0V0z\" fill=\"none\"/>\n",
              "    <path d=\"M18.56 5.44l.94 2.06.94-2.06 2.06-.94-2.06-.94-.94-2.06-.94 2.06-2.06.94zm-11 1L8.5 8.5l.94-2.06 2.06-.94-2.06-.94L8.5 2.5l-.94 2.06-2.06.94zm10 10l.94 2.06.94-2.06 2.06-.94-2.06-.94-.94-2.06-.94 2.06-2.06.94z\"/><path d=\"M17.41 7.96l-1.37-1.37c-.4-.4-.92-.59-1.43-.59-.52 0-1.04.2-1.43.59L10.3 9.45l-7.72 7.72c-.78.78-.78 2.05 0 2.83L4 21.41c.39.39.9.59 1.41.59.51 0 1.02-.2 1.41-.59l7.78-7.78 2.81-2.81c.8-.78.8-2.07 0-2.86zM5.41 20L4 18.59l7.72-7.72 1.47 1.35L5.41 20z\"/>\n",
              "  </svg>\n",
              "      </button>\n",
              "      \n",
              "  <style>\n",
              "    .colab-df-container {\n",
              "      display:flex;\n",
              "      flex-wrap:wrap;\n",
              "      gap: 12px;\n",
              "    }\n",
              "\n",
              "    .colab-df-convert {\n",
              "      background-color: #E8F0FE;\n",
              "      border: none;\n",
              "      border-radius: 50%;\n",
              "      cursor: pointer;\n",
              "      display: none;\n",
              "      fill: #1967D2;\n",
              "      height: 32px;\n",
              "      padding: 0 0 0 0;\n",
              "      width: 32px;\n",
              "    }\n",
              "\n",
              "    .colab-df-convert:hover {\n",
              "      background-color: #E2EBFA;\n",
              "      box-shadow: 0px 1px 2px rgba(60, 64, 67, 0.3), 0px 1px 3px 1px rgba(60, 64, 67, 0.15);\n",
              "      fill: #174EA6;\n",
              "    }\n",
              "\n",
              "    [theme=dark] .colab-df-convert {\n",
              "      background-color: #3B4455;\n",
              "      fill: #D2E3FC;\n",
              "    }\n",
              "\n",
              "    [theme=dark] .colab-df-convert:hover {\n",
              "      background-color: #434B5C;\n",
              "      box-shadow: 0px 1px 3px 1px rgba(0, 0, 0, 0.15);\n",
              "      filter: drop-shadow(0px 1px 2px rgba(0, 0, 0, 0.3));\n",
              "      fill: #FFFFFF;\n",
              "    }\n",
              "  </style>\n",
              "\n",
              "      <script>\n",
              "        const buttonEl =\n",
              "          document.querySelector('#df-0963308e-d54d-4217-ba2d-c755c2310cb4 button.colab-df-convert');\n",
              "        buttonEl.style.display =\n",
              "          google.colab.kernel.accessAllowed ? 'block' : 'none';\n",
              "\n",
              "        async function convertToInteractive(key) {\n",
              "          const element = document.querySelector('#df-0963308e-d54d-4217-ba2d-c755c2310cb4');\n",
              "          const dataTable =\n",
              "            await google.colab.kernel.invokeFunction('convertToInteractive',\n",
              "                                                     [key], {});\n",
              "          if (!dataTable) return;\n",
              "\n",
              "          const docLinkHtml = 'Like what you see? Visit the ' +\n",
              "            '<a target=\"_blank\" href=https://colab.research.google.com/notebooks/data_table.ipynb>data table notebook</a>'\n",
              "            + ' to learn more about interactive tables.';\n",
              "          element.innerHTML = '';\n",
              "          dataTable['output_type'] = 'display_data';\n",
              "          await google.colab.output.renderOutput(dataTable, element);\n",
              "          const docLink = document.createElement('div');\n",
              "          docLink.innerHTML = docLinkHtml;\n",
              "          element.appendChild(docLink);\n",
              "        }\n",
              "      </script>\n",
              "    </div>\n",
              "  </div>\n",
              "  "
            ]
          },
          "metadata": {},
          "execution_count": 66
        }
      ]
    },
    {
      "cell_type": "code",
      "source": [
        "zeroth_close_datetime_btc = df_close_btc.loc[0,'Close Datetime']\n",
        "zeroth_close_datetime_btc"
      ],
      "metadata": {
        "id": "uR2aC0GtC-v4",
        "outputId": "ec15431b-d699-456a-8544-1d55e1c9656e",
        "colab": {
          "base_uri": "https://localhost:8080/"
        }
      },
      "execution_count": 49,
      "outputs": [
        {
          "output_type": "execute_result",
          "data": {
            "text/plain": [
              "Timestamp('2020-05-01 11:44:24')"
            ]
          },
          "metadata": {},
          "execution_count": 49
        }
      ]
    },
    {
      "cell_type": "code",
      "source": [
        "close_unit_index_th_close_datetime_btc = df_close_btc.loc[close_unit_index,'Close Datetime']\n",
        "close_unit_index_th_close_datetime_btc"
      ],
      "metadata": {
        "id": "mrifzx1LUpB7",
        "outputId": "51ae61ef-198a-4571-c476-95f158739087",
        "colab": {
          "base_uri": "https://localhost:8080/"
        }
      },
      "execution_count": 69,
      "outputs": [
        {
          "output_type": "execute_result",
          "data": {
            "text/plain": [
              "Timestamp('2020-05-01 11:44:24')"
            ]
          },
          "metadata": {},
          "execution_count": 69
        }
      ]
    },
    {
      "cell_type": "code",
      "source": [
        "lifo_open_datetime_btc_last = df_open_btc['Open Datetime'][df_open_btc['Open Datetime'] < zeroth_close_datetime_btc]\n",
        "lifo_open_datetime_btc_last"
      ],
      "metadata": {
        "id": "9KI0VNqhDNAH",
        "outputId": "6e8a5fff-949c-4a7d-8f11-d0898343064d",
        "colab": {
          "base_uri": "https://localhost:8080/"
        }
      },
      "execution_count": 50,
      "outputs": [
        {
          "output_type": "execute_result",
          "data": {
            "text/plain": [
              "0    2020-04-17 13:09:20\n",
              "1    2020-04-17 18:42:42\n",
              "2    2020-04-18 13:49:32\n",
              "3    2020-04-18 16:48:30\n",
              "4    2020-04-18 21:07:10\n",
              "5    2020-04-18 21:37:57\n",
              "6    2020-04-22 20:35:47\n",
              "7    2020-04-23 18:50:46\n",
              "8    2020-04-24 16:01:10\n",
              "9    2020-04-25 13:22:19\n",
              "10   2020-04-26 12:51:43\n",
              "11   2020-04-29 07:56:58\n",
              "12   2020-04-29 11:16:21\n",
              "13   2020-04-29 17:24:05\n",
              "14   2020-04-29 17:32:01\n",
              "15   2020-04-29 17:33:23\n",
              "16   2020-04-29 17:44:04\n",
              "17   2020-04-29 17:44:59\n",
              "18   2020-04-29 17:47:17\n",
              "19   2020-04-29 20:13:24\n",
              "20   2020-04-29 22:03:24\n",
              "21   2020-04-29 22:11:30\n",
              "22   2020-04-29 22:13:34\n",
              "23   2020-04-30 04:00:56\n",
              "24   2020-04-30 04:01:39\n",
              "25   2020-04-30 04:02:13\n",
              "26   2020-04-30 04:07:57\n",
              "27   2020-04-30 04:08:05\n",
              "28   2020-04-30 04:08:23\n",
              "29   2020-04-30 04:13:53\n",
              "30   2020-04-30 04:14:49\n",
              "31   2020-04-30 10:04:41\n",
              "32   2020-04-30 19:14:44\n",
              "Name: Open Datetime, dtype: datetime64[ns]"
            ]
          },
          "metadata": {},
          "execution_count": 50
        }
      ]
    },
    {
      "cell_type": "code",
      "source": [
        "lifo_open_datetime_btc_last_element = df_open_btc['Open Datetime'][df_open_btc['Open Datetime'] < close_unit_index_th_close_datetime_btc]"
      ],
      "metadata": {
        "id": "pkd38nTplX0p"
      },
      "execution_count": 70,
      "outputs": []
    },
    {
      "cell_type": "code",
      "source": [
        "lifo_open_datetime_btc_last.max()"
      ],
      "metadata": {
        "id": "FuB_8EiEG6yb",
        "outputId": "452ce26c-cfc8-4cc2-f174-ac2ef501c3b7",
        "colab": {
          "base_uri": "https://localhost:8080/"
        }
      },
      "execution_count": 53,
      "outputs": [
        {
          "output_type": "execute_result",
          "data": {
            "text/plain": [
              "Timestamp('2020-04-30 19:14:44')"
            ]
          },
          "metadata": {},
          "execution_count": 53
        }
      ]
    },
    {
      "cell_type": "code",
      "source": [
        "lifo_open_datetime_btc_last_element.max()"
      ],
      "metadata": {
        "id": "9pu4ADsCrI1v",
        "outputId": "0704b077-8e2a-4885-aa26-78f77f39c240",
        "colab": {
          "base_uri": "https://localhost:8080/"
        }
      },
      "execution_count": 71,
      "outputs": [
        {
          "output_type": "execute_result",
          "data": {
            "text/plain": [
              "Timestamp('2020-04-30 19:14:44')"
            ]
          },
          "metadata": {},
          "execution_count": 71
        }
      ]
    },
    {
      "cell_type": "code",
      "source": [
        "df_lifo_row_last = df_open_btc[df_open_btc['Open Datetime'] == lifo_open_datetime_btc_last.max()]"
      ],
      "metadata": {
        "id": "p-olP-bSEzPD"
      },
      "execution_count": 55,
      "outputs": []
    },
    {
      "cell_type": "code",
      "source": [
        "df_lifo_latsest_last_row = df_open_btc[df_open_btc['Open Datetime'] == lifo_open_datetime_btc_last_element.max()]"
      ],
      "metadata": {
        "id": "fcwLDcbdrTjo"
      },
      "execution_count": 72,
      "outputs": []
    },
    {
      "cell_type": "code",
      "source": [
        "df_lifo_row_last"
      ],
      "metadata": {
        "id": "AjnuXQDvHc66",
        "outputId": "aeb313c1-c8bf-4d06-cfe1-aeaf9c331230",
        "colab": {
          "base_uri": "https://localhost:8080/",
          "height": 81
        }
      },
      "execution_count": 56,
      "outputs": [
        {
          "output_type": "execute_result",
          "data": {
            "text/plain": [
              "    Open_index  Open_Position ID       Open Datetime Open Date_x  Open Action  \\\n",
              "32          54         611192720 2020-04-30 19:14:44  2020-04-30  Buy Bitcoin   \n",
              "\n",
              "    Open Units  Open Amount_Eur  Open Rate_Eur  open_unix_timestamp  \n",
              "32    0.002861        23.071989    8062.921929           1588274084  "
            ],
            "text/html": [
              "\n",
              "  <div id=\"df-8067b97f-d7fd-4413-a95f-a63c914a3b07\">\n",
              "    <div class=\"colab-df-container\">\n",
              "      <div>\n",
              "<style scoped>\n",
              "    .dataframe tbody tr th:only-of-type {\n",
              "        vertical-align: middle;\n",
              "    }\n",
              "\n",
              "    .dataframe tbody tr th {\n",
              "        vertical-align: top;\n",
              "    }\n",
              "\n",
              "    .dataframe thead th {\n",
              "        text-align: right;\n",
              "    }\n",
              "</style>\n",
              "<table border=\"1\" class=\"dataframe\">\n",
              "  <thead>\n",
              "    <tr style=\"text-align: right;\">\n",
              "      <th></th>\n",
              "      <th>Open_index</th>\n",
              "      <th>Open_Position ID</th>\n",
              "      <th>Open Datetime</th>\n",
              "      <th>Open Date_x</th>\n",
              "      <th>Open Action</th>\n",
              "      <th>Open Units</th>\n",
              "      <th>Open Amount_Eur</th>\n",
              "      <th>Open Rate_Eur</th>\n",
              "      <th>open_unix_timestamp</th>\n",
              "    </tr>\n",
              "  </thead>\n",
              "  <tbody>\n",
              "    <tr>\n",
              "      <th>32</th>\n",
              "      <td>54</td>\n",
              "      <td>611192720</td>\n",
              "      <td>2020-04-30 19:14:44</td>\n",
              "      <td>2020-04-30</td>\n",
              "      <td>Buy Bitcoin</td>\n",
              "      <td>0.002861</td>\n",
              "      <td>23.071989</td>\n",
              "      <td>8062.921929</td>\n",
              "      <td>1588274084</td>\n",
              "    </tr>\n",
              "  </tbody>\n",
              "</table>\n",
              "</div>\n",
              "      <button class=\"colab-df-convert\" onclick=\"convertToInteractive('df-8067b97f-d7fd-4413-a95f-a63c914a3b07')\"\n",
              "              title=\"Convert this dataframe to an interactive table.\"\n",
              "              style=\"display:none;\">\n",
              "        \n",
              "  <svg xmlns=\"http://www.w3.org/2000/svg\" height=\"24px\"viewBox=\"0 0 24 24\"\n",
              "       width=\"24px\">\n",
              "    <path d=\"M0 0h24v24H0V0z\" fill=\"none\"/>\n",
              "    <path d=\"M18.56 5.44l.94 2.06.94-2.06 2.06-.94-2.06-.94-.94-2.06-.94 2.06-2.06.94zm-11 1L8.5 8.5l.94-2.06 2.06-.94-2.06-.94L8.5 2.5l-.94 2.06-2.06.94zm10 10l.94 2.06.94-2.06 2.06-.94-2.06-.94-.94-2.06-.94 2.06-2.06.94z\"/><path d=\"M17.41 7.96l-1.37-1.37c-.4-.4-.92-.59-1.43-.59-.52 0-1.04.2-1.43.59L10.3 9.45l-7.72 7.72c-.78.78-.78 2.05 0 2.83L4 21.41c.39.39.9.59 1.41.59.51 0 1.02-.2 1.41-.59l7.78-7.78 2.81-2.81c.8-.78.8-2.07 0-2.86zM5.41 20L4 18.59l7.72-7.72 1.47 1.35L5.41 20z\"/>\n",
              "  </svg>\n",
              "      </button>\n",
              "      \n",
              "  <style>\n",
              "    .colab-df-container {\n",
              "      display:flex;\n",
              "      flex-wrap:wrap;\n",
              "      gap: 12px;\n",
              "    }\n",
              "\n",
              "    .colab-df-convert {\n",
              "      background-color: #E8F0FE;\n",
              "      border: none;\n",
              "      border-radius: 50%;\n",
              "      cursor: pointer;\n",
              "      display: none;\n",
              "      fill: #1967D2;\n",
              "      height: 32px;\n",
              "      padding: 0 0 0 0;\n",
              "      width: 32px;\n",
              "    }\n",
              "\n",
              "    .colab-df-convert:hover {\n",
              "      background-color: #E2EBFA;\n",
              "      box-shadow: 0px 1px 2px rgba(60, 64, 67, 0.3), 0px 1px 3px 1px rgba(60, 64, 67, 0.15);\n",
              "      fill: #174EA6;\n",
              "    }\n",
              "\n",
              "    [theme=dark] .colab-df-convert {\n",
              "      background-color: #3B4455;\n",
              "      fill: #D2E3FC;\n",
              "    }\n",
              "\n",
              "    [theme=dark] .colab-df-convert:hover {\n",
              "      background-color: #434B5C;\n",
              "      box-shadow: 0px 1px 3px 1px rgba(0, 0, 0, 0.15);\n",
              "      filter: drop-shadow(0px 1px 2px rgba(0, 0, 0, 0.3));\n",
              "      fill: #FFFFFF;\n",
              "    }\n",
              "  </style>\n",
              "\n",
              "      <script>\n",
              "        const buttonEl =\n",
              "          document.querySelector('#df-8067b97f-d7fd-4413-a95f-a63c914a3b07 button.colab-df-convert');\n",
              "        buttonEl.style.display =\n",
              "          google.colab.kernel.accessAllowed ? 'block' : 'none';\n",
              "\n",
              "        async function convertToInteractive(key) {\n",
              "          const element = document.querySelector('#df-8067b97f-d7fd-4413-a95f-a63c914a3b07');\n",
              "          const dataTable =\n",
              "            await google.colab.kernel.invokeFunction('convertToInteractive',\n",
              "                                                     [key], {});\n",
              "          if (!dataTable) return;\n",
              "\n",
              "          const docLinkHtml = 'Like what you see? Visit the ' +\n",
              "            '<a target=\"_blank\" href=https://colab.research.google.com/notebooks/data_table.ipynb>data table notebook</a>'\n",
              "            + ' to learn more about interactive tables.';\n",
              "          element.innerHTML = '';\n",
              "          dataTable['output_type'] = 'display_data';\n",
              "          await google.colab.output.renderOutput(dataTable, element);\n",
              "          const docLink = document.createElement('div');\n",
              "          docLink.innerHTML = docLinkHtml;\n",
              "          element.appendChild(docLink);\n",
              "        }\n",
              "      </script>\n",
              "    </div>\n",
              "  </div>\n",
              "  "
            ]
          },
          "metadata": {},
          "execution_count": 56
        }
      ]
    },
    {
      "cell_type": "code",
      "source": [
        "df_lifo_latsest_last_row"
      ],
      "metadata": {
        "id": "XNyGtc_fr7qu",
        "outputId": "af7672f3-a3ba-4cc0-b006-cf57b3125e24",
        "colab": {
          "base_uri": "https://localhost:8080/",
          "height": 81
        }
      },
      "execution_count": 73,
      "outputs": [
        {
          "output_type": "execute_result",
          "data": {
            "text/plain": [
              "    Open_index  Open_Position ID       Open Datetime Open Date_x  Open Action  \\\n",
              "32          54         611192720 2020-04-30 19:14:44  2020-04-30  Buy Bitcoin   \n",
              "\n",
              "    Open Units  Open Amount_Eur  Open Rate_Eur  open_unix_timestamp  \n",
              "32    0.002861        23.071989    8062.921929           1588274084  "
            ],
            "text/html": [
              "\n",
              "  <div id=\"df-f78bd307-4052-4af9-923a-1fc6f9bb1357\">\n",
              "    <div class=\"colab-df-container\">\n",
              "      <div>\n",
              "<style scoped>\n",
              "    .dataframe tbody tr th:only-of-type {\n",
              "        vertical-align: middle;\n",
              "    }\n",
              "\n",
              "    .dataframe tbody tr th {\n",
              "        vertical-align: top;\n",
              "    }\n",
              "\n",
              "    .dataframe thead th {\n",
              "        text-align: right;\n",
              "    }\n",
              "</style>\n",
              "<table border=\"1\" class=\"dataframe\">\n",
              "  <thead>\n",
              "    <tr style=\"text-align: right;\">\n",
              "      <th></th>\n",
              "      <th>Open_index</th>\n",
              "      <th>Open_Position ID</th>\n",
              "      <th>Open Datetime</th>\n",
              "      <th>Open Date_x</th>\n",
              "      <th>Open Action</th>\n",
              "      <th>Open Units</th>\n",
              "      <th>Open Amount_Eur</th>\n",
              "      <th>Open Rate_Eur</th>\n",
              "      <th>open_unix_timestamp</th>\n",
              "    </tr>\n",
              "  </thead>\n",
              "  <tbody>\n",
              "    <tr>\n",
              "      <th>32</th>\n",
              "      <td>54</td>\n",
              "      <td>611192720</td>\n",
              "      <td>2020-04-30 19:14:44</td>\n",
              "      <td>2020-04-30</td>\n",
              "      <td>Buy Bitcoin</td>\n",
              "      <td>0.002861</td>\n",
              "      <td>23.071989</td>\n",
              "      <td>8062.921929</td>\n",
              "      <td>1588274084</td>\n",
              "    </tr>\n",
              "  </tbody>\n",
              "</table>\n",
              "</div>\n",
              "      <button class=\"colab-df-convert\" onclick=\"convertToInteractive('df-f78bd307-4052-4af9-923a-1fc6f9bb1357')\"\n",
              "              title=\"Convert this dataframe to an interactive table.\"\n",
              "              style=\"display:none;\">\n",
              "        \n",
              "  <svg xmlns=\"http://www.w3.org/2000/svg\" height=\"24px\"viewBox=\"0 0 24 24\"\n",
              "       width=\"24px\">\n",
              "    <path d=\"M0 0h24v24H0V0z\" fill=\"none\"/>\n",
              "    <path d=\"M18.56 5.44l.94 2.06.94-2.06 2.06-.94-2.06-.94-.94-2.06-.94 2.06-2.06.94zm-11 1L8.5 8.5l.94-2.06 2.06-.94-2.06-.94L8.5 2.5l-.94 2.06-2.06.94zm10 10l.94 2.06.94-2.06 2.06-.94-2.06-.94-.94-2.06-.94 2.06-2.06.94z\"/><path d=\"M17.41 7.96l-1.37-1.37c-.4-.4-.92-.59-1.43-.59-.52 0-1.04.2-1.43.59L10.3 9.45l-7.72 7.72c-.78.78-.78 2.05 0 2.83L4 21.41c.39.39.9.59 1.41.59.51 0 1.02-.2 1.41-.59l7.78-7.78 2.81-2.81c.8-.78.8-2.07 0-2.86zM5.41 20L4 18.59l7.72-7.72 1.47 1.35L5.41 20z\"/>\n",
              "  </svg>\n",
              "      </button>\n",
              "      \n",
              "  <style>\n",
              "    .colab-df-container {\n",
              "      display:flex;\n",
              "      flex-wrap:wrap;\n",
              "      gap: 12px;\n",
              "    }\n",
              "\n",
              "    .colab-df-convert {\n",
              "      background-color: #E8F0FE;\n",
              "      border: none;\n",
              "      border-radius: 50%;\n",
              "      cursor: pointer;\n",
              "      display: none;\n",
              "      fill: #1967D2;\n",
              "      height: 32px;\n",
              "      padding: 0 0 0 0;\n",
              "      width: 32px;\n",
              "    }\n",
              "\n",
              "    .colab-df-convert:hover {\n",
              "      background-color: #E2EBFA;\n",
              "      box-shadow: 0px 1px 2px rgba(60, 64, 67, 0.3), 0px 1px 3px 1px rgba(60, 64, 67, 0.15);\n",
              "      fill: #174EA6;\n",
              "    }\n",
              "\n",
              "    [theme=dark] .colab-df-convert {\n",
              "      background-color: #3B4455;\n",
              "      fill: #D2E3FC;\n",
              "    }\n",
              "\n",
              "    [theme=dark] .colab-df-convert:hover {\n",
              "      background-color: #434B5C;\n",
              "      box-shadow: 0px 1px 3px 1px rgba(0, 0, 0, 0.15);\n",
              "      filter: drop-shadow(0px 1px 2px rgba(0, 0, 0, 0.3));\n",
              "      fill: #FFFFFF;\n",
              "    }\n",
              "  </style>\n",
              "\n",
              "      <script>\n",
              "        const buttonEl =\n",
              "          document.querySelector('#df-f78bd307-4052-4af9-923a-1fc6f9bb1357 button.colab-df-convert');\n",
              "        buttonEl.style.display =\n",
              "          google.colab.kernel.accessAllowed ? 'block' : 'none';\n",
              "\n",
              "        async function convertToInteractive(key) {\n",
              "          const element = document.querySelector('#df-f78bd307-4052-4af9-923a-1fc6f9bb1357');\n",
              "          const dataTable =\n",
              "            await google.colab.kernel.invokeFunction('convertToInteractive',\n",
              "                                                     [key], {});\n",
              "          if (!dataTable) return;\n",
              "\n",
              "          const docLinkHtml = 'Like what you see? Visit the ' +\n",
              "            '<a target=\"_blank\" href=https://colab.research.google.com/notebooks/data_table.ipynb>data table notebook</a>'\n",
              "            + ' to learn more about interactive tables.';\n",
              "          element.innerHTML = '';\n",
              "          dataTable['output_type'] = 'display_data';\n",
              "          await google.colab.output.renderOutput(dataTable, element);\n",
              "          const docLink = document.createElement('div');\n",
              "          docLink.innerHTML = docLinkHtml;\n",
              "          element.appendChild(docLink);\n",
              "        }\n",
              "      </script>\n",
              "    </div>\n",
              "  </div>\n",
              "  "
            ]
          },
          "metadata": {},
          "execution_count": 73
        }
      ]
    },
    {
      "cell_type": "code",
      "source": [
        "df_lifo_latsest_last_row.reset_index(inplace=True)"
      ],
      "metadata": {
        "id": "Raka1-7tz5ij"
      },
      "execution_count": 88,
      "outputs": []
    },
    {
      "cell_type": "code",
      "source": [
        "df_lifo_latsest_last_row.drop('index', axis=1,inplace=True)"
      ],
      "metadata": {
        "id": "eNcndIKb0HrP",
        "outputId": "ec0d6934-7c1b-4608-f6e9-fd9b32df50c6",
        "colab": {
          "base_uri": "https://localhost:8080/"
        }
      },
      "execution_count": 90,
      "outputs": [
        {
          "output_type": "stream",
          "name": "stderr",
          "text": [
            "/usr/local/lib/python3.8/dist-packages/pandas/core/frame.py:4906: SettingWithCopyWarning: \n",
            "A value is trying to be set on a copy of a slice from a DataFrame\n",
            "\n",
            "See the caveats in the documentation: https://pandas.pydata.org/pandas-docs/stable/user_guide/indexing.html#returning-a-view-versus-a-copy\n",
            "  return super().drop(\n"
          ]
        }
      ]
    },
    {
      "cell_type": "code",
      "source": [
        "df_lifo_latsest_last_row"
      ],
      "metadata": {
        "id": "BVJ4HCcK0iSS",
        "outputId": "cd4d4a5d-17c1-459a-f450-139c960df6a9",
        "colab": {
          "base_uri": "https://localhost:8080/",
          "height": 81
        }
      },
      "execution_count": 91,
      "outputs": [
        {
          "output_type": "execute_result",
          "data": {
            "text/plain": [
              "   Open_index  Open_Position ID       Open Datetime Open Date_x  Open Action  \\\n",
              "0          54         611192720 2020-04-30 19:14:44  2020-04-30  Buy Bitcoin   \n",
              "\n",
              "   Open Units  Open Amount_Eur  Open Rate_Eur  open_unix_timestamp  \n",
              "0    0.002861        23.071989    8062.921929           1588274084  "
            ],
            "text/html": [
              "\n",
              "  <div id=\"df-133a6f37-cb08-45c5-833a-1066204125a5\">\n",
              "    <div class=\"colab-df-container\">\n",
              "      <div>\n",
              "<style scoped>\n",
              "    .dataframe tbody tr th:only-of-type {\n",
              "        vertical-align: middle;\n",
              "    }\n",
              "\n",
              "    .dataframe tbody tr th {\n",
              "        vertical-align: top;\n",
              "    }\n",
              "\n",
              "    .dataframe thead th {\n",
              "        text-align: right;\n",
              "    }\n",
              "</style>\n",
              "<table border=\"1\" class=\"dataframe\">\n",
              "  <thead>\n",
              "    <tr style=\"text-align: right;\">\n",
              "      <th></th>\n",
              "      <th>Open_index</th>\n",
              "      <th>Open_Position ID</th>\n",
              "      <th>Open Datetime</th>\n",
              "      <th>Open Date_x</th>\n",
              "      <th>Open Action</th>\n",
              "      <th>Open Units</th>\n",
              "      <th>Open Amount_Eur</th>\n",
              "      <th>Open Rate_Eur</th>\n",
              "      <th>open_unix_timestamp</th>\n",
              "    </tr>\n",
              "  </thead>\n",
              "  <tbody>\n",
              "    <tr>\n",
              "      <th>0</th>\n",
              "      <td>54</td>\n",
              "      <td>611192720</td>\n",
              "      <td>2020-04-30 19:14:44</td>\n",
              "      <td>2020-04-30</td>\n",
              "      <td>Buy Bitcoin</td>\n",
              "      <td>0.002861</td>\n",
              "      <td>23.071989</td>\n",
              "      <td>8062.921929</td>\n",
              "      <td>1588274084</td>\n",
              "    </tr>\n",
              "  </tbody>\n",
              "</table>\n",
              "</div>\n",
              "      <button class=\"colab-df-convert\" onclick=\"convertToInteractive('df-133a6f37-cb08-45c5-833a-1066204125a5')\"\n",
              "              title=\"Convert this dataframe to an interactive table.\"\n",
              "              style=\"display:none;\">\n",
              "        \n",
              "  <svg xmlns=\"http://www.w3.org/2000/svg\" height=\"24px\"viewBox=\"0 0 24 24\"\n",
              "       width=\"24px\">\n",
              "    <path d=\"M0 0h24v24H0V0z\" fill=\"none\"/>\n",
              "    <path d=\"M18.56 5.44l.94 2.06.94-2.06 2.06-.94-2.06-.94-.94-2.06-.94 2.06-2.06.94zm-11 1L8.5 8.5l.94-2.06 2.06-.94-2.06-.94L8.5 2.5l-.94 2.06-2.06.94zm10 10l.94 2.06.94-2.06 2.06-.94-2.06-.94-.94-2.06-.94 2.06-2.06.94z\"/><path d=\"M17.41 7.96l-1.37-1.37c-.4-.4-.92-.59-1.43-.59-.52 0-1.04.2-1.43.59L10.3 9.45l-7.72 7.72c-.78.78-.78 2.05 0 2.83L4 21.41c.39.39.9.59 1.41.59.51 0 1.02-.2 1.41-.59l7.78-7.78 2.81-2.81c.8-.78.8-2.07 0-2.86zM5.41 20L4 18.59l7.72-7.72 1.47 1.35L5.41 20z\"/>\n",
              "  </svg>\n",
              "      </button>\n",
              "      \n",
              "  <style>\n",
              "    .colab-df-container {\n",
              "      display:flex;\n",
              "      flex-wrap:wrap;\n",
              "      gap: 12px;\n",
              "    }\n",
              "\n",
              "    .colab-df-convert {\n",
              "      background-color: #E8F0FE;\n",
              "      border: none;\n",
              "      border-radius: 50%;\n",
              "      cursor: pointer;\n",
              "      display: none;\n",
              "      fill: #1967D2;\n",
              "      height: 32px;\n",
              "      padding: 0 0 0 0;\n",
              "      width: 32px;\n",
              "    }\n",
              "\n",
              "    .colab-df-convert:hover {\n",
              "      background-color: #E2EBFA;\n",
              "      box-shadow: 0px 1px 2px rgba(60, 64, 67, 0.3), 0px 1px 3px 1px rgba(60, 64, 67, 0.15);\n",
              "      fill: #174EA6;\n",
              "    }\n",
              "\n",
              "    [theme=dark] .colab-df-convert {\n",
              "      background-color: #3B4455;\n",
              "      fill: #D2E3FC;\n",
              "    }\n",
              "\n",
              "    [theme=dark] .colab-df-convert:hover {\n",
              "      background-color: #434B5C;\n",
              "      box-shadow: 0px 1px 3px 1px rgba(0, 0, 0, 0.15);\n",
              "      filter: drop-shadow(0px 1px 2px rgba(0, 0, 0, 0.3));\n",
              "      fill: #FFFFFF;\n",
              "    }\n",
              "  </style>\n",
              "\n",
              "      <script>\n",
              "        const buttonEl =\n",
              "          document.querySelector('#df-133a6f37-cb08-45c5-833a-1066204125a5 button.colab-df-convert');\n",
              "        buttonEl.style.display =\n",
              "          google.colab.kernel.accessAllowed ? 'block' : 'none';\n",
              "\n",
              "        async function convertToInteractive(key) {\n",
              "          const element = document.querySelector('#df-133a6f37-cb08-45c5-833a-1066204125a5');\n",
              "          const dataTable =\n",
              "            await google.colab.kernel.invokeFunction('convertToInteractive',\n",
              "                                                     [key], {});\n",
              "          if (!dataTable) return;\n",
              "\n",
              "          const docLinkHtml = 'Like what you see? Visit the ' +\n",
              "            '<a target=\"_blank\" href=https://colab.research.google.com/notebooks/data_table.ipynb>data table notebook</a>'\n",
              "            + ' to learn more about interactive tables.';\n",
              "          element.innerHTML = '';\n",
              "          dataTable['output_type'] = 'display_data';\n",
              "          await google.colab.output.renderOutput(dataTable, element);\n",
              "          const docLink = document.createElement('div');\n",
              "          docLink.innerHTML = docLinkHtml;\n",
              "          element.appendChild(docLink);\n",
              "        }\n",
              "      </script>\n",
              "    </div>\n",
              "  </div>\n",
              "  "
            ]
          },
          "metadata": {},
          "execution_count": 91
        }
      ]
    },
    {
      "cell_type": "code",
      "source": [
        "zeroth_close_units_btc"
      ],
      "metadata": {
        "id": "rmrMx6ATIFPe",
        "outputId": "da8e786c-30d2-4e69-ddb2-fe6290b9b8ed",
        "colab": {
          "base_uri": "https://localhost:8080/"
        }
      },
      "execution_count": 58,
      "outputs": [
        {
          "output_type": "execute_result",
          "data": {
            "text/plain": [
              "0.014149"
            ]
          },
          "metadata": {},
          "execution_count": 58
        }
      ]
    },
    {
      "cell_type": "code",
      "source": [
        "zeroth_close_units_btc >= df_lifo_row_last['Open Units']"
      ],
      "metadata": {
        "id": "jGtAsgvWHykn",
        "outputId": "5bed60bf-c534-4d81-e15e-08d5d04cf31f",
        "colab": {
          "base_uri": "https://localhost:8080/"
        }
      },
      "execution_count": 57,
      "outputs": [
        {
          "output_type": "execute_result",
          "data": {
            "text/plain": [
              "32    True\n",
              "Name: Open Units, dtype: bool"
            ]
          },
          "metadata": {},
          "execution_count": 57
        }
      ]
    },
    {
      "cell_type": "code",
      "source": [
        "elementNumber_close_units_btc >= df_lifo_latsest_last_row['Open Units']"
      ],
      "metadata": {
        "id": "NJD3sRtEsNKQ",
        "outputId": "ca117814-0589-4947-f579-6765e001448e",
        "colab": {
          "base_uri": "https://localhost:8080/"
        }
      },
      "execution_count": 75,
      "outputs": [
        {
          "output_type": "execute_result",
          "data": {
            "text/plain": [
              "32    True\n",
              "Name: Open Units, dtype: bool"
            ]
          },
          "metadata": {},
          "execution_count": 75
        }
      ]
    },
    {
      "cell_type": "code",
      "source": [
        "new_dict_open_half = df_lifo_row_last.to_dict('records')"
      ],
      "metadata": {
        "id": "8s_ukJdLs8s4"
      },
      "execution_count": 77,
      "outputs": []
    },
    {
      "cell_type": "code",
      "source": [
        "new_dict_open_half"
      ],
      "metadata": {
        "id": "kHdn2Xt2u-tG",
        "outputId": "e6b9a2fc-4955-42c2-a18a-3c7b0b1fa36d",
        "colab": {
          "base_uri": "https://localhost:8080/"
        }
      },
      "execution_count": 79,
      "outputs": [
        {
          "output_type": "execute_result",
          "data": {
            "text/plain": [
              "[{'Open_index': 54,\n",
              "  'Open_Position ID': 611192720,\n",
              "  'Open Datetime': Timestamp('2020-04-30 19:14:44'),\n",
              "  'Open Date_x': Timestamp('2020-04-30 00:00:00'),\n",
              "  'Open Action': 'Buy Bitcoin',\n",
              "  'Open Units': 0.002861,\n",
              "  'Open Amount_Eur': 23.07198922,\n",
              "  'Open Rate_Eur': 8062.921929,\n",
              "  'open_unix_timestamp': 1588274084}]"
            ]
          },
          "metadata": {},
          "execution_count": 79
        }
      ]
    },
    {
      "cell_type": "code",
      "source": [
        "newth_dict_open_half = df_lifo_latsest_last_row.to_dict('records')"
      ],
      "metadata": {
        "id": "Lh2Me-7VumEx"
      },
      "execution_count": 78,
      "outputs": []
    },
    {
      "cell_type": "code",
      "source": [
        "newth_dict_open_half"
      ],
      "metadata": {
        "id": "hagPZEcLvCCy",
        "outputId": "568ec51a-1e7e-4b0d-a9dd-258225e982a9",
        "colab": {
          "base_uri": "https://localhost:8080/"
        }
      },
      "execution_count": 80,
      "outputs": [
        {
          "output_type": "execute_result",
          "data": {
            "text/plain": [
              "[{'Open_index': 54,\n",
              "  'Open_Position ID': 611192720,\n",
              "  'Open Datetime': Timestamp('2020-04-30 19:14:44'),\n",
              "  'Open Date_x': Timestamp('2020-04-30 00:00:00'),\n",
              "  'Open Action': 'Buy Bitcoin',\n",
              "  'Open Units': 0.002861,\n",
              "  'Open Amount_Eur': 23.07198922,\n",
              "  'Open Rate_Eur': 8062.921929,\n",
              "  'open_unix_timestamp': 1588274084}]"
            ]
          },
          "metadata": {},
          "execution_count": 80
        }
      ]
    },
    {
      "cell_type": "code",
      "source": [
        "df_new_close_2nd_half = df_close_btc[close_unit_index:(close_unit_index+1)]"
      ],
      "metadata": {
        "id": "eYPd1FilvJxI"
      },
      "execution_count": 81,
      "outputs": []
    },
    {
      "cell_type": "code",
      "source": [
        "df_new_close_2nd_half"
      ],
      "metadata": {
        "id": "x58QbOfXxCkV",
        "outputId": "583fc3f3-9566-4ae6-b075-4d48ab86bc93",
        "colab": {
          "base_uri": "https://localhost:8080/",
          "height": 124
        }
      },
      "execution_count": 82,
      "outputs": [
        {
          "output_type": "execute_result",
          "data": {
            "text/plain": [
              "   Close_index  Close Position ID      Close Datetime Close Date_x  \\\n",
              "0            0          599996081 2020-05-01 11:44:24   2020-05-01   \n",
              "\n",
              "  Close Action  Close Units  Close Amount_Eur  Close Rate_Eur  \\\n",
              "0  Buy Bitcoin     0.014149        115.062682     8194.258482   \n",
              "\n",
              "   close_unix_timestamp  \n",
              "0            1588333464  "
            ],
            "text/html": [
              "\n",
              "  <div id=\"df-0bad403a-c343-4f54-a3d0-02583cd65073\">\n",
              "    <div class=\"colab-df-container\">\n",
              "      <div>\n",
              "<style scoped>\n",
              "    .dataframe tbody tr th:only-of-type {\n",
              "        vertical-align: middle;\n",
              "    }\n",
              "\n",
              "    .dataframe tbody tr th {\n",
              "        vertical-align: top;\n",
              "    }\n",
              "\n",
              "    .dataframe thead th {\n",
              "        text-align: right;\n",
              "    }\n",
              "</style>\n",
              "<table border=\"1\" class=\"dataframe\">\n",
              "  <thead>\n",
              "    <tr style=\"text-align: right;\">\n",
              "      <th></th>\n",
              "      <th>Close_index</th>\n",
              "      <th>Close Position ID</th>\n",
              "      <th>Close Datetime</th>\n",
              "      <th>Close Date_x</th>\n",
              "      <th>Close Action</th>\n",
              "      <th>Close Units</th>\n",
              "      <th>Close Amount_Eur</th>\n",
              "      <th>Close Rate_Eur</th>\n",
              "      <th>close_unix_timestamp</th>\n",
              "    </tr>\n",
              "  </thead>\n",
              "  <tbody>\n",
              "    <tr>\n",
              "      <th>0</th>\n",
              "      <td>0</td>\n",
              "      <td>599996081</td>\n",
              "      <td>2020-05-01 11:44:24</td>\n",
              "      <td>2020-05-01</td>\n",
              "      <td>Buy Bitcoin</td>\n",
              "      <td>0.014149</td>\n",
              "      <td>115.062682</td>\n",
              "      <td>8194.258482</td>\n",
              "      <td>1588333464</td>\n",
              "    </tr>\n",
              "  </tbody>\n",
              "</table>\n",
              "</div>\n",
              "      <button class=\"colab-df-convert\" onclick=\"convertToInteractive('df-0bad403a-c343-4f54-a3d0-02583cd65073')\"\n",
              "              title=\"Convert this dataframe to an interactive table.\"\n",
              "              style=\"display:none;\">\n",
              "        \n",
              "  <svg xmlns=\"http://www.w3.org/2000/svg\" height=\"24px\"viewBox=\"0 0 24 24\"\n",
              "       width=\"24px\">\n",
              "    <path d=\"M0 0h24v24H0V0z\" fill=\"none\"/>\n",
              "    <path d=\"M18.56 5.44l.94 2.06.94-2.06 2.06-.94-2.06-.94-.94-2.06-.94 2.06-2.06.94zm-11 1L8.5 8.5l.94-2.06 2.06-.94-2.06-.94L8.5 2.5l-.94 2.06-2.06.94zm10 10l.94 2.06.94-2.06 2.06-.94-2.06-.94-.94-2.06-.94 2.06-2.06.94z\"/><path d=\"M17.41 7.96l-1.37-1.37c-.4-.4-.92-.59-1.43-.59-.52 0-1.04.2-1.43.59L10.3 9.45l-7.72 7.72c-.78.78-.78 2.05 0 2.83L4 21.41c.39.39.9.59 1.41.59.51 0 1.02-.2 1.41-.59l7.78-7.78 2.81-2.81c.8-.78.8-2.07 0-2.86zM5.41 20L4 18.59l7.72-7.72 1.47 1.35L5.41 20z\"/>\n",
              "  </svg>\n",
              "      </button>\n",
              "      \n",
              "  <style>\n",
              "    .colab-df-container {\n",
              "      display:flex;\n",
              "      flex-wrap:wrap;\n",
              "      gap: 12px;\n",
              "    }\n",
              "\n",
              "    .colab-df-convert {\n",
              "      background-color: #E8F0FE;\n",
              "      border: none;\n",
              "      border-radius: 50%;\n",
              "      cursor: pointer;\n",
              "      display: none;\n",
              "      fill: #1967D2;\n",
              "      height: 32px;\n",
              "      padding: 0 0 0 0;\n",
              "      width: 32px;\n",
              "    }\n",
              "\n",
              "    .colab-df-convert:hover {\n",
              "      background-color: #E2EBFA;\n",
              "      box-shadow: 0px 1px 2px rgba(60, 64, 67, 0.3), 0px 1px 3px 1px rgba(60, 64, 67, 0.15);\n",
              "      fill: #174EA6;\n",
              "    }\n",
              "\n",
              "    [theme=dark] .colab-df-convert {\n",
              "      background-color: #3B4455;\n",
              "      fill: #D2E3FC;\n",
              "    }\n",
              "\n",
              "    [theme=dark] .colab-df-convert:hover {\n",
              "      background-color: #434B5C;\n",
              "      box-shadow: 0px 1px 3px 1px rgba(0, 0, 0, 0.15);\n",
              "      filter: drop-shadow(0px 1px 2px rgba(0, 0, 0, 0.3));\n",
              "      fill: #FFFFFF;\n",
              "    }\n",
              "  </style>\n",
              "\n",
              "      <script>\n",
              "        const buttonEl =\n",
              "          document.querySelector('#df-0bad403a-c343-4f54-a3d0-02583cd65073 button.colab-df-convert');\n",
              "        buttonEl.style.display =\n",
              "          google.colab.kernel.accessAllowed ? 'block' : 'none';\n",
              "\n",
              "        async function convertToInteractive(key) {\n",
              "          const element = document.querySelector('#df-0bad403a-c343-4f54-a3d0-02583cd65073');\n",
              "          const dataTable =\n",
              "            await google.colab.kernel.invokeFunction('convertToInteractive',\n",
              "                                                     [key], {});\n",
              "          if (!dataTable) return;\n",
              "\n",
              "          const docLinkHtml = 'Like what you see? Visit the ' +\n",
              "            '<a target=\"_blank\" href=https://colab.research.google.com/notebooks/data_table.ipynb>data table notebook</a>'\n",
              "            + ' to learn more about interactive tables.';\n",
              "          element.innerHTML = '';\n",
              "          dataTable['output_type'] = 'display_data';\n",
              "          await google.colab.output.renderOutput(dataTable, element);\n",
              "          const docLink = document.createElement('div');\n",
              "          docLink.innerHTML = docLinkHtml;\n",
              "          element.appendChild(docLink);\n",
              "        }\n",
              "      </script>\n",
              "    </div>\n",
              "  </div>\n",
              "  "
            ]
          },
          "metadata": {},
          "execution_count": 82
        }
      ]
    },
    {
      "cell_type": "code",
      "source": [
        "units_value_open = df_lifo_latsest_last_row.at[0,'Open Units']\n",
        "units_value_open"
      ],
      "metadata": {
        "id": "1x0CicLOxsdU",
        "outputId": "4012a570-3bf9-4ff9-e699-ba0774aa837e",
        "colab": {
          "base_uri": "https://localhost:8080/"
        }
      },
      "execution_count": 94,
      "outputs": [
        {
          "output_type": "execute_result",
          "data": {
            "text/plain": [
              "0.002861"
            ]
          },
          "metadata": {},
          "execution_count": 94
        }
      ]
    },
    {
      "cell_type": "code",
      "source": [
        "df_lifo_latsest_last_row._get_value(0,'Open Units')"
      ],
      "metadata": {
        "id": "Dgn5gZTP2GtX",
        "outputId": "6940ef8c-999d-4bd8-c852-92b633b2e664",
        "colab": {
          "base_uri": "https://localhost:8080/"
        }
      },
      "execution_count": 95,
      "outputs": [
        {
          "output_type": "execute_result",
          "data": {
            "text/plain": [
              "0.002861"
            ]
          },
          "metadata": {},
          "execution_count": 95
        }
      ]
    },
    {
      "cell_type": "code",
      "source": [
        "elementNumber_close_units_btc"
      ],
      "metadata": {
        "id": "7xhXhVan2b6C",
        "outputId": "68c06411-0352-4fda-8269-a7bff347093a",
        "colab": {
          "base_uri": "https://localhost:8080/"
        }
      },
      "execution_count": 96,
      "outputs": [
        {
          "output_type": "execute_result",
          "data": {
            "text/plain": [
              "0.014149"
            ]
          },
          "metadata": {},
          "execution_count": 96
        }
      ]
    },
    {
      "cell_type": "code",
      "source": [
        "df_close_btc[close_unit_index:(close_unit_index+1)].loc[0,'Close Units']"
      ],
      "metadata": {
        "id": "XVVgLYvC2eGv",
        "outputId": "bde64428-3d20-4e0e-aaef-703822543a0b",
        "colab": {
          "base_uri": "https://localhost:8080/"
        }
      },
      "execution_count": 97,
      "outputs": [
        {
          "output_type": "execute_result",
          "data": {
            "text/plain": [
              "0.014149"
            ]
          },
          "metadata": {},
          "execution_count": 97
        }
      ]
    },
    {
      "cell_type": "code",
      "source": [
        "df_new_close_2nd_half[0,'Close Units'] = units_value_open"
      ],
      "metadata": {
        "id": "bxBNcuOtv2aN",
        "outputId": "4cdfdeef-5fdd-4b70-8c4b-d299fa9c552c",
        "colab": {
          "base_uri": "https://localhost:8080/"
        }
      },
      "execution_count": 102,
      "outputs": [
        {
          "output_type": "stream",
          "name": "stderr",
          "text": [
            "<ipython-input-102-572d88aa5779>:1: SettingWithCopyWarning: \n",
            "A value is trying to be set on a copy of a slice from a DataFrame.\n",
            "Try using .loc[row_indexer,col_indexer] = value instead\n",
            "\n",
            "See the caveats in the documentation: https://pandas.pydata.org/pandas-docs/stable/user_guide/indexing.html#returning-a-view-versus-a-copy\n",
            "  df_new_close_2nd_half[0,'Close Units'] = units_value_open\n"
          ]
        }
      ]
    },
    {
      "cell_type": "code",
      "source": [
        "df_new_close_2nd_half"
      ],
      "metadata": {
        "id": "M4LvuXew0qYB",
        "outputId": "1e794405-e401-4f8d-9318-9a8d27cd55dd",
        "colab": {
          "base_uri": "https://localhost:8080/",
          "height": 159
        }
      },
      "execution_count": 103,
      "outputs": [
        {
          "output_type": "execute_result",
          "data": {
            "text/plain": [
              "   Close_index  Close Position ID      Close Datetime Close Date_x  \\\n",
              "0            0          599996081 2020-05-01 11:44:24   2020-05-01   \n",
              "\n",
              "  Close Action  Close Units  Close Amount_Eur  Close Rate_Eur  \\\n",
              "0  Buy Bitcoin     0.014149        115.062682     8194.258482   \n",
              "\n",
              "   close_unix_timestamp  (0, Close Units)  \n",
              "0            1588333464          0.002861  "
            ],
            "text/html": [
              "\n",
              "  <div id=\"df-a1c385f2-d53e-4129-b8b3-0ae662b17b64\">\n",
              "    <div class=\"colab-df-container\">\n",
              "      <div>\n",
              "<style scoped>\n",
              "    .dataframe tbody tr th:only-of-type {\n",
              "        vertical-align: middle;\n",
              "    }\n",
              "\n",
              "    .dataframe tbody tr th {\n",
              "        vertical-align: top;\n",
              "    }\n",
              "\n",
              "    .dataframe thead th {\n",
              "        text-align: right;\n",
              "    }\n",
              "</style>\n",
              "<table border=\"1\" class=\"dataframe\">\n",
              "  <thead>\n",
              "    <tr style=\"text-align: right;\">\n",
              "      <th></th>\n",
              "      <th>Close_index</th>\n",
              "      <th>Close Position ID</th>\n",
              "      <th>Close Datetime</th>\n",
              "      <th>Close Date_x</th>\n",
              "      <th>Close Action</th>\n",
              "      <th>Close Units</th>\n",
              "      <th>Close Amount_Eur</th>\n",
              "      <th>Close Rate_Eur</th>\n",
              "      <th>close_unix_timestamp</th>\n",
              "      <th>(0, Close Units)</th>\n",
              "    </tr>\n",
              "  </thead>\n",
              "  <tbody>\n",
              "    <tr>\n",
              "      <th>0</th>\n",
              "      <td>0</td>\n",
              "      <td>599996081</td>\n",
              "      <td>2020-05-01 11:44:24</td>\n",
              "      <td>2020-05-01</td>\n",
              "      <td>Buy Bitcoin</td>\n",
              "      <td>0.014149</td>\n",
              "      <td>115.062682</td>\n",
              "      <td>8194.258482</td>\n",
              "      <td>1588333464</td>\n",
              "      <td>0.002861</td>\n",
              "    </tr>\n",
              "  </tbody>\n",
              "</table>\n",
              "</div>\n",
              "      <button class=\"colab-df-convert\" onclick=\"convertToInteractive('df-a1c385f2-d53e-4129-b8b3-0ae662b17b64')\"\n",
              "              title=\"Convert this dataframe to an interactive table.\"\n",
              "              style=\"display:none;\">\n",
              "        \n",
              "  <svg xmlns=\"http://www.w3.org/2000/svg\" height=\"24px\"viewBox=\"0 0 24 24\"\n",
              "       width=\"24px\">\n",
              "    <path d=\"M0 0h24v24H0V0z\" fill=\"none\"/>\n",
              "    <path d=\"M18.56 5.44l.94 2.06.94-2.06 2.06-.94-2.06-.94-.94-2.06-.94 2.06-2.06.94zm-11 1L8.5 8.5l.94-2.06 2.06-.94-2.06-.94L8.5 2.5l-.94 2.06-2.06.94zm10 10l.94 2.06.94-2.06 2.06-.94-2.06-.94-.94-2.06-.94 2.06-2.06.94z\"/><path d=\"M17.41 7.96l-1.37-1.37c-.4-.4-.92-.59-1.43-.59-.52 0-1.04.2-1.43.59L10.3 9.45l-7.72 7.72c-.78.78-.78 2.05 0 2.83L4 21.41c.39.39.9.59 1.41.59.51 0 1.02-.2 1.41-.59l7.78-7.78 2.81-2.81c.8-.78.8-2.07 0-2.86zM5.41 20L4 18.59l7.72-7.72 1.47 1.35L5.41 20z\"/>\n",
              "  </svg>\n",
              "      </button>\n",
              "      \n",
              "  <style>\n",
              "    .colab-df-container {\n",
              "      display:flex;\n",
              "      flex-wrap:wrap;\n",
              "      gap: 12px;\n",
              "    }\n",
              "\n",
              "    .colab-df-convert {\n",
              "      background-color: #E8F0FE;\n",
              "      border: none;\n",
              "      border-radius: 50%;\n",
              "      cursor: pointer;\n",
              "      display: none;\n",
              "      fill: #1967D2;\n",
              "      height: 32px;\n",
              "      padding: 0 0 0 0;\n",
              "      width: 32px;\n",
              "    }\n",
              "\n",
              "    .colab-df-convert:hover {\n",
              "      background-color: #E2EBFA;\n",
              "      box-shadow: 0px 1px 2px rgba(60, 64, 67, 0.3), 0px 1px 3px 1px rgba(60, 64, 67, 0.15);\n",
              "      fill: #174EA6;\n",
              "    }\n",
              "\n",
              "    [theme=dark] .colab-df-convert {\n",
              "      background-color: #3B4455;\n",
              "      fill: #D2E3FC;\n",
              "    }\n",
              "\n",
              "    [theme=dark] .colab-df-convert:hover {\n",
              "      background-color: #434B5C;\n",
              "      box-shadow: 0px 1px 3px 1px rgba(0, 0, 0, 0.15);\n",
              "      filter: drop-shadow(0px 1px 2px rgba(0, 0, 0, 0.3));\n",
              "      fill: #FFFFFF;\n",
              "    }\n",
              "  </style>\n",
              "\n",
              "      <script>\n",
              "        const buttonEl =\n",
              "          document.querySelector('#df-a1c385f2-d53e-4129-b8b3-0ae662b17b64 button.colab-df-convert');\n",
              "        buttonEl.style.display =\n",
              "          google.colab.kernel.accessAllowed ? 'block' : 'none';\n",
              "\n",
              "        async function convertToInteractive(key) {\n",
              "          const element = document.querySelector('#df-a1c385f2-d53e-4129-b8b3-0ae662b17b64');\n",
              "          const dataTable =\n",
              "            await google.colab.kernel.invokeFunction('convertToInteractive',\n",
              "                                                     [key], {});\n",
              "          if (!dataTable) return;\n",
              "\n",
              "          const docLinkHtml = 'Like what you see? Visit the ' +\n",
              "            '<a target=\"_blank\" href=https://colab.research.google.com/notebooks/data_table.ipynb>data table notebook</a>'\n",
              "            + ' to learn more about interactive tables.';\n",
              "          element.innerHTML = '';\n",
              "          dataTable['output_type'] = 'display_data';\n",
              "          await google.colab.output.renderOutput(dataTable, element);\n",
              "          const docLink = document.createElement('div');\n",
              "          docLink.innerHTML = docLinkHtml;\n",
              "          element.appendChild(docLink);\n",
              "        }\n",
              "      </script>\n",
              "    </div>\n",
              "  </div>\n",
              "  "
            ]
          },
          "metadata": {},
          "execution_count": 103
        }
      ]
    },
    {
      "cell_type": "code",
      "source": [
        "current_close_amount = df_new_close_2nd_half.at[0, 'Close Amount_Eur']\n",
        "current_close_amount"
      ],
      "metadata": {
        "id": "Gg_UpSN65chZ",
        "outputId": "d3dea80f-1b14-4f75-a003-a4805ab12960",
        "colab": {
          "base_uri": "https://localhost:8080/"
        }
      },
      "execution_count": 104,
      "outputs": [
        {
          "output_type": "execute_result",
          "data": {
            "text/plain": [
              "115.062682"
            ]
          },
          "metadata": {},
          "execution_count": 104
        }
      ]
    },
    {
      "cell_type": "code",
      "source": [
        "#close_amount = close rate * close units\n"
      ],
      "metadata": {
        "id": "Ne-mqKDh6O85"
      },
      "execution_count": null,
      "outputs": []
    },
    {
      "cell_type": "code",
      "source": [
        "close_amount_corresponding_to_close_units_above = current_close_amount"
      ],
      "metadata": {
        "id": "1KEp1sfJ2xeB"
      },
      "execution_count": null,
      "outputs": []
    },
    {
      "cell_type": "code",
      "source": [
        "df_new_close_2nd_half[0,'Close Amount_Eur']"
      ],
      "metadata": {
        "id": "8i1dznej1h57"
      },
      "execution_count": null,
      "outputs": []
    }
  ]
}